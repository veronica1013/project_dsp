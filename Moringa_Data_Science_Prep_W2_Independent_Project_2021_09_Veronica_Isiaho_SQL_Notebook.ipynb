{
  "nbformat": 4,
  "nbformat_minor": 0,
  "metadata": {
    "colab": {
      "name": "Moringa_Data_Science_Prep_W2_Independent_Project_2021_09_Veronica_Isiaho_SQL_Notebook.ipynb",
      "provenance": [],
      "collapsed_sections": [],
      "mount_file_id": "1HpBOfkCrv-eksbs9FDZc02r09vb3b2o6",
      "authorship_tag": "ABX9TyOFUMhm9eZHqUOMCE1qhVGH",
      "include_colab_link": true
    },
    "kernelspec": {
      "name": "python3",
      "display_name": "Python 3"
    }
  },
  "cells": [
    {
      "cell_type": "markdown",
      "metadata": {
        "id": "view-in-github",
        "colab_type": "text"
      },
      "source": [
        "<a href=\"https://colab.research.google.com/github/veronica1013/project_dsp/blob/main/Moringa_Data_Science_Prep_W2_Independent_Project_2021_09_Veronica_Isiaho_SQL_Notebook.ipynb\" target=\"_parent\"><img src=\"https://colab.research.google.com/assets/colab-badge.svg\" alt=\"Open In Colab\"/></a>"
      ]
    },
    {
      "cell_type": "markdown",
      "metadata": {
        "id": "FIrwbVqsmgVR"
      },
      "source": [
        "# Import drive"
      ]
    },
    {
      "cell_type": "code",
      "metadata": {
        "colab": {
          "base_uri": "https://localhost:8080/"
        },
        "id": "YaYpfV40luQ2",
        "outputId": "37c14a27-2380-4c56-aa3a-a1c3f6ed6c21"
      },
      "source": [
        "from google.colab import drive\n",
        "drive.mount('/content/drive')"
      ],
      "execution_count": null,
      "outputs": [
        {
          "output_type": "stream",
          "text": [
            "Drive already mounted at /content/drive; to attempt to forcibly remount, call drive.mount(\"/content/drive\", force_remount=True).\n"
          ],
          "name": "stdout"
        }
      ]
    },
    {
      "cell_type": "markdown",
      "metadata": {
        "id": "-7s7ebukmSC5"
      },
      "source": [
        "# Load SQL Extension "
      ]
    },
    {
      "cell_type": "code",
      "metadata": {
        "id": "Ri5aWBZpceYv"
      },
      "source": [
        "%load_ext sql"
      ],
      "execution_count": null,
      "outputs": []
    },
    {
      "cell_type": "code",
      "metadata": {
        "colab": {
          "base_uri": "https://localhost:8080/",
          "height": 35
        },
        "id": "FIKPb2NwmawK",
        "outputId": "ea1c4988-d0e3-48f3-e20f-54bf2035eff5"
      },
      "source": [
        "%sql sqlite://"
      ],
      "execution_count": null,
      "outputs": [
        {
          "output_type": "execute_result",
          "data": {
            "application/vnd.google.colaboratory.intrinsic+json": {
              "type": "string"
            },
            "text/plain": [
              "'Connected: @None'"
            ]
          },
          "metadata": {
            "tags": []
          },
          "execution_count": 3
        }
      ]
    },
    {
      "cell_type": "markdown",
      "metadata": {
        "id": "uCd0x6zYmvkD"
      },
      "source": [
        "# Import the CSV and Pandas"
      ]
    },
    {
      "cell_type": "code",
      "metadata": {
        "id": "goM8yku3mmjE"
      },
      "source": [
        "import csv"
      ],
      "execution_count": null,
      "outputs": []
    },
    {
      "cell_type": "code",
      "metadata": {
        "id": "ywzPbVdRmtt0"
      },
      "source": [
        "import pandas as pd"
      ],
      "execution_count": null,
      "outputs": []
    },
    {
      "cell_type": "code",
      "metadata": {
        "id": "LiwRjtyMnDk5"
      },
      "source": [
        "# Go to Colab drive, in the relevant file folder and\r\n",
        "#Click on the three dots to copy the file path for Grand Electors by State and Population by State then write below:\r\n",
        "\r\n",
        "GrandElectors_By_State = pd.read_csv('/content/drive/MyDrive/Colab Notebooks/Week_2_Independent_Project/GrandElectors_by_state.csv')\r\n",
        "Population_By_State = pd.read_csv('/content/drive/MyDrive/Colab Notebooks/Week_2_Independent_Project/Population_by_state.csv')"
      ],
      "execution_count": null,
      "outputs": []
    },
    {
      "cell_type": "code",
      "metadata": {
        "colab": {
          "base_uri": "https://localhost:8080/",
          "height": 88
        },
        "id": "D_MmtV4roWtN",
        "outputId": "1db80e85-4e67-48f9-8e78-86050e1d6cf0"
      },
      "source": [
        "%sql DROP TABLE if EXISTS GrandElectors_By_State;\r\n",
        "%sql PERSIST GrandElectors_By_State;"
      ],
      "execution_count": null,
      "outputs": [
        {
          "output_type": "stream",
          "text": [
            " * sqlite://\n",
            "Done.\n",
            " * sqlite://\n"
          ],
          "name": "stdout"
        },
        {
          "output_type": "execute_result",
          "data": {
            "application/vnd.google.colaboratory.intrinsic+json": {
              "type": "string"
            },
            "text/plain": [
              "'Persisted grandelectors_by_state'"
            ]
          },
          "metadata": {
            "tags": []
          },
          "execution_count": 7
        }
      ]
    },
    {
      "cell_type": "code",
      "metadata": {
        "colab": {
          "base_uri": "https://localhost:8080/",
          "height": 88
        },
        "id": "xNb3BVbeofEp",
        "outputId": "27bdaff4-48f0-4c43-8a25-fc030b74c2dd"
      },
      "source": [
        "%sql DROP TABLE if EXISTS Population_By_State;\r\n",
        "%sql PERSIST Population_By_State;"
      ],
      "execution_count": null,
      "outputs": [
        {
          "output_type": "stream",
          "text": [
            " * sqlite://\n",
            "Done.\n",
            " * sqlite://\n"
          ],
          "name": "stdout"
        },
        {
          "output_type": "execute_result",
          "data": {
            "application/vnd.google.colaboratory.intrinsic+json": {
              "type": "string"
            },
            "text/plain": [
              "'Persisted population_by_state'"
            ]
          },
          "metadata": {
            "tags": []
          },
          "execution_count": 8
        }
      ]
    },
    {
      "cell_type": "markdown",
      "metadata": {
        "id": "0gP04Hiqm6cU"
      },
      "source": [
        "# Cast state names from lower to upper case in grand electors tables and create a new table called GrandElectorsPopulation "
      ]
    },
    {
      "cell_type": "code",
      "metadata": {
        "colab": {
          "base_uri": "https://localhost:8080/"
        },
        "id": "6fsMKXjM5gLI",
        "outputId": "f0673cb0-d60d-4c06-cc16-cf3b0f002336"
      },
      "source": [
        "# 1. Cast grand electors tables' state names from lower case to upper case.\r\n",
        "# 2. Join Population table to grand electors table by state name.\r\n",
        "# 3. Create a new table and name it GrandElectorsPopulation.\r\n",
        "\r\n",
        "%%sql\r\n",
        "CREATE TABLE GrandElectorsPopulation AS SELECT table_a.State, table_a.GrandElectors, table_b.Population FROM (\r\n",
        "    SELECT UPPER(State) AS State, GrandElectors\r\n",
        "    FROM GrandElectors_By_State\r\n",
        ") AS table_a\r\n",
        "JOIN Population_By_State AS table_b ON table_b.State = table_a.State;"
      ],
      "execution_count": null,
      "outputs": [
        {
          "output_type": "stream",
          "text": [
            " * sqlite://\n",
            "Done.\n"
          ],
          "name": "stdout"
        },
        {
          "output_type": "execute_result",
          "data": {
            "text/plain": [
              "[]"
            ]
          },
          "metadata": {
            "tags": []
          },
          "execution_count": 9
        }
      ]
    },
    {
      "cell_type": "code",
      "metadata": {
        "colab": {
          "base_uri": "https://localhost:8080/",
          "height": 179
        },
        "id": "-uihuvsjv1dH",
        "outputId": "940a8df1-9ac5-42be-8d17-05d8ea8d6e87"
      },
      "source": [
        "# Select 5 rows from the GrandElectorsPopulation table\r\n",
        "\r\n",
        "%%sql\r\n",
        "SELECT * FROM GrandElectorsPopulation LIMIT 5;"
      ],
      "execution_count": null,
      "outputs": [
        {
          "output_type": "stream",
          "text": [
            " * sqlite://\n",
            "Done.\n"
          ],
          "name": "stdout"
        },
        {
          "output_type": "execute_result",
          "data": {
            "text/html": [
              "<table>\n",
              "    <thead>\n",
              "        <tr>\n",
              "            <th>State</th>\n",
              "            <th>GrandElectors</th>\n",
              "            <th>Population</th>\n",
              "        </tr>\n",
              "    </thead>\n",
              "    <tbody>\n",
              "        <tr>\n",
              "            <td>ALABAMA</td>\n",
              "            <td>9</td>\n",
              "            <td>4858979</td>\n",
              "        </tr>\n",
              "        <tr>\n",
              "            <td>ALASKA</td>\n",
              "            <td>3</td>\n",
              "            <td>738432</td>\n",
              "        </tr>\n",
              "        <tr>\n",
              "            <td>ARIZONA</td>\n",
              "            <td>11</td>\n",
              "            <td>6828065</td>\n",
              "        </tr>\n",
              "        <tr>\n",
              "            <td>ARKANSAS</td>\n",
              "            <td>6</td>\n",
              "            <td>2978204</td>\n",
              "        </tr>\n",
              "        <tr>\n",
              "            <td>CALIFORNIA</td>\n",
              "            <td>55</td>\n",
              "            <td>39144818</td>\n",
              "        </tr>\n",
              "    </tbody>\n",
              "</table>"
            ],
            "text/plain": [
              "[('ALABAMA', 9, 4858979),\n",
              " ('ALASKA', 3, 738432),\n",
              " ('ARIZONA', 11, 6828065),\n",
              " ('ARKANSAS', 6, 2978204),\n",
              " ('CALIFORNIA', 55, 39144818)]"
            ]
          },
          "metadata": {
            "tags": []
          },
          "execution_count": 10
        }
      ]
    },
    {
      "cell_type": "markdown",
      "metadata": {
        "id": "qZVzU-Ogogpz"
      },
      "source": [
        "# Update the name of District of Columbia to DC"
      ]
    },
    {
      "cell_type": "code",
      "metadata": {
        "colab": {
          "base_uri": "https://localhost:8080/",
          "height": 113
        },
        "id": "WFVJ5PaS1mdH",
        "outputId": "acc2aebb-c6f8-4edf-c426-630a62fd1230"
      },
      "source": [
        "# 1. Update the name of District of Columbia to DC\r\n",
        "# 2. Select from the GrandElectorsPopulation table where state is DC\r\n",
        "\r\n",
        "%%sql\r\n",
        "UPDATE GrandElectorsPopulation SET State = 'DC' WHERE State = 'DISTRICT OF COLUMBIA';\r\n",
        "SELECT * FROM GrandElectorsPopulation WHERE State = 'DC';"
      ],
      "execution_count": null,
      "outputs": [
        {
          "output_type": "stream",
          "text": [
            " * sqlite://\n",
            "1 rows affected.\n",
            "Done.\n"
          ],
          "name": "stdout"
        },
        {
          "output_type": "execute_result",
          "data": {
            "text/html": [
              "<table>\n",
              "    <thead>\n",
              "        <tr>\n",
              "            <th>State</th>\n",
              "            <th>GrandElectors</th>\n",
              "            <th>Population</th>\n",
              "        </tr>\n",
              "    </thead>\n",
              "    <tbody>\n",
              "        <tr>\n",
              "            <td>DC</td>\n",
              "            <td>3</td>\n",
              "            <td>672228</td>\n",
              "        </tr>\n",
              "    </tbody>\n",
              "</table>"
            ],
            "text/plain": [
              "[('DC', 3, 672228)]"
            ]
          },
          "metadata": {
            "tags": []
          },
          "execution_count": 11
        }
      ]
    },
    {
      "cell_type": "code",
      "metadata": {
        "colab": {
          "base_uri": "https://localhost:8080/"
        },
        "id": "pOA0XE3RsSb5",
        "outputId": "2334cbb1-5318-4081-d3e2-f3e49a782ab3"
      },
      "source": [
        "# Add float column to the GrandElectorsPopulation table\r\n",
        "\r\n",
        "%%sql\r\n",
        "ALTER TABLE GrandElectorsPopulation ADD COLUMN GPRatio float(10);"
      ],
      "execution_count": null,
      "outputs": [
        {
          "output_type": "stream",
          "text": [
            " * sqlite://\n",
            "Done.\n"
          ],
          "name": "stdout"
        },
        {
          "output_type": "execute_result",
          "data": {
            "text/plain": [
              "[]"
            ]
          },
          "metadata": {
            "tags": []
          },
          "execution_count": 12
        }
      ]
    },
    {
      "cell_type": "code",
      "metadata": {
        "colab": {
          "base_uri": "https://localhost:8080/"
        },
        "id": "eoQrgMJewa8F",
        "outputId": "1006d68e-b800-4e85-ca49-d133a9ba4f2e"
      },
      "source": [
        "# Update GPRatio column with computed ratio between grand electors and population\r\n",
        "\r\n",
        "%%sql\r\n",
        "UPDATE GrandElectorsPopulation SET GPRatio = Population/GrandElectors;"
      ],
      "execution_count": null,
      "outputs": [
        {
          "output_type": "stream",
          "text": [
            " * sqlite://\n",
            "51 rows affected.\n"
          ],
          "name": "stdout"
        },
        {
          "output_type": "execute_result",
          "data": {
            "text/plain": [
              "[]"
            ]
          },
          "metadata": {
            "tags": []
          },
          "execution_count": 13
        }
      ]
    },
    {
      "cell_type": "code",
      "metadata": {
        "colab": {
          "base_uri": "https://localhost:8080/",
          "height": 179
        },
        "id": "sDIPKT3gybQn",
        "outputId": "75b55145-4970-49d6-ef98-4c458b4d5189"
      },
      "source": [
        "# Order the states by decreasing GPRatio column\r\n",
        "\r\n",
        "%%sql\r\n",
        "SELECT * FROM GrandElectorsPopulation ORDER BY GPRatio DESC LIMIT 5;"
      ],
      "execution_count": null,
      "outputs": [
        {
          "output_type": "stream",
          "text": [
            " * sqlite://\n",
            "Done.\n"
          ],
          "name": "stdout"
        },
        {
          "output_type": "execute_result",
          "data": {
            "text/html": [
              "<table>\n",
              "    <thead>\n",
              "        <tr>\n",
              "            <th>State</th>\n",
              "            <th>GrandElectors</th>\n",
              "            <th>Population</th>\n",
              "            <th>GPRatio</th>\n",
              "        </tr>\n",
              "    </thead>\n",
              "    <tbody>\n",
              "        <tr>\n",
              "            <td>TEXAS</td>\n",
              "            <td>38</td>\n",
              "            <td>27469114</td>\n",
              "            <td>722871.0</td>\n",
              "        </tr>\n",
              "        <tr>\n",
              "            <td>CALIFORNIA</td>\n",
              "            <td>55</td>\n",
              "            <td>39144818</td>\n",
              "            <td>711723.0</td>\n",
              "        </tr>\n",
              "        <tr>\n",
              "            <td>FLORIDA</td>\n",
              "            <td>29</td>\n",
              "            <td>20271272</td>\n",
              "            <td>699009.0</td>\n",
              "        </tr>\n",
              "        <tr>\n",
              "            <td>NEW YORK</td>\n",
              "            <td>29</td>\n",
              "            <td>19795791</td>\n",
              "            <td>682613.0</td>\n",
              "        </tr>\n",
              "        <tr>\n",
              "            <td>NORTH CAROLINA</td>\n",
              "            <td>15</td>\n",
              "            <td>10042802</td>\n",
              "            <td>669520.0</td>\n",
              "        </tr>\n",
              "    </tbody>\n",
              "</table>"
            ],
            "text/plain": [
              "[('TEXAS', 38, 27469114, 722871.0),\n",
              " ('CALIFORNIA', 55, 39144818, 711723.0),\n",
              " ('FLORIDA', 29, 20271272, 699009.0),\n",
              " ('NEW YORK', 29, 19795791, 682613.0),\n",
              " ('NORTH CAROLINA', 15, 10042802, 669520.0)]"
            ]
          },
          "metadata": {
            "tags": []
          },
          "execution_count": 14
        }
      ]
    },
    {
      "cell_type": "code",
      "metadata": {
        "colab": {
          "base_uri": "https://localhost:8080/",
          "height": 96
        },
        "id": "hvsJsGMrz0Y2",
        "outputId": "755e8102-db7e-445d-fb35-9daf91f9213a"
      },
      "source": [
        "# Compute the running total of Grand Electors in that sorted list\r\n",
        "\r\n",
        "%%sql\r\n",
        "SELECT\r\n",
        "  SUM(GrandElectors)  \r\n",
        "FROM\r\n",
        "  GrandElectorsPopulation;"
      ],
      "execution_count": null,
      "outputs": [
        {
          "output_type": "stream",
          "text": [
            " * sqlite://\n",
            "Done.\n"
          ],
          "name": "stdout"
        },
        {
          "output_type": "execute_result",
          "data": {
            "text/html": [
              "<table>\n",
              "    <thead>\n",
              "        <tr>\n",
              "            <th>SUM(GrandElectors)</th>\n",
              "        </tr>\n",
              "    </thead>\n",
              "    <tbody>\n",
              "        <tr>\n",
              "            <td>538</td>\n",
              "        </tr>\n",
              "    </tbody>\n",
              "</table>"
            ],
            "text/plain": [
              "[(538,)]"
            ]
          },
          "metadata": {
            "tags": []
          },
          "execution_count": 15
        }
      ]
    },
    {
      "cell_type": "code",
      "metadata": {
        "id": "BxSUiLxm_Q9a",
        "colab": {
          "base_uri": "https://localhost:8080/",
          "height": 96
        },
        "outputId": "ffc09739-33f0-41e0-a244-f3a1617324a9"
      },
      "source": [
        "# To compute the half of the total of Grand Electors overall (in the whole country)\r\n",
        "\r\n",
        "%%sql\r\n",
        "SELECT\r\n",
        "  SUM(GrandElectors)/2  \r\n",
        "FROM\r\n",
        "  GrandElectorsPopulation;\r\n",
        "\r\n"
      ],
      "execution_count": null,
      "outputs": [
        {
          "output_type": "stream",
          "text": [
            " * sqlite://\n",
            "Done.\n"
          ],
          "name": "stdout"
        },
        {
          "output_type": "execute_result",
          "data": {
            "text/html": [
              "<table>\n",
              "    <thead>\n",
              "        <tr>\n",
              "            <th>SUM(GrandElectors)/2</th>\n",
              "        </tr>\n",
              "    </thead>\n",
              "    <tbody>\n",
              "        <tr>\n",
              "            <td>269</td>\n",
              "        </tr>\n",
              "    </tbody>\n",
              "</table>"
            ],
            "text/plain": [
              "[(269,)]"
            ]
          },
          "metadata": {
            "tags": []
          },
          "execution_count": 16
        }
      ]
    },
    {
      "cell_type": "code",
      "metadata": {
        "colab": {
          "base_uri": "https://localhost:8080/",
          "height": 325
        },
        "id": "6lfdfA1lYjn0",
        "outputId": "f4ca84df-87c4-4036-e4e3-121b8a630f03"
      },
      "source": [
        "# To filter sorted list of states in order to keep only the (top) ones\r\n",
        "# To reach the computed threshold of 269\r\n",
        "\r\n",
        "%%sql\r\n",
        "SELECT * FROM GrandElectorsPopulation ORDER BY GrandElectors DESC LIMIT 12 \r\n"
      ],
      "execution_count": null,
      "outputs": [
        {
          "output_type": "stream",
          "text": [
            " * sqlite://\n",
            "Done.\n"
          ],
          "name": "stdout"
        },
        {
          "output_type": "execute_result",
          "data": {
            "text/html": [
              "<table>\n",
              "    <thead>\n",
              "        <tr>\n",
              "            <th>State</th>\n",
              "            <th>GrandElectors</th>\n",
              "            <th>Population</th>\n",
              "            <th>GPRatio</th>\n",
              "        </tr>\n",
              "    </thead>\n",
              "    <tbody>\n",
              "        <tr>\n",
              "            <td>CALIFORNIA</td>\n",
              "            <td>55</td>\n",
              "            <td>39144818</td>\n",
              "            <td>711723.0</td>\n",
              "        </tr>\n",
              "        <tr>\n",
              "            <td>TEXAS</td>\n",
              "            <td>38</td>\n",
              "            <td>27469114</td>\n",
              "            <td>722871.0</td>\n",
              "        </tr>\n",
              "        <tr>\n",
              "            <td>FLORIDA</td>\n",
              "            <td>29</td>\n",
              "            <td>20271272</td>\n",
              "            <td>699009.0</td>\n",
              "        </tr>\n",
              "        <tr>\n",
              "            <td>NEW YORK</td>\n",
              "            <td>29</td>\n",
              "            <td>19795791</td>\n",
              "            <td>682613.0</td>\n",
              "        </tr>\n",
              "        <tr>\n",
              "            <td>ILLINOIS</td>\n",
              "            <td>20</td>\n",
              "            <td>12859995</td>\n",
              "            <td>642999.0</td>\n",
              "        </tr>\n",
              "        <tr>\n",
              "            <td>PENNSYLVANIA</td>\n",
              "            <td>20</td>\n",
              "            <td>12802503</td>\n",
              "            <td>640125.0</td>\n",
              "        </tr>\n",
              "        <tr>\n",
              "            <td>OHIO</td>\n",
              "            <td>18</td>\n",
              "            <td>11613423</td>\n",
              "            <td>645190.0</td>\n",
              "        </tr>\n",
              "        <tr>\n",
              "            <td>GEORGIA</td>\n",
              "            <td>16</td>\n",
              "            <td>10214860</td>\n",
              "            <td>638428.0</td>\n",
              "        </tr>\n",
              "        <tr>\n",
              "            <td>MICHIGAN</td>\n",
              "            <td>16</td>\n",
              "            <td>9922576</td>\n",
              "            <td>620161.0</td>\n",
              "        </tr>\n",
              "        <tr>\n",
              "            <td>NORTH CAROLINA</td>\n",
              "            <td>15</td>\n",
              "            <td>10042802</td>\n",
              "            <td>669520.0</td>\n",
              "        </tr>\n",
              "        <tr>\n",
              "            <td>NEW JERSEY</td>\n",
              "            <td>14</td>\n",
              "            <td>8958013</td>\n",
              "            <td>639858.0</td>\n",
              "        </tr>\n",
              "        <tr>\n",
              "            <td>VIRGINIA</td>\n",
              "            <td>13</td>\n",
              "            <td>8382993</td>\n",
              "            <td>644845.0</td>\n",
              "        </tr>\n",
              "    </tbody>\n",
              "</table>"
            ],
            "text/plain": [
              "[('CALIFORNIA', 55, 39144818, 711723.0),\n",
              " ('TEXAS', 38, 27469114, 722871.0),\n",
              " ('FLORIDA', 29, 20271272, 699009.0),\n",
              " ('NEW YORK', 29, 19795791, 682613.0),\n",
              " ('ILLINOIS', 20, 12859995, 642999.0),\n",
              " ('PENNSYLVANIA', 20, 12802503, 640125.0),\n",
              " ('OHIO', 18, 11613423, 645190.0),\n",
              " ('GEORGIA', 16, 10214860, 638428.0),\n",
              " ('MICHIGAN', 16, 9922576, 620161.0),\n",
              " ('NORTH CAROLINA', 15, 10042802, 669520.0),\n",
              " ('NEW JERSEY', 14, 8958013, 639858.0),\n",
              " ('VIRGINIA', 13, 8382993, 644845.0)]"
            ]
          },
          "metadata": {
            "tags": []
          },
          "execution_count": 17
        }
      ]
    },
    {
      "cell_type": "markdown",
      "metadata": {
        "id": "2A19TaEbni29"
      },
      "source": [
        "# Recommendation"
      ]
    },
    {
      "cell_type": "code",
      "metadata": {
        "id": "wOBi6adLnvAS"
      },
      "source": [
        "# From the above workings, it is evident enough that the top 12 states with highest number of electors are the point of target for a candidate to win the US elections by garnering 283 votes from grand electors"
      ],
      "execution_count": null,
      "outputs": []
    }
  ]
}