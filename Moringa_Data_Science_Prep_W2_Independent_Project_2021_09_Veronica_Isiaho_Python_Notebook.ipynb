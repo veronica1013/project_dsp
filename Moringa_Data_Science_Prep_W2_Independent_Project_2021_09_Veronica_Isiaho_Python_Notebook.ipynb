{
  "nbformat": 4,
  "nbformat_minor": 0,
  "metadata": {
    "colab": {
      "name": "Moringa_Data_Science_Prep_W2_Independent_Project_2021_09_Veronica_Isiaho_Python_Notebook.ipynb",
      "provenance": [],
      "collapsed_sections": [],
      "authorship_tag": "ABX9TyNKpXW6Gp+vvWvm7xMIhQoE",
      "include_colab_link": true
    },
    "kernelspec": {
      "name": "python3",
      "display_name": "Python 3"
    }
  },
  "cells": [
    {
      "cell_type": "markdown",
      "metadata": {
        "id": "view-in-github",
        "colab_type": "text"
      },
      "source": [
        "<a href=\"https://colab.research.google.com/github/veronica1013/project_dsp/blob/main/Moringa_Data_Science_Prep_W2_Independent_Project_2021_09_Veronica_Isiaho_Python_Notebook.ipynb\" target=\"_parent\"><img src=\"https://colab.research.google.com/assets/colab-badge.svg\" alt=\"Open In Colab\"/></a>"
      ]
    },
    {
      "cell_type": "markdown",
      "metadata": {
        "id": "Y2Wdm5itTpYx"
      },
      "source": [
        "# Creating a contact_book dictionary with given [contacts as keys and values](https://moringaschool.instructure.com/courses/353/pages/friday-independent-project-week-2?module_item_id=27724)"
      ]
    },
    {
      "cell_type": "code",
      "metadata": {
        "colab": {
          "base_uri": "https://localhost:8080/"
        },
        "id": "jvoeJlcOSVJr",
        "outputId": "d7e43fd1-86e6-49e2-ade5-1995216e4a74"
      },
      "source": [
        "contact_book = {\r\n",
        "    'Parul' : 'parul@moringa.org',\r\n",
        "    'Thomas' : 'thomas@moringa.org',\r\n",
        "    'Ashley' : 'ashley@moringa.org',\r\n",
        "    'Kellen' : 'kellen@moringa.org',\r\n",
        "    'June' : 'june@moringa.org',\r\n",
        "    'Joseph' : 'joe@moringa.org',\r\n",
        "    'Lillian' : 'lillian@moringa.org',\r\n",
        "    'Arnold' : 'arnold@moringa.org' \r\n",
        "}\r\n",
        "\r\n",
        "print(contact_book)"
      ],
      "execution_count": 1,
      "outputs": [
        {
          "output_type": "stream",
          "text": [
            "{'Parul': 'parul@moringa.org', 'Thomas': 'thomas@moringa.org', 'Ashley': 'ashley@moringa.org', 'Kellen': 'kellen@moringa.org', 'June': 'june@moringa.org', 'Joseph': 'joe@moringa.org', 'Lillian': 'lillian@moringa.org', 'Arnold': 'arnold@moringa.org'}\n"
          ],
          "name": "stdout"
        }
      ]
    },
    {
      "cell_type": "markdown",
      "metadata": {
        "id": "CJLL7Jk8TqSf"
      },
      "source": [
        ""
      ]
    },
    {
      "cell_type": "code",
      "metadata": {
        "colab": {
          "base_uri": "https://localhost:8080/"
        },
        "id": "fhEVQ2JO66vs",
        "outputId": "2b3ee9eb-29e7-4405-bb49-fc26733b1679"
      },
      "source": [
        "# Delete a contact from the dictionary when the user specifies the its key\r\n",
        "\r\n",
        "def delete_contact(key):\r\n",
        "  del contact_book[key]\r\n",
        "\r\n",
        "delete_contact('Thomas')\r\n",
        "print(contact_book)"
      ],
      "execution_count": 2,
      "outputs": [
        {
          "output_type": "stream",
          "text": [
            "{'Parul': 'parul@moringa.org', 'Ashley': 'ashley@moringa.org', 'Kellen': 'kellen@moringa.org', 'June': 'june@moringa.org', 'Joseph': 'joe@moringa.org', 'Lillian': 'lillian@moringa.org', 'Arnold': 'arnold@moringa.org'}\n"
          ],
          "name": "stdout"
        }
      ]
    },
    {
      "cell_type": "code",
      "metadata": {
        "colab": {
          "base_uri": "https://localhost:8080/"
        },
        "id": "sjGig9kf9CeV",
        "outputId": "f0cb8fb6-5ec6-4e0e-b7d8-eb3c2011c81e"
      },
      "source": [
        "#  Print out the first 2 contacts\r\n",
        "\r\n",
        "for index, contacts in enumerate(contact_book.items()):\r\n",
        "  if index < 2:\r\n",
        "    print(contacts)"
      ],
      "execution_count": 3,
      "outputs": [
        {
          "output_type": "stream",
          "text": [
            "('Parul', 'parul@moringa.org')\n",
            "('Ashley', 'ashley@moringa.org')\n"
          ],
          "name": "stdout"
        }
      ]
    },
    {
      "cell_type": "code",
      "metadata": {
        "colab": {
          "base_uri": "https://localhost:8080/"
        },
        "id": "UxKlz5hIALnI",
        "outputId": "30d126c1-d9bb-41c3-b867-e583cb293abb"
      },
      "source": [
        "# Display the total no. of contacts left in the dictionary\r\n",
        "\r\n",
        "len(contact_book)"
      ],
      "execution_count": 4,
      "outputs": [
        {
          "output_type": "execute_result",
          "data": {
            "text/plain": [
              "7"
            ]
          },
          "metadata": {
            "tags": []
          },
          "execution_count": 4
        }
      ]
    },
    {
      "cell_type": "code",
      "metadata": {
        "id": "yjWb9EEZAiFp"
      },
      "source": [
        "# Add 2 new contacts in the dictionary\r\n",
        "\r\n",
        "contact_book['John'] = 'john.doe@gmail.com'\r\n",
        "contact_book['Judy'] = 'judy.gem@gmail.com'"
      ],
      "execution_count": 5,
      "outputs": []
    },
    {
      "cell_type": "code",
      "metadata": {
        "colab": {
          "base_uri": "https://localhost:8080/"
        },
        "id": "BS-ctmsPIxRL",
        "outputId": "7dea9918-4a14-4f41-b2ca-65e37f5629ea"
      },
      "source": [
        "# Print out all the contacts\r\n",
        "print(contact_book)"
      ],
      "execution_count": 6,
      "outputs": [
        {
          "output_type": "stream",
          "text": [
            "{'Parul': 'parul@moringa.org', 'Ashley': 'ashley@moringa.org', 'Kellen': 'kellen@moringa.org', 'June': 'june@moringa.org', 'Joseph': 'joe@moringa.org', 'Lillian': 'lillian@moringa.org', 'Arnold': 'arnold@moringa.org', 'John': 'john.doe@gmail.com', 'Judy': 'judy.gem@gmail.com'}\n"
          ],
          "name": "stdout"
        }
      ]
    }
  ]
}