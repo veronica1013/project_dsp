{
  "nbformat": 4,
  "nbformat_minor": 0,
  "metadata": {
    "colab": {
      "name": "Moringa_Data_Science_Prep_W1_Independent_Project_2021_09_Veronica_Isiaho_Python_Notebook.ipynb",
      "provenance": [],
      "collapsed_sections": [],
      "toc_visible": true,
      "mount_file_id": "1z4aqGqmnMlimP75QHcZvOWYuOw0E2fZw",
      "authorship_tag": "ABX9TyPTUYx5GvN6hqjWe4/i3VNo",
      "include_colab_link": true
    },
    "kernelspec": {
      "name": "python3",
      "display_name": "Python 3"
    }
  },
  "cells": [
    {
      "cell_type": "markdown",
      "metadata": {
        "id": "view-in-github",
        "colab_type": "text"
      },
      "source": [
        "<a href=\"https://colab.research.google.com/github/veronica1013/project_dsp/blob/main/Moringa_Data_Science_Prep_W1_Independent_Project_2021_09_Veronica_Isiaho_Python_Notebook.ipynb\" target=\"_parent\"><img src=\"https://colab.research.google.com/assets/colab-badge.svg\" alt=\"Open In Colab\"/></a>"
      ]
    },
    {
      "cell_type": "code",
      "metadata": {
        "id": "w5ETsLPmkN9o"
      },
      "source": [
        ""
      ],
      "execution_count": null,
      "outputs": []
    },
    {
      "cell_type": "markdown",
      "metadata": {
        "id": "m6cTtNyWnjjk"
      },
      "source": [
        "# Part 2: Python Programming"
      ]
    },
    {
      "cell_type": "markdown",
      "metadata": {
        "id": "5V95CW_3nzqw"
      },
      "source": [
        "# Create Python Programs \r\n"
      ]
    },
    {
      "cell_type": "markdown",
      "metadata": {
        "id": "SObftfiMltuj"
      },
      "source": [
        "# 1. Take in two values from a user (both in pounds) then convert those values to kilograms."
      ]
    },
    {
      "cell_type": "code",
      "metadata": {
        "colab": {
          "base_uri": "https://localhost:8080/"
        },
        "id": "FppLjWYIp2gF",
        "outputId": "4af542f8-6b16-4e88-dc05-1346eec74b4b"
      },
      "source": [
        "#Use input function to take two values from a user (both in pounds)\r\n",
        "#Let first value (x) be 530 and second value (y) be 670\r\n",
        "x = int(input(\"Enter the fist value in pounds: \"))\r\n",
        "y = int(input(\"Enter the second value in pounds: \"))\r\n",
        "\r\n",
        "print(\"The first value in pounds is: \", x)\r\n",
        "print(\"The second value in pounds is: \", y)\r\n",
        "\r\n",
        "# then convert those values to kilograms\r\n",
        "kilograms = x/2.20462262\r\n",
        "print(f\"x((pounds)) => kilograms is: {(round(kilograms, 3))}\")\r\n",
        "\r\n",
        "kilogram = y/2.20462262\r\n",
        "print(f\"y((pounds)) => kilogram is: {(round(kilogram, 3))}\")\r\n",
        "\r\n",
        "\r\n",
        "\r\n",
        "\r\n"
      ],
      "execution_count": 1,
      "outputs": [
        {
          "output_type": "stream",
          "text": [
            "Enter the fist value in pounds: 530\n",
            "Enter the second value in pounds: 670\n",
            "The first value in pounds is:  530\n",
            "The second value in pounds is:  670\n",
            "x((pounds)) => kilograms is: 240.404\n",
            "y((pounds)) => kilogram is: 303.907\n"
          ],
          "name": "stdout"
        }
      ]
    },
    {
      "cell_type": "code",
      "metadata": {
        "colab": {
          "base_uri": "https://localhost:8080/"
        },
        "id": "g4UIXuVJsJxB",
        "outputId": "79e23dea-f700-4c11-beca-ffc7e8891e6e"
      },
      "source": [
        "# Perform the sum of the values\r\n",
        "Sum_of_Values = (y + x)\r\n",
        "print(\"Sum of values: \",Sum_of_Values)\r\n"
      ],
      "execution_count": 2,
      "outputs": [
        {
          "output_type": "stream",
          "text": [
            "Sum of values:  1200\n"
          ],
          "name": "stdout"
        }
      ]
    },
    {
      "cell_type": "code",
      "metadata": {
        "id": "4IChqQVOsQ9l",
        "colab": {
          "base_uri": "https://localhost:8080/"
        },
        "outputId": "a21e1f65-225b-46de-8e5b-eea4bb149fd4"
      },
      "source": [
        "# Perform the average of the values\r\n",
        "Average = (Sum_of_Values/2)\r\n",
        "print(\"Average is: \",Average)\r\n"
      ],
      "execution_count": 3,
      "outputs": [
        {
          "output_type": "stream",
          "text": [
            "Average is:  600.0\n"
          ],
          "name": "stdout"
        }
      ]
    },
    {
      "cell_type": "code",
      "metadata": {
        "id": "GbmKUQTgsZYN",
        "colab": {
          "base_uri": "https://localhost:8080/"
        },
        "outputId": "e9b323df-671d-479d-f162-12bae7239a8a"
      },
      "source": [
        "# Find the difference between both values\r\n",
        "Difference_between_both_values = (x-y)\r\n",
        "print(\"Difference between both values is: \",Difference_between_both_values)"
      ],
      "execution_count": 4,
      "outputs": [
        {
          "output_type": "stream",
          "text": [
            "Difference between both values is:  -140\n"
          ],
          "name": "stdout"
        }
      ]
    },
    {
      "cell_type": "code",
      "metadata": {
        "id": "w21U6LoZshrd",
        "colab": {
          "base_uri": "https://localhost:8080/"
        },
        "outputId": "3d76cad9-77ad-4886-b952-5d03a69fb821"
      },
      "source": [
        "# Find the quotient when one value is divided by the other\r\n",
        "Quotient = x//y\r\n",
        "print(\"Quotient is: \", Quotient)"
      ],
      "execution_count": 5,
      "outputs": [
        {
          "output_type": "stream",
          "text": [
            "Quotient is:  0\n"
          ],
          "name": "stdout"
        }
      ]
    },
    {
      "cell_type": "code",
      "metadata": {
        "id": "4CYWtFqUsnCm",
        "colab": {
          "base_uri": "https://localhost:8080/"
        },
        "outputId": "e9626867-6fed-4f8e-a318-b8d1d4c8ac9e"
      },
      "source": [
        "# Determine and print out whether any of the numbers are even or add.\r\n",
        "if(x%2 ==0):\r\n",
        "  print(\"x is even\")\r\n",
        "  \r\n",
        "else:\r\n",
        "    print(\"x is odd\")\r\n",
        "\r\n",
        "if(y%2 ==0):\r\n",
        "  print(\"y is even\")\r\n",
        "\r\n",
        "else:\r\n",
        "  print(y is odd)"
      ],
      "execution_count": 6,
      "outputs": [
        {
          "output_type": "stream",
          "text": [
            "x is even\n",
            "y is even\n"
          ],
          "name": "stdout"
        }
      ]
    }
  ]
}