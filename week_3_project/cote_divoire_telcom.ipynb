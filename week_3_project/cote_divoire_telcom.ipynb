{
 "metadata": {
  "language_info": {
   "codemirror_mode": {
    "name": "ipython",
    "version": 3
   },
   "file_extension": ".py",
   "mimetype": "text/x-python",
   "name": "python",
   "nbconvert_exporter": "python",
   "pygments_lexer": "ipython3",
   "version": "3.8.5-final"
  },
  "orig_nbformat": 2,
  "kernelspec": {
   "name": "python3",
   "display_name": "Python 3.8.5 64-bit (conda)",
   "metadata": {
    "interpreter": {
     "hash": "a6ae5e711b5f3861f268276cd1b196f6f4ea1f61d47ac031594dd6d6898318f6"
    }
   }
  }
 },
 "nbformat": 4,
 "nbformat_minor": 2,
 "cells": [
  {
   "cell_type": "code",
   "execution_count": 97,
   "metadata": {},
   "outputs": [],
   "source": [
    "# Importing the libraries to be used\n",
    "import pandas as pd\n",
    "import numpy as np\n"
   ]
  },
  {
   "cell_type": "code",
   "execution_count": 98,
   "metadata": {},
   "outputs": [
    {
     "output_type": "execute_result",
     "data": {
      "text/plain": [
       "  PRODUTC  VALUE DATETIME CELL_ON_SITE  DW_A_NUMBER_INT  DW_B_NUMBER_INT  \\\n",
       "0   Voice      0  04:37.0            1  49fae048b547780  1a49f8b0ded9de6   \n",
       "1     sms      0  05:25.0            0  7a54a6eaee19e65  93343ba6e41af95   \n",
       "2     sms     25  05:41.0            0  6008887b0207d82  7aacc9709ce0a20   \n",
       "3   Voice     56  05:42.0            1  7370032e20f4e96  6af4a60e74c91d3   \n",
       "4   Voice     14  06:29.0            1  966ba4656e38e62  02aa736ee555d5c   \n",
       "\n",
       "  COUNTRY_A COUNTRY_B     CELL_ID     SITE_ID  \n",
       "0     19e2e     19e2e  /TJNe+Mmtu  /TJNe+Mmtu  \n",
       "1     19e2e     19e2e  /+cKZKIp41  /+cKZKIp41  \n",
       "2     19e2e     19e2e  /u0FSD+ahi  /u0FSD+ahi  \n",
       "3     19e2e     19e2e      #NAME?      #NAME?  \n",
       "4     19e2e     19e2e  051KhYDCpv  051KhYDCpv  "
      ],
      "text/html": "<div>\n<style scoped>\n    .dataframe tbody tr th:only-of-type {\n        vertical-align: middle;\n    }\n\n    .dataframe tbody tr th {\n        vertical-align: top;\n    }\n\n    .dataframe thead th {\n        text-align: right;\n    }\n</style>\n<table border=\"1\" class=\"dataframe\">\n  <thead>\n    <tr style=\"text-align: right;\">\n      <th></th>\n      <th>PRODUTC</th>\n      <th>VALUE</th>\n      <th>DATETIME</th>\n      <th>CELL_ON_SITE</th>\n      <th>DW_A_NUMBER_INT</th>\n      <th>DW_B_NUMBER_INT</th>\n      <th>COUNTRY_A</th>\n      <th>COUNTRY_B</th>\n      <th>CELL_ID</th>\n      <th>SITE_ID</th>\n    </tr>\n  </thead>\n  <tbody>\n    <tr>\n      <th>0</th>\n      <td>Voice</td>\n      <td>0</td>\n      <td>04:37.0</td>\n      <td>1</td>\n      <td>49fae048b547780</td>\n      <td>1a49f8b0ded9de6</td>\n      <td>19e2e</td>\n      <td>19e2e</td>\n      <td>/TJNe+Mmtu</td>\n      <td>/TJNe+Mmtu</td>\n    </tr>\n    <tr>\n      <th>1</th>\n      <td>sms</td>\n      <td>0</td>\n      <td>05:25.0</td>\n      <td>0</td>\n      <td>7a54a6eaee19e65</td>\n      <td>93343ba6e41af95</td>\n      <td>19e2e</td>\n      <td>19e2e</td>\n      <td>/+cKZKIp41</td>\n      <td>/+cKZKIp41</td>\n    </tr>\n    <tr>\n      <th>2</th>\n      <td>sms</td>\n      <td>25</td>\n      <td>05:41.0</td>\n      <td>0</td>\n      <td>6008887b0207d82</td>\n      <td>7aacc9709ce0a20</td>\n      <td>19e2e</td>\n      <td>19e2e</td>\n      <td>/u0FSD+ahi</td>\n      <td>/u0FSD+ahi</td>\n    </tr>\n    <tr>\n      <th>3</th>\n      <td>Voice</td>\n      <td>56</td>\n      <td>05:42.0</td>\n      <td>1</td>\n      <td>7370032e20f4e96</td>\n      <td>6af4a60e74c91d3</td>\n      <td>19e2e</td>\n      <td>19e2e</td>\n      <td>#NAME?</td>\n      <td>#NAME?</td>\n    </tr>\n    <tr>\n      <th>4</th>\n      <td>Voice</td>\n      <td>14</td>\n      <td>06:29.0</td>\n      <td>1</td>\n      <td>966ba4656e38e62</td>\n      <td>02aa736ee555d5c</td>\n      <td>19e2e</td>\n      <td>19e2e</td>\n      <td>051KhYDCpv</td>\n      <td>051KhYDCpv</td>\n    </tr>\n  </tbody>\n</table>\n</div>"
     },
     "metadata": {},
     "execution_count": 98
    }
   ],
   "source": [
    "# Loading telcom dataset 1\n",
    "data_1 = pd.read_csv('D:/veronica_moringa/project_dsp/data/Telcom_dataset_1.csv')\n",
    "data_1.head()\n"
   ]
  },
  {
   "cell_type": "code",
   "execution_count": 99,
   "metadata": {},
   "outputs": [
    {
     "output_type": "execute_result",
     "data": {
      "text/plain": [
       "  PRODUCT  VALUE DATE_TIME CELL_ON_SITE      DW_A_NUMBER      DW_B_NUMBER  \\\n",
       "0     sms      0   02:06.0            2  32255675c3b6fe3  1aa7ae01386e9fb   \n",
       "1   Voice      0   03:44.0            1  ff16d6ac74c1c64  87d87309c15a8c9   \n",
       "2     sms      0   04:06.0            0  98d9f2fb5ff624b  93343ba6e41af95   \n",
       "3   Voice     37   04:48.0            1  3f9c8a33ec7be1f  7d05a38f89c49d8   \n",
       "4     sms     25   04:58.0            1  7bcccc03adf3864  56a5d5430d2fa86   \n",
       "\n",
       "  COUNTRY_A COUNTRY_B     CELL_ID     SITE_ID  \n",
       "0     19e2e     19e2e  +854AcBQT2  +854AcBQT2  \n",
       "1     19e2e     19e2e  +854AcBQT2  +854AcBQT2  \n",
       "2     19e2e     19e2e      #NAME?      #NAME?  \n",
       "3     19e2e     19e2e  /xvRrCVKoQ  /xvRrCVKoQ  \n",
       "4     19e2e     19e2e      #NAME?      #NAME?  "
      ],
      "text/html": "<div>\n<style scoped>\n    .dataframe tbody tr th:only-of-type {\n        vertical-align: middle;\n    }\n\n    .dataframe tbody tr th {\n        vertical-align: top;\n    }\n\n    .dataframe thead th {\n        text-align: right;\n    }\n</style>\n<table border=\"1\" class=\"dataframe\">\n  <thead>\n    <tr style=\"text-align: right;\">\n      <th></th>\n      <th>PRODUCT</th>\n      <th>VALUE</th>\n      <th>DATE_TIME</th>\n      <th>CELL_ON_SITE</th>\n      <th>DW_A_NUMBER</th>\n      <th>DW_B_NUMBER</th>\n      <th>COUNTRY_A</th>\n      <th>COUNTRY_B</th>\n      <th>CELL_ID</th>\n      <th>SITE_ID</th>\n    </tr>\n  </thead>\n  <tbody>\n    <tr>\n      <th>0</th>\n      <td>sms</td>\n      <td>0</td>\n      <td>02:06.0</td>\n      <td>2</td>\n      <td>32255675c3b6fe3</td>\n      <td>1aa7ae01386e9fb</td>\n      <td>19e2e</td>\n      <td>19e2e</td>\n      <td>+854AcBQT2</td>\n      <td>+854AcBQT2</td>\n    </tr>\n    <tr>\n      <th>1</th>\n      <td>Voice</td>\n      <td>0</td>\n      <td>03:44.0</td>\n      <td>1</td>\n      <td>ff16d6ac74c1c64</td>\n      <td>87d87309c15a8c9</td>\n      <td>19e2e</td>\n      <td>19e2e</td>\n      <td>+854AcBQT2</td>\n      <td>+854AcBQT2</td>\n    </tr>\n    <tr>\n      <th>2</th>\n      <td>sms</td>\n      <td>0</td>\n      <td>04:06.0</td>\n      <td>0</td>\n      <td>98d9f2fb5ff624b</td>\n      <td>93343ba6e41af95</td>\n      <td>19e2e</td>\n      <td>19e2e</td>\n      <td>#NAME?</td>\n      <td>#NAME?</td>\n    </tr>\n    <tr>\n      <th>3</th>\n      <td>Voice</td>\n      <td>37</td>\n      <td>04:48.0</td>\n      <td>1</td>\n      <td>3f9c8a33ec7be1f</td>\n      <td>7d05a38f89c49d8</td>\n      <td>19e2e</td>\n      <td>19e2e</td>\n      <td>/xvRrCVKoQ</td>\n      <td>/xvRrCVKoQ</td>\n    </tr>\n    <tr>\n      <th>4</th>\n      <td>sms</td>\n      <td>25</td>\n      <td>04:58.0</td>\n      <td>1</td>\n      <td>7bcccc03adf3864</td>\n      <td>56a5d5430d2fa86</td>\n      <td>19e2e</td>\n      <td>19e2e</td>\n      <td>#NAME?</td>\n      <td>#NAME?</td>\n    </tr>\n  </tbody>\n</table>\n</div>"
     },
     "metadata": {},
     "execution_count": 99
    }
   ],
   "source": [
    "# Loading telcom dataset 2\n",
    "data_2 = pd.read_csv('D:/veronica_moringa/project_dsp/data/Telcom_dataset2.csv')\n",
    "data_2.head()"
   ]
  },
  {
   "cell_type": "code",
   "execution_count": 100,
   "metadata": {},
   "outputs": [
    {
     "output_type": "execute_result",
     "data": {
      "text/plain": [
       "  PRODUCT  VALUE DATE_TIME CELL_ON_SITE  DW_A_NUMBER_INT  DW_B_NUMBER_INT  \\\n",
       "0   Voice     61   01:28.0            2  966f68353622feb  ffd53a3bb2db6f1   \n",
       "1     sms      0   01:31.0            1  a0a597384c612d7  cf3b218f1dde792   \n",
       "2   Voice     10   02:59.0            1  5441a9a58c97132  52f8b299515b9b7   \n",
       "3     sms      0   03:04.0            0  8ab8b9ed6989f61  e09e736e46c5c3d   \n",
       "4   Voice     22   03:16.0            4  52662a62b199334  2186273faab4602   \n",
       "\n",
       "  COUNTRY_A COUNTRY_B      CELLID     SIET_ID  \n",
       "0     19e2e     19e2e  +38u2u/rfx  +38u2u/rfx  \n",
       "1     19e2e     19e2e      #NAME?      #NAME?  \n",
       "2     19e2e     19e2e  +ZaaZozy/+  +ZaaZozy/+  \n",
       "3     19e2e     19e2e      #NAME?      #NAME?  \n",
       "4     19e2e     19e2e  /eeMklgyJA  /eeMklgyJA  "
      ],
      "text/html": "<div>\n<style scoped>\n    .dataframe tbody tr th:only-of-type {\n        vertical-align: middle;\n    }\n\n    .dataframe tbody tr th {\n        vertical-align: top;\n    }\n\n    .dataframe thead th {\n        text-align: right;\n    }\n</style>\n<table border=\"1\" class=\"dataframe\">\n  <thead>\n    <tr style=\"text-align: right;\">\n      <th></th>\n      <th>PRODUCT</th>\n      <th>VALUE</th>\n      <th>DATE_TIME</th>\n      <th>CELL_ON_SITE</th>\n      <th>DW_A_NUMBER_INT</th>\n      <th>DW_B_NUMBER_INT</th>\n      <th>COUNTRY_A</th>\n      <th>COUNTRY_B</th>\n      <th>CELLID</th>\n      <th>SIET_ID</th>\n    </tr>\n  </thead>\n  <tbody>\n    <tr>\n      <th>0</th>\n      <td>Voice</td>\n      <td>61</td>\n      <td>01:28.0</td>\n      <td>2</td>\n      <td>966f68353622feb</td>\n      <td>ffd53a3bb2db6f1</td>\n      <td>19e2e</td>\n      <td>19e2e</td>\n      <td>+38u2u/rfx</td>\n      <td>+38u2u/rfx</td>\n    </tr>\n    <tr>\n      <th>1</th>\n      <td>sms</td>\n      <td>0</td>\n      <td>01:31.0</td>\n      <td>1</td>\n      <td>a0a597384c612d7</td>\n      <td>cf3b218f1dde792</td>\n      <td>19e2e</td>\n      <td>19e2e</td>\n      <td>#NAME?</td>\n      <td>#NAME?</td>\n    </tr>\n    <tr>\n      <th>2</th>\n      <td>Voice</td>\n      <td>10</td>\n      <td>02:59.0</td>\n      <td>1</td>\n      <td>5441a9a58c97132</td>\n      <td>52f8b299515b9b7</td>\n      <td>19e2e</td>\n      <td>19e2e</td>\n      <td>+ZaaZozy/+</td>\n      <td>+ZaaZozy/+</td>\n    </tr>\n    <tr>\n      <th>3</th>\n      <td>sms</td>\n      <td>0</td>\n      <td>03:04.0</td>\n      <td>0</td>\n      <td>8ab8b9ed6989f61</td>\n      <td>e09e736e46c5c3d</td>\n      <td>19e2e</td>\n      <td>19e2e</td>\n      <td>#NAME?</td>\n      <td>#NAME?</td>\n    </tr>\n    <tr>\n      <th>4</th>\n      <td>Voice</td>\n      <td>22</td>\n      <td>03:16.0</td>\n      <td>4</td>\n      <td>52662a62b199334</td>\n      <td>2186273faab4602</td>\n      <td>19e2e</td>\n      <td>19e2e</td>\n      <td>/eeMklgyJA</td>\n      <td>/eeMklgyJA</td>\n    </tr>\n  </tbody>\n</table>\n</div>"
     },
     "metadata": {},
     "execution_count": 100
    }
   ],
   "source": [
    "# Loading telcom dataset 3\n",
    "data_3 = pd.read_csv('D:/veronica_moringa/project_dsp/data/Telcom_dataset3.csv')\n",
    "data_3.head()"
   ]
  },
  {
   "cell_type": "code",
   "execution_count": 101,
   "metadata": {},
   "outputs": [
    {
     "output_type": "execute_result",
     "data": {
      "text/plain": [
       "       Column name                                        Description   Format\n",
       "0          PRODUCT                                       Voice or SMS   String\n",
       "1            VALUE                                      Billing price  Integer\n",
       "2        DATE_TIME               Time in format yyyy-MM-dd hh:mm:ss.0   String\n",
       "3     CELL_ON_SITE  Which cell in the site was used (not needed here)  Integer\n",
       "4  DW_A_NUMBER_INT  Anonymized phone number of the person for whic...   String\n",
       "5  DW_B_NUMBER_INT        Anonymized phone number of the counterparty   String\n",
       "6        COUNTRY_A                  Country of party A (useless here)   String\n",
       "7        COUNTRY_B                  Country of party B (useless here)   String\n",
       "8          CELL_ID                                     ID of the cell   String\n",
       "9          SITE_ID                                     ID of the SITE   String"
      ],
      "text/html": "<div>\n<style scoped>\n    .dataframe tbody tr th:only-of-type {\n        vertical-align: middle;\n    }\n\n    .dataframe tbody tr th {\n        vertical-align: top;\n    }\n\n    .dataframe thead th {\n        text-align: right;\n    }\n</style>\n<table border=\"1\" class=\"dataframe\">\n  <thead>\n    <tr style=\"text-align: right;\">\n      <th></th>\n      <th>Column name</th>\n      <th>Description</th>\n      <th>Format</th>\n    </tr>\n  </thead>\n  <tbody>\n    <tr>\n      <th>0</th>\n      <td>PRODUCT</td>\n      <td>Voice or SMS</td>\n      <td>String</td>\n    </tr>\n    <tr>\n      <th>1</th>\n      <td>VALUE</td>\n      <td>Billing price</td>\n      <td>Integer</td>\n    </tr>\n    <tr>\n      <th>2</th>\n      <td>DATE_TIME</td>\n      <td>Time in format yyyy-MM-dd hh:mm:ss.0</td>\n      <td>String</td>\n    </tr>\n    <tr>\n      <th>3</th>\n      <td>CELL_ON_SITE</td>\n      <td>Which cell in the site was used (not needed here)</td>\n      <td>Integer</td>\n    </tr>\n    <tr>\n      <th>4</th>\n      <td>DW_A_NUMBER_INT</td>\n      <td>Anonymized phone number of the person for whic...</td>\n      <td>String</td>\n    </tr>\n    <tr>\n      <th>5</th>\n      <td>DW_B_NUMBER_INT</td>\n      <td>Anonymized phone number of the counterparty</td>\n      <td>String</td>\n    </tr>\n    <tr>\n      <th>6</th>\n      <td>COUNTRY_A</td>\n      <td>Country of party A (useless here)</td>\n      <td>String</td>\n    </tr>\n    <tr>\n      <th>7</th>\n      <td>COUNTRY_B</td>\n      <td>Country of party B (useless here)</td>\n      <td>String</td>\n    </tr>\n    <tr>\n      <th>8</th>\n      <td>CELL_ID</td>\n      <td>ID of the cell</td>\n      <td>String</td>\n    </tr>\n    <tr>\n      <th>9</th>\n      <td>SITE_ID</td>\n      <td>ID of the SITE</td>\n      <td>String</td>\n    </tr>\n  </tbody>\n</table>\n</div>"
     },
     "metadata": {},
     "execution_count": 101
    }
   ],
   "source": [
    "# Loading telcom dataset 4\n",
    "data_4 = pd.read_excel('D:/veronica_moringa/project_dsp/data/CDR_description.xlsx')\n",
    "data_4.head(10)\n"
   ]
  },
  {
   "cell_type": "code",
   "execution_count": 102,
   "metadata": {},
   "outputs": [
    {
     "output_type": "execute_result",
     "data": {
      "text/plain": [
       "     Column name                                        Description  Format\n",
       "0         VILLES                                               City  String\n",
       "1         STATUS                                  In Service or not  String\n",
       "2   LOCALISATION                                  in ABIDJAN or not  String\n",
       "3     DECOUPZONE                                  Geographical Zone  String\n",
       "4       ZONENAME                                       Name of Zone  String\n",
       "5      LONGITUDE                                          Longitude   Float\n",
       "6       LATITUDE                                           Latitude   Float\n",
       "7         REGION                                             Region  String\n",
       "8           AREA                                               Area  String\n",
       "9        CELL_ID                                     ID of the cell  String\n",
       "10     SITE_CODE  Site (there are several cells per site, severa...  String"
      ],
      "text/html": "<div>\n<style scoped>\n    .dataframe tbody tr th:only-of-type {\n        vertical-align: middle;\n    }\n\n    .dataframe tbody tr th {\n        vertical-align: top;\n    }\n\n    .dataframe thead th {\n        text-align: right;\n    }\n</style>\n<table border=\"1\" class=\"dataframe\">\n  <thead>\n    <tr style=\"text-align: right;\">\n      <th></th>\n      <th>Column name</th>\n      <th>Description</th>\n      <th>Format</th>\n    </tr>\n  </thead>\n  <tbody>\n    <tr>\n      <th>0</th>\n      <td>VILLES</td>\n      <td>City</td>\n      <td>String</td>\n    </tr>\n    <tr>\n      <th>1</th>\n      <td>STATUS</td>\n      <td>In Service or not</td>\n      <td>String</td>\n    </tr>\n    <tr>\n      <th>2</th>\n      <td>LOCALISATION</td>\n      <td>in ABIDJAN or not</td>\n      <td>String</td>\n    </tr>\n    <tr>\n      <th>3</th>\n      <td>DECOUPZONE</td>\n      <td>Geographical Zone</td>\n      <td>String</td>\n    </tr>\n    <tr>\n      <th>4</th>\n      <td>ZONENAME</td>\n      <td>Name of Zone</td>\n      <td>String</td>\n    </tr>\n    <tr>\n      <th>5</th>\n      <td>LONGITUDE</td>\n      <td>Longitude</td>\n      <td>Float</td>\n    </tr>\n    <tr>\n      <th>6</th>\n      <td>LATITUDE</td>\n      <td>Latitude</td>\n      <td>Float</td>\n    </tr>\n    <tr>\n      <th>7</th>\n      <td>REGION</td>\n      <td>Region</td>\n      <td>String</td>\n    </tr>\n    <tr>\n      <th>8</th>\n      <td>AREA</td>\n      <td>Area</td>\n      <td>String</td>\n    </tr>\n    <tr>\n      <th>9</th>\n      <td>CELL_ID</td>\n      <td>ID of the cell</td>\n      <td>String</td>\n    </tr>\n    <tr>\n      <th>10</th>\n      <td>SITE_CODE</td>\n      <td>Site (there are several cells per site, severa...</td>\n      <td>String</td>\n    </tr>\n  </tbody>\n</table>\n</div>"
     },
     "metadata": {},
     "execution_count": 102
    }
   ],
   "source": [
    "# Loading telcom dataset 5\n",
    "data_5 = pd.read_excel('D:/veronica_moringa/project_dsp/data/cells_geo_description.xlsx')\n",
    "data_5.head(11)"
   ]
  },
  {
   "cell_type": "code",
   "execution_count": 138,
   "metadata": {},
   "outputs": [
    {
     "output_type": "execute_result",
     "data": {
      "text/plain": [
       "    VILLES      STATUS LOCALISATION    DECOUPZONE  ZONENAME  LONGITUDE  \\\n",
       "0   ADJAME  In Service      ABIDJAN  \"Abidjan_EST  AGBANNEW  -4.000667   \n",
       "1   ADJAME  In Service      ABIDJAN  \"Abidjan_EST  AGBANNEW  -4.000667   \n",
       "2   ADJAME  In Service      ABIDJAN  \"Abidjan_EST  AGBANNEW  -4.000667   \n",
       "3  ASSINIE  In Service    INTERIEUR     Grand-EST  ASSINIE\"  -3.488467   \n",
       "4  ASSINIE  In Service    INTERIEUR     Grand-EST  ASSINIE\"  -3.488467   \n",
       "\n",
       "   LATITUDE     REGION AREA     CELL_ID   SITE_CODE  \n",
       "0  5.368194     LAGUNE  NaN  fbb2e75af3  0bb492ef17  \n",
       "1  5.368194     LAGUNE  NaN  1502501d78  0bb492ef17  \n",
       "2  5.368194     LAGUNE  NaN  0c2e182a0c  0bb492ef17  \n",
       "3  5.158761  SUD COMOE  NaN  69bdfc69fd  8a1e6ce31f  \n",
       "4  5.158761  SUD COMOE  NaN  7a1029d2ab  8a1e6ce31f  "
      ],
      "text/html": "<div>\n<style scoped>\n    .dataframe tbody tr th:only-of-type {\n        vertical-align: middle;\n    }\n\n    .dataframe tbody tr th {\n        vertical-align: top;\n    }\n\n    .dataframe thead th {\n        text-align: right;\n    }\n</style>\n<table border=\"1\" class=\"dataframe\">\n  <thead>\n    <tr style=\"text-align: right;\">\n      <th></th>\n      <th>VILLES</th>\n      <th>STATUS</th>\n      <th>LOCALISATION</th>\n      <th>DECOUPZONE</th>\n      <th>ZONENAME</th>\n      <th>LONGITUDE</th>\n      <th>LATITUDE</th>\n      <th>REGION</th>\n      <th>AREA</th>\n      <th>CELL_ID</th>\n      <th>SITE_CODE</th>\n    </tr>\n  </thead>\n  <tbody>\n    <tr>\n      <th>0</th>\n      <td>ADJAME</td>\n      <td>In Service</td>\n      <td>ABIDJAN</td>\n      <td>\"Abidjan_EST</td>\n      <td>AGBANNEW</td>\n      <td>-4.000667</td>\n      <td>5.368194</td>\n      <td>LAGUNE</td>\n      <td>NaN</td>\n      <td>fbb2e75af3</td>\n      <td>0bb492ef17</td>\n    </tr>\n    <tr>\n      <th>1</th>\n      <td>ADJAME</td>\n      <td>In Service</td>\n      <td>ABIDJAN</td>\n      <td>\"Abidjan_EST</td>\n      <td>AGBANNEW</td>\n      <td>-4.000667</td>\n      <td>5.368194</td>\n      <td>LAGUNE</td>\n      <td>NaN</td>\n      <td>1502501d78</td>\n      <td>0bb492ef17</td>\n    </tr>\n    <tr>\n      <th>2</th>\n      <td>ADJAME</td>\n      <td>In Service</td>\n      <td>ABIDJAN</td>\n      <td>\"Abidjan_EST</td>\n      <td>AGBANNEW</td>\n      <td>-4.000667</td>\n      <td>5.368194</td>\n      <td>LAGUNE</td>\n      <td>NaN</td>\n      <td>0c2e182a0c</td>\n      <td>0bb492ef17</td>\n    </tr>\n    <tr>\n      <th>3</th>\n      <td>ASSINIE</td>\n      <td>In Service</td>\n      <td>INTERIEUR</td>\n      <td>Grand-EST</td>\n      <td>ASSINIE\"</td>\n      <td>-3.488467</td>\n      <td>5.158761</td>\n      <td>SUD COMOE</td>\n      <td>NaN</td>\n      <td>69bdfc69fd</td>\n      <td>8a1e6ce31f</td>\n    </tr>\n    <tr>\n      <th>4</th>\n      <td>ASSINIE</td>\n      <td>In Service</td>\n      <td>INTERIEUR</td>\n      <td>Grand-EST</td>\n      <td>ASSINIE\"</td>\n      <td>-3.488467</td>\n      <td>5.158761</td>\n      <td>SUD COMOE</td>\n      <td>NaN</td>\n      <td>7a1029d2ab</td>\n      <td>8a1e6ce31f</td>\n    </tr>\n  </tbody>\n</table>\n</div>"
     },
     "metadata": {},
     "execution_count": 138
    }
   ],
   "source": [
    "# Loading telcom dataset 6\n",
    "\n",
    "data_6 = pd.read_csv('D:/veronica_moringa/project_dsp/data/cells_geo.csv', delimiter=';', index_col=0)\n",
    "\n",
    "data_6.head()"
   ]
  },
  {
   "cell_type": "code",
   "execution_count": 105,
   "metadata": {},
   "outputs": [
    {
     "output_type": "execute_result",
     "data": {
      "text/plain": [
       "(5001, 10)"
      ]
     },
     "metadata": {},
     "execution_count": 105
    }
   ],
   "source": [
    "data_1.shape"
   ]
  },
  {
   "cell_type": "code",
   "execution_count": 106,
   "metadata": {},
   "outputs": [
    {
     "output_type": "execute_result",
     "data": {
      "text/plain": [
       "(5001, 10)"
      ]
     },
     "metadata": {},
     "execution_count": 106
    }
   ],
   "source": [
    "data_2.shape"
   ]
  },
  {
   "cell_type": "code",
   "execution_count": 107,
   "metadata": {},
   "outputs": [
    {
     "output_type": "execute_result",
     "data": {
      "text/plain": [
       "(5001, 10)"
      ]
     },
     "metadata": {},
     "execution_count": 107
    }
   ],
   "source": [
    "data_3.shape"
   ]
  },
  {
   "cell_type": "code",
   "execution_count": 108,
   "metadata": {},
   "outputs": [
    {
     "output_type": "execute_result",
     "data": {
      "text/plain": [
       "(10, 3)"
      ]
     },
     "metadata": {},
     "execution_count": 108
    }
   ],
   "source": [
    "data_4.shape"
   ]
  },
  {
   "cell_type": "code",
   "execution_count": 109,
   "metadata": {},
   "outputs": [
    {
     "output_type": "execute_result",
     "data": {
      "text/plain": [
       "(11, 3)"
      ]
     },
     "metadata": {},
     "execution_count": 109
    }
   ],
   "source": [
    "data_5.shape"
   ]
  },
  {
   "cell_type": "code",
   "execution_count": 139,
   "metadata": {},
   "outputs": [
    {
     "output_type": "execute_result",
     "data": {
      "text/plain": [
       "(3974, 11)"
      ]
     },
     "metadata": {},
     "execution_count": 139
    }
   ],
   "source": [
    "data_6.shape"
   ]
  },
  {
   "cell_type": "code",
   "execution_count": 140,
   "metadata": {},
   "outputs": [
    {
     "output_type": "execute_result",
     "data": {
      "text/plain": [
       "  PRODUCT  VALUE DATE_TIME CELL_ON_SITE  DW_A_NUMBER_INT  DW_B_NUMBER_INT  \\\n",
       "0   Voice      0   04:37.0            1  49fae048b547780  1a49f8b0ded9de6   \n",
       "1     sms      0   05:25.0            0  7a54a6eaee19e65  93343ba6e41af95   \n",
       "2     sms     25   05:41.0            0  6008887b0207d82  7aacc9709ce0a20   \n",
       "3   Voice     56   05:42.0            1  7370032e20f4e96  6af4a60e74c91d3   \n",
       "4   Voice     14   06:29.0            1  966ba4656e38e62  02aa736ee555d5c   \n",
       "\n",
       "  COUNTRY_A COUNTRY_B     CELL_ID     SITE_ID  \n",
       "0     19e2e     19e2e  /TJNe+Mmtu  /TJNe+Mmtu  \n",
       "1     19e2e     19e2e  /+cKZKIp41  /+cKZKIp41  \n",
       "2     19e2e     19e2e  /u0FSD+ahi  /u0FSD+ahi  \n",
       "3     19e2e     19e2e      #NAME?      #NAME?  \n",
       "4     19e2e     19e2e  051KhYDCpv  051KhYDCpv  "
      ],
      "text/html": "<div>\n<style scoped>\n    .dataframe tbody tr th:only-of-type {\n        vertical-align: middle;\n    }\n\n    .dataframe tbody tr th {\n        vertical-align: top;\n    }\n\n    .dataframe thead th {\n        text-align: right;\n    }\n</style>\n<table border=\"1\" class=\"dataframe\">\n  <thead>\n    <tr style=\"text-align: right;\">\n      <th></th>\n      <th>PRODUCT</th>\n      <th>VALUE</th>\n      <th>DATE_TIME</th>\n      <th>CELL_ON_SITE</th>\n      <th>DW_A_NUMBER_INT</th>\n      <th>DW_B_NUMBER_INT</th>\n      <th>COUNTRY_A</th>\n      <th>COUNTRY_B</th>\n      <th>CELL_ID</th>\n      <th>SITE_ID</th>\n    </tr>\n  </thead>\n  <tbody>\n    <tr>\n      <th>0</th>\n      <td>Voice</td>\n      <td>0</td>\n      <td>04:37.0</td>\n      <td>1</td>\n      <td>49fae048b547780</td>\n      <td>1a49f8b0ded9de6</td>\n      <td>19e2e</td>\n      <td>19e2e</td>\n      <td>/TJNe+Mmtu</td>\n      <td>/TJNe+Mmtu</td>\n    </tr>\n    <tr>\n      <th>1</th>\n      <td>sms</td>\n      <td>0</td>\n      <td>05:25.0</td>\n      <td>0</td>\n      <td>7a54a6eaee19e65</td>\n      <td>93343ba6e41af95</td>\n      <td>19e2e</td>\n      <td>19e2e</td>\n      <td>/+cKZKIp41</td>\n      <td>/+cKZKIp41</td>\n    </tr>\n    <tr>\n      <th>2</th>\n      <td>sms</td>\n      <td>25</td>\n      <td>05:41.0</td>\n      <td>0</td>\n      <td>6008887b0207d82</td>\n      <td>7aacc9709ce0a20</td>\n      <td>19e2e</td>\n      <td>19e2e</td>\n      <td>/u0FSD+ahi</td>\n      <td>/u0FSD+ahi</td>\n    </tr>\n    <tr>\n      <th>3</th>\n      <td>Voice</td>\n      <td>56</td>\n      <td>05:42.0</td>\n      <td>1</td>\n      <td>7370032e20f4e96</td>\n      <td>6af4a60e74c91d3</td>\n      <td>19e2e</td>\n      <td>19e2e</td>\n      <td>#NAME?</td>\n      <td>#NAME?</td>\n    </tr>\n    <tr>\n      <th>4</th>\n      <td>Voice</td>\n      <td>14</td>\n      <td>06:29.0</td>\n      <td>1</td>\n      <td>966ba4656e38e62</td>\n      <td>02aa736ee555d5c</td>\n      <td>19e2e</td>\n      <td>19e2e</td>\n      <td>051KhYDCpv</td>\n      <td>051KhYDCpv</td>\n    </tr>\n  </tbody>\n</table>\n</div>"
     },
     "metadata": {},
     "execution_count": 140
    }
   ],
   "source": [
    "# Cleaning the three datasets\n",
    "# 1. Rename column 1 and 3 to 'PRODUCT' and 'DATE_TIME' respectively in dataset 1\n",
    "data_1a = data_1.rename(columns={\"PRODUTC\":\"PRODUCT\", \"DATETIME\": \"DATE_TIME\"})\n",
    "data_1a.head()"
   ]
  },
  {
   "cell_type": "code",
   "execution_count": 141,
   "metadata": {},
   "outputs": [
    {
     "output_type": "execute_result",
     "data": {
      "text/plain": [
       "  PRODUCT  VALUE DATE_TIME CELL_ON_SITE  DW_A_NUMBER_INT  DW_B_NUMBER_INT  \\\n",
       "0     sms      0   02:06.0            2  32255675c3b6fe3  1aa7ae01386e9fb   \n",
       "1   Voice      0   03:44.0            1  ff16d6ac74c1c64  87d87309c15a8c9   \n",
       "2     sms      0   04:06.0            0  98d9f2fb5ff624b  93343ba6e41af95   \n",
       "3   Voice     37   04:48.0            1  3f9c8a33ec7be1f  7d05a38f89c49d8   \n",
       "4     sms     25   04:58.0            1  7bcccc03adf3864  56a5d5430d2fa86   \n",
       "\n",
       "  COUNTRY_A COUNTRY_B     CELL_ID     SITE_ID  \n",
       "0     19e2e     19e2e  +854AcBQT2  +854AcBQT2  \n",
       "1     19e2e     19e2e  +854AcBQT2  +854AcBQT2  \n",
       "2     19e2e     19e2e      #NAME?      #NAME?  \n",
       "3     19e2e     19e2e  /xvRrCVKoQ  /xvRrCVKoQ  \n",
       "4     19e2e     19e2e      #NAME?      #NAME?  "
      ],
      "text/html": "<div>\n<style scoped>\n    .dataframe tbody tr th:only-of-type {\n        vertical-align: middle;\n    }\n\n    .dataframe tbody tr th {\n        vertical-align: top;\n    }\n\n    .dataframe thead th {\n        text-align: right;\n    }\n</style>\n<table border=\"1\" class=\"dataframe\">\n  <thead>\n    <tr style=\"text-align: right;\">\n      <th></th>\n      <th>PRODUCT</th>\n      <th>VALUE</th>\n      <th>DATE_TIME</th>\n      <th>CELL_ON_SITE</th>\n      <th>DW_A_NUMBER_INT</th>\n      <th>DW_B_NUMBER_INT</th>\n      <th>COUNTRY_A</th>\n      <th>COUNTRY_B</th>\n      <th>CELL_ID</th>\n      <th>SITE_ID</th>\n    </tr>\n  </thead>\n  <tbody>\n    <tr>\n      <th>0</th>\n      <td>sms</td>\n      <td>0</td>\n      <td>02:06.0</td>\n      <td>2</td>\n      <td>32255675c3b6fe3</td>\n      <td>1aa7ae01386e9fb</td>\n      <td>19e2e</td>\n      <td>19e2e</td>\n      <td>+854AcBQT2</td>\n      <td>+854AcBQT2</td>\n    </tr>\n    <tr>\n      <th>1</th>\n      <td>Voice</td>\n      <td>0</td>\n      <td>03:44.0</td>\n      <td>1</td>\n      <td>ff16d6ac74c1c64</td>\n      <td>87d87309c15a8c9</td>\n      <td>19e2e</td>\n      <td>19e2e</td>\n      <td>+854AcBQT2</td>\n      <td>+854AcBQT2</td>\n    </tr>\n    <tr>\n      <th>2</th>\n      <td>sms</td>\n      <td>0</td>\n      <td>04:06.0</td>\n      <td>0</td>\n      <td>98d9f2fb5ff624b</td>\n      <td>93343ba6e41af95</td>\n      <td>19e2e</td>\n      <td>19e2e</td>\n      <td>#NAME?</td>\n      <td>#NAME?</td>\n    </tr>\n    <tr>\n      <th>3</th>\n      <td>Voice</td>\n      <td>37</td>\n      <td>04:48.0</td>\n      <td>1</td>\n      <td>3f9c8a33ec7be1f</td>\n      <td>7d05a38f89c49d8</td>\n      <td>19e2e</td>\n      <td>19e2e</td>\n      <td>/xvRrCVKoQ</td>\n      <td>/xvRrCVKoQ</td>\n    </tr>\n    <tr>\n      <th>4</th>\n      <td>sms</td>\n      <td>25</td>\n      <td>04:58.0</td>\n      <td>1</td>\n      <td>7bcccc03adf3864</td>\n      <td>56a5d5430d2fa86</td>\n      <td>19e2e</td>\n      <td>19e2e</td>\n      <td>#NAME?</td>\n      <td>#NAME?</td>\n    </tr>\n  </tbody>\n</table>\n</div>"
     },
     "metadata": {},
     "execution_count": 141
    }
   ],
   "source": [
    "# 2. Rename column 5 and 6 in dataset 2 to read 'DW_A_NUMBER_INT' and 'DW_B_NUMBER_INT' respectively\n",
    "data_2b = data_2.rename(columns={\"DW_A_NUMBER\":\"DW_A_NUMBER_INT\", \"DW_B_NUMBER\":\"DW_B_NUMBER_INT\"})\n",
    "data_2b.head()"
   ]
  },
  {
   "cell_type": "code",
   "execution_count": 142,
   "metadata": {},
   "outputs": [
    {
     "output_type": "execute_result",
     "data": {
      "text/plain": [
       "  PRODUCT  VALUE DATE_TIME CELL_ON_SITE  DW_A_NUMBER_INT  DW_B_NUMBER_INT  \\\n",
       "0   Voice     61   01:28.0            2  966f68353622feb  ffd53a3bb2db6f1   \n",
       "1     sms      0   01:31.0            1  a0a597384c612d7  cf3b218f1dde792   \n",
       "2   Voice     10   02:59.0            1  5441a9a58c97132  52f8b299515b9b7   \n",
       "3     sms      0   03:04.0            0  8ab8b9ed6989f61  e09e736e46c5c3d   \n",
       "4   Voice     22   03:16.0            4  52662a62b199334  2186273faab4602   \n",
       "\n",
       "  COUNTRY_A COUNTRY_B     CELL_ID     SITE_ID  \n",
       "0     19e2e     19e2e  +38u2u/rfx  +38u2u/rfx  \n",
       "1     19e2e     19e2e      #NAME?      #NAME?  \n",
       "2     19e2e     19e2e  +ZaaZozy/+  +ZaaZozy/+  \n",
       "3     19e2e     19e2e      #NAME?      #NAME?  \n",
       "4     19e2e     19e2e  /eeMklgyJA  /eeMklgyJA  "
      ],
      "text/html": "<div>\n<style scoped>\n    .dataframe tbody tr th:only-of-type {\n        vertical-align: middle;\n    }\n\n    .dataframe tbody tr th {\n        vertical-align: top;\n    }\n\n    .dataframe thead th {\n        text-align: right;\n    }\n</style>\n<table border=\"1\" class=\"dataframe\">\n  <thead>\n    <tr style=\"text-align: right;\">\n      <th></th>\n      <th>PRODUCT</th>\n      <th>VALUE</th>\n      <th>DATE_TIME</th>\n      <th>CELL_ON_SITE</th>\n      <th>DW_A_NUMBER_INT</th>\n      <th>DW_B_NUMBER_INT</th>\n      <th>COUNTRY_A</th>\n      <th>COUNTRY_B</th>\n      <th>CELL_ID</th>\n      <th>SITE_ID</th>\n    </tr>\n  </thead>\n  <tbody>\n    <tr>\n      <th>0</th>\n      <td>Voice</td>\n      <td>61</td>\n      <td>01:28.0</td>\n      <td>2</td>\n      <td>966f68353622feb</td>\n      <td>ffd53a3bb2db6f1</td>\n      <td>19e2e</td>\n      <td>19e2e</td>\n      <td>+38u2u/rfx</td>\n      <td>+38u2u/rfx</td>\n    </tr>\n    <tr>\n      <th>1</th>\n      <td>sms</td>\n      <td>0</td>\n      <td>01:31.0</td>\n      <td>1</td>\n      <td>a0a597384c612d7</td>\n      <td>cf3b218f1dde792</td>\n      <td>19e2e</td>\n      <td>19e2e</td>\n      <td>#NAME?</td>\n      <td>#NAME?</td>\n    </tr>\n    <tr>\n      <th>2</th>\n      <td>Voice</td>\n      <td>10</td>\n      <td>02:59.0</td>\n      <td>1</td>\n      <td>5441a9a58c97132</td>\n      <td>52f8b299515b9b7</td>\n      <td>19e2e</td>\n      <td>19e2e</td>\n      <td>+ZaaZozy/+</td>\n      <td>+ZaaZozy/+</td>\n    </tr>\n    <tr>\n      <th>3</th>\n      <td>sms</td>\n      <td>0</td>\n      <td>03:04.0</td>\n      <td>0</td>\n      <td>8ab8b9ed6989f61</td>\n      <td>e09e736e46c5c3d</td>\n      <td>19e2e</td>\n      <td>19e2e</td>\n      <td>#NAME?</td>\n      <td>#NAME?</td>\n    </tr>\n    <tr>\n      <th>4</th>\n      <td>Voice</td>\n      <td>22</td>\n      <td>03:16.0</td>\n      <td>4</td>\n      <td>52662a62b199334</td>\n      <td>2186273faab4602</td>\n      <td>19e2e</td>\n      <td>19e2e</td>\n      <td>/eeMklgyJA</td>\n      <td>/eeMklgyJA</td>\n    </tr>\n  </tbody>\n</table>\n</div>"
     },
     "metadata": {},
     "execution_count": 142
    }
   ],
   "source": [
    "# 3. Rename columns 9 and 10 in dataset 3 to read 'CELL_ID' and 'SITE_ID'\n",
    "data_3c = data_3.rename(columns={\"CELLID\":\"CELL_ID\", \"SIET_ID\":\"SITE_ID\"})\n",
    "data_3c.head()"
   ]
  },
  {
   "cell_type": "code",
   "execution_count": 143,
   "metadata": {},
   "outputs": [],
   "source": [
    "# Merger the three datasets using concat function\n",
    "concatenated = pd.concat([data_1a, data_2b, data_3c])"
   ]
  },
  {
   "cell_type": "code",
   "execution_count": 144,
   "metadata": {},
   "outputs": [
    {
     "output_type": "execute_result",
     "data": {
      "text/plain": [
       "  PRODUCT  VALUE DATE_TIME CELL_ON_SITE  DW_A_NUMBER_INT  DW_B_NUMBER_INT  \\\n",
       "0   Voice      0   04:37.0            1  49fae048b547780  1a49f8b0ded9de6   \n",
       "1     sms      0   05:25.0            0  7a54a6eaee19e65  93343ba6e41af95   \n",
       "2     sms     25   05:41.0            0  6008887b0207d82  7aacc9709ce0a20   \n",
       "3   Voice     56   05:42.0            1  7370032e20f4e96  6af4a60e74c91d3   \n",
       "4   Voice     14   06:29.0            1  966ba4656e38e62  02aa736ee555d5c   \n",
       "\n",
       "  COUNTRY_A COUNTRY_B     CELL_ID     SITE_ID  \n",
       "0     19e2e     19e2e  /TJNe+Mmtu  /TJNe+Mmtu  \n",
       "1     19e2e     19e2e  /+cKZKIp41  /+cKZKIp41  \n",
       "2     19e2e     19e2e  /u0FSD+ahi  /u0FSD+ahi  \n",
       "3     19e2e     19e2e      #NAME?      #NAME?  \n",
       "4     19e2e     19e2e  051KhYDCpv  051KhYDCpv  "
      ],
      "text/html": "<div>\n<style scoped>\n    .dataframe tbody tr th:only-of-type {\n        vertical-align: middle;\n    }\n\n    .dataframe tbody tr th {\n        vertical-align: top;\n    }\n\n    .dataframe thead th {\n        text-align: right;\n    }\n</style>\n<table border=\"1\" class=\"dataframe\">\n  <thead>\n    <tr style=\"text-align: right;\">\n      <th></th>\n      <th>PRODUCT</th>\n      <th>VALUE</th>\n      <th>DATE_TIME</th>\n      <th>CELL_ON_SITE</th>\n      <th>DW_A_NUMBER_INT</th>\n      <th>DW_B_NUMBER_INT</th>\n      <th>COUNTRY_A</th>\n      <th>COUNTRY_B</th>\n      <th>CELL_ID</th>\n      <th>SITE_ID</th>\n    </tr>\n  </thead>\n  <tbody>\n    <tr>\n      <th>0</th>\n      <td>Voice</td>\n      <td>0</td>\n      <td>04:37.0</td>\n      <td>1</td>\n      <td>49fae048b547780</td>\n      <td>1a49f8b0ded9de6</td>\n      <td>19e2e</td>\n      <td>19e2e</td>\n      <td>/TJNe+Mmtu</td>\n      <td>/TJNe+Mmtu</td>\n    </tr>\n    <tr>\n      <th>1</th>\n      <td>sms</td>\n      <td>0</td>\n      <td>05:25.0</td>\n      <td>0</td>\n      <td>7a54a6eaee19e65</td>\n      <td>93343ba6e41af95</td>\n      <td>19e2e</td>\n      <td>19e2e</td>\n      <td>/+cKZKIp41</td>\n      <td>/+cKZKIp41</td>\n    </tr>\n    <tr>\n      <th>2</th>\n      <td>sms</td>\n      <td>25</td>\n      <td>05:41.0</td>\n      <td>0</td>\n      <td>6008887b0207d82</td>\n      <td>7aacc9709ce0a20</td>\n      <td>19e2e</td>\n      <td>19e2e</td>\n      <td>/u0FSD+ahi</td>\n      <td>/u0FSD+ahi</td>\n    </tr>\n    <tr>\n      <th>3</th>\n      <td>Voice</td>\n      <td>56</td>\n      <td>05:42.0</td>\n      <td>1</td>\n      <td>7370032e20f4e96</td>\n      <td>6af4a60e74c91d3</td>\n      <td>19e2e</td>\n      <td>19e2e</td>\n      <td>#NAME?</td>\n      <td>#NAME?</td>\n    </tr>\n    <tr>\n      <th>4</th>\n      <td>Voice</td>\n      <td>14</td>\n      <td>06:29.0</td>\n      <td>1</td>\n      <td>966ba4656e38e62</td>\n      <td>02aa736ee555d5c</td>\n      <td>19e2e</td>\n      <td>19e2e</td>\n      <td>051KhYDCpv</td>\n      <td>051KhYDCpv</td>\n    </tr>\n  </tbody>\n</table>\n</div>"
     },
     "metadata": {},
     "execution_count": 144
    }
   ],
   "source": [
    "concatenated.head()"
   ]
  },
  {
   "cell_type": "code",
   "execution_count": 145,
   "metadata": {},
   "outputs": [
    {
     "output_type": "execute_result",
     "data": {
      "text/plain": [
       "         LONGITUDE     LATITUDE\n",
       "count  3974.000000  3974.000000\n",
       "mean     -4.877659     6.244749\n",
       "std       1.300771     1.304199\n",
       "min      -8.503889     0.000000\n",
       "25%      -5.846139     5.338639\n",
       "50%      -4.084500     5.475000\n",
       "75%      -3.993444     6.872306\n",
       "max      -0.000000    10.481861"
      ],
      "text/html": "<div>\n<style scoped>\n    .dataframe tbody tr th:only-of-type {\n        vertical-align: middle;\n    }\n\n    .dataframe tbody tr th {\n        vertical-align: top;\n    }\n\n    .dataframe thead th {\n        text-align: right;\n    }\n</style>\n<table border=\"1\" class=\"dataframe\">\n  <thead>\n    <tr style=\"text-align: right;\">\n      <th></th>\n      <th>LONGITUDE</th>\n      <th>LATITUDE</th>\n    </tr>\n  </thead>\n  <tbody>\n    <tr>\n      <th>count</th>\n      <td>3974.000000</td>\n      <td>3974.000000</td>\n    </tr>\n    <tr>\n      <th>mean</th>\n      <td>-4.877659</td>\n      <td>6.244749</td>\n    </tr>\n    <tr>\n      <th>std</th>\n      <td>1.300771</td>\n      <td>1.304199</td>\n    </tr>\n    <tr>\n      <th>min</th>\n      <td>-8.503889</td>\n      <td>0.000000</td>\n    </tr>\n    <tr>\n      <th>25%</th>\n      <td>-5.846139</td>\n      <td>5.338639</td>\n    </tr>\n    <tr>\n      <th>50%</th>\n      <td>-4.084500</td>\n      <td>5.475000</td>\n    </tr>\n    <tr>\n      <th>75%</th>\n      <td>-3.993444</td>\n      <td>6.872306</td>\n    </tr>\n    <tr>\n      <th>max</th>\n      <td>-0.000000</td>\n      <td>10.481861</td>\n    </tr>\n  </tbody>\n</table>\n</div>"
     },
     "metadata": {},
     "execution_count": 145
    }
   ],
   "source": [
    "data_6.describe()"
   ]
  },
  {
   "cell_type": "code",
   "execution_count": 146,
   "metadata": {},
   "outputs": [],
   "source": [
    "# Checking the total rows with missing data in the concatenated datasets\n",
    "concatenated.isnull().sum()\n",
    "# Dropping rows that contain missing data\n",
    "concatenatedf= concatenated.dropna()"
   ]
  },
  {
   "cell_type": "code",
   "execution_count": 147,
   "metadata": {},
   "outputs": [
    {
     "output_type": "execute_result",
     "data": {
      "text/plain": [
       "    VILLES      STATUS LOCALISATION    DECOUPZONE  ZONENAME  LONGITUDE  \\\n",
       "0   ADJAME  In Service      ABIDJAN  \"Abidjan_EST  AGBANNEW  -4.000667   \n",
       "1   ADJAME  In Service      ABIDJAN  \"Abidjan_EST  AGBANNEW  -4.000667   \n",
       "2   ADJAME  In Service      ABIDJAN  \"Abidjan_EST  AGBANNEW  -4.000667   \n",
       "3  ASSINIE  In Service    INTERIEUR     Grand-EST  ASSINIE\"  -3.488467   \n",
       "4  ASSINIE  In Service    INTERIEUR     Grand-EST  ASSINIE\"  -3.488467   \n",
       "\n",
       "   LATITUDE     REGION AREA     CELL_ID   SITE_CODE  \n",
       "0  5.368194     LAGUNE  NaN  fbb2e75af3  0bb492ef17  \n",
       "1  5.368194     LAGUNE  NaN  1502501d78  0bb492ef17  \n",
       "2  5.368194     LAGUNE  NaN  0c2e182a0c  0bb492ef17  \n",
       "3  5.158761  SUD COMOE  NaN  69bdfc69fd  8a1e6ce31f  \n",
       "4  5.158761  SUD COMOE  NaN  7a1029d2ab  8a1e6ce31f  "
      ],
      "text/html": "<div>\n<style scoped>\n    .dataframe tbody tr th:only-of-type {\n        vertical-align: middle;\n    }\n\n    .dataframe tbody tr th {\n        vertical-align: top;\n    }\n\n    .dataframe thead th {\n        text-align: right;\n    }\n</style>\n<table border=\"1\" class=\"dataframe\">\n  <thead>\n    <tr style=\"text-align: right;\">\n      <th></th>\n      <th>VILLES</th>\n      <th>STATUS</th>\n      <th>LOCALISATION</th>\n      <th>DECOUPZONE</th>\n      <th>ZONENAME</th>\n      <th>LONGITUDE</th>\n      <th>LATITUDE</th>\n      <th>REGION</th>\n      <th>AREA</th>\n      <th>CELL_ID</th>\n      <th>SITE_CODE</th>\n    </tr>\n  </thead>\n  <tbody>\n    <tr>\n      <th>0</th>\n      <td>ADJAME</td>\n      <td>In Service</td>\n      <td>ABIDJAN</td>\n      <td>\"Abidjan_EST</td>\n      <td>AGBANNEW</td>\n      <td>-4.000667</td>\n      <td>5.368194</td>\n      <td>LAGUNE</td>\n      <td>NaN</td>\n      <td>fbb2e75af3</td>\n      <td>0bb492ef17</td>\n    </tr>\n    <tr>\n      <th>1</th>\n      <td>ADJAME</td>\n      <td>In Service</td>\n      <td>ABIDJAN</td>\n      <td>\"Abidjan_EST</td>\n      <td>AGBANNEW</td>\n      <td>-4.000667</td>\n      <td>5.368194</td>\n      <td>LAGUNE</td>\n      <td>NaN</td>\n      <td>1502501d78</td>\n      <td>0bb492ef17</td>\n    </tr>\n    <tr>\n      <th>2</th>\n      <td>ADJAME</td>\n      <td>In Service</td>\n      <td>ABIDJAN</td>\n      <td>\"Abidjan_EST</td>\n      <td>AGBANNEW</td>\n      <td>-4.000667</td>\n      <td>5.368194</td>\n      <td>LAGUNE</td>\n      <td>NaN</td>\n      <td>0c2e182a0c</td>\n      <td>0bb492ef17</td>\n    </tr>\n    <tr>\n      <th>3</th>\n      <td>ASSINIE</td>\n      <td>In Service</td>\n      <td>INTERIEUR</td>\n      <td>Grand-EST</td>\n      <td>ASSINIE\"</td>\n      <td>-3.488467</td>\n      <td>5.158761</td>\n      <td>SUD COMOE</td>\n      <td>NaN</td>\n      <td>69bdfc69fd</td>\n      <td>8a1e6ce31f</td>\n    </tr>\n    <tr>\n      <th>4</th>\n      <td>ASSINIE</td>\n      <td>In Service</td>\n      <td>INTERIEUR</td>\n      <td>Grand-EST</td>\n      <td>ASSINIE\"</td>\n      <td>-3.488467</td>\n      <td>5.158761</td>\n      <td>SUD COMOE</td>\n      <td>NaN</td>\n      <td>7a1029d2ab</td>\n      <td>8a1e6ce31f</td>\n    </tr>\n  </tbody>\n</table>\n</div>"
     },
     "metadata": {},
     "execution_count": 147
    }
   ],
   "source": [
    "data_6.head()"
   ]
  },
  {
   "cell_type": "code",
   "execution_count": 148,
   "metadata": {},
   "outputs": [
    {
     "output_type": "execute_result",
     "data": {
      "text/plain": [
       "    VILLES      STATUS LOCALISATION    DECOUPZONE  ZONENAME  LONGITUDE  \\\n",
       "0   ADJAME  In Service      ABIDJAN  \"Abidjan_EST  AGBANNEW  -4.000667   \n",
       "1   ADJAME  In Service      ABIDJAN  \"Abidjan_EST  AGBANNEW  -4.000667   \n",
       "2   ADJAME  In Service      ABIDJAN  \"Abidjan_EST  AGBANNEW  -4.000667   \n",
       "3  ASSINIE  In Service    INTERIEUR     Grand-EST  ASSINIE\"  -3.488467   \n",
       "4  ASSINIE  In Service    INTERIEUR     Grand-EST  ASSINIE\"  -3.488467   \n",
       "\n",
       "   LATITUDE     REGION AREA     CELL_ID     SITE_ID  \n",
       "0  5.368194     LAGUNE  NaN  fbb2e75af3  0bb492ef17  \n",
       "1  5.368194     LAGUNE  NaN  1502501d78  0bb492ef17  \n",
       "2  5.368194     LAGUNE  NaN  0c2e182a0c  0bb492ef17  \n",
       "3  5.158761  SUD COMOE  NaN  69bdfc69fd  8a1e6ce31f  \n",
       "4  5.158761  SUD COMOE  NaN  7a1029d2ab  8a1e6ce31f  "
      ],
      "text/html": "<div>\n<style scoped>\n    .dataframe tbody tr th:only-of-type {\n        vertical-align: middle;\n    }\n\n    .dataframe tbody tr th {\n        vertical-align: top;\n    }\n\n    .dataframe thead th {\n        text-align: right;\n    }\n</style>\n<table border=\"1\" class=\"dataframe\">\n  <thead>\n    <tr style=\"text-align: right;\">\n      <th></th>\n      <th>VILLES</th>\n      <th>STATUS</th>\n      <th>LOCALISATION</th>\n      <th>DECOUPZONE</th>\n      <th>ZONENAME</th>\n      <th>LONGITUDE</th>\n      <th>LATITUDE</th>\n      <th>REGION</th>\n      <th>AREA</th>\n      <th>CELL_ID</th>\n      <th>SITE_ID</th>\n    </tr>\n  </thead>\n  <tbody>\n    <tr>\n      <th>0</th>\n      <td>ADJAME</td>\n      <td>In Service</td>\n      <td>ABIDJAN</td>\n      <td>\"Abidjan_EST</td>\n      <td>AGBANNEW</td>\n      <td>-4.000667</td>\n      <td>5.368194</td>\n      <td>LAGUNE</td>\n      <td>NaN</td>\n      <td>fbb2e75af3</td>\n      <td>0bb492ef17</td>\n    </tr>\n    <tr>\n      <th>1</th>\n      <td>ADJAME</td>\n      <td>In Service</td>\n      <td>ABIDJAN</td>\n      <td>\"Abidjan_EST</td>\n      <td>AGBANNEW</td>\n      <td>-4.000667</td>\n      <td>5.368194</td>\n      <td>LAGUNE</td>\n      <td>NaN</td>\n      <td>1502501d78</td>\n      <td>0bb492ef17</td>\n    </tr>\n    <tr>\n      <th>2</th>\n      <td>ADJAME</td>\n      <td>In Service</td>\n      <td>ABIDJAN</td>\n      <td>\"Abidjan_EST</td>\n      <td>AGBANNEW</td>\n      <td>-4.000667</td>\n      <td>5.368194</td>\n      <td>LAGUNE</td>\n      <td>NaN</td>\n      <td>0c2e182a0c</td>\n      <td>0bb492ef17</td>\n    </tr>\n    <tr>\n      <th>3</th>\n      <td>ASSINIE</td>\n      <td>In Service</td>\n      <td>INTERIEUR</td>\n      <td>Grand-EST</td>\n      <td>ASSINIE\"</td>\n      <td>-3.488467</td>\n      <td>5.158761</td>\n      <td>SUD COMOE</td>\n      <td>NaN</td>\n      <td>69bdfc69fd</td>\n      <td>8a1e6ce31f</td>\n    </tr>\n    <tr>\n      <th>4</th>\n      <td>ASSINIE</td>\n      <td>In Service</td>\n      <td>INTERIEUR</td>\n      <td>Grand-EST</td>\n      <td>ASSINIE\"</td>\n      <td>-3.488467</td>\n      <td>5.158761</td>\n      <td>SUD COMOE</td>\n      <td>NaN</td>\n      <td>7a1029d2ab</td>\n      <td>8a1e6ce31f</td>\n    </tr>\n  </tbody>\n</table>\n</div>"
     },
     "metadata": {},
     "execution_count": 148
    }
   ],
   "source": [
    "# Change column site code to site id\n",
    "data_6d = data_6.rename(columns={\"SITE_CODE\": \"SITE_ID\"})\n",
    "data_6d.head()"
   ]
  },
  {
   "cell_type": "code",
   "execution_count": 149,
   "metadata": {},
   "outputs": [],
   "source": [
    "# Find the total missing values in dataset 6d\n",
    "data_6d.isnull().sum()\n",
    "# Dropping rows that contain missing data\n",
    "data_6a= data_6d.dropna()"
   ]
  },
  {
   "cell_type": "code",
   "execution_count": 150,
   "metadata": {},
   "outputs": [
    {
     "output_type": "execute_result",
     "data": {
      "text/plain": [
       "   VILLES      STATUS LOCALISATION    DECOUPZONE               ZONENAME  \\\n",
       "23  ABOBO  In Service      ABIDJAN  Abidjan_NORD  ZONE E - Abidjan_NORD   \n",
       "24  ABOBO  In Service      ABIDJAN  Abidjan_NORD  ZONE E - Abidjan_NORD   \n",
       "25  ABOBO  In Service      ABIDJAN  Abidjan_NORD  ZONE E - Abidjan_NORD   \n",
       "26  ABOBO  In Service      ABIDJAN  Abidjan_NORD  ZONE E - Abidjan_NORD   \n",
       "27  ABOBO  In Service      ABIDJAN  Abidjan_NORD  ZONE E - Abidjan_NORD   \n",
       "\n",
       "    LONGITUDE  LATITUDE  REGION           AREA     CELL_ID     SITE_ID  \n",
       "23  -4.014139    5.4335  LAGUNE  ABIDJAN NORTH  f740406877  0f34c36ac5  \n",
       "24  -4.014139    5.4335  LAGUNE  ABIDJAN NORTH  959e54c8f7  0f34c36ac5  \n",
       "25  -4.014139    5.4335  LAGUNE  ABIDJAN NORTH  56b7e7000c  0f34c36ac5  \n",
       "26  -4.014139    5.4335  LAGUNE  ABIDJAN NORTH  bc51c17a6f  0f34c36ac5  \n",
       "27  -4.014139    5.4335  LAGUNE  ABIDJAN NORTH  e460975c9f  0f34c36ac5  "
      ],
      "text/html": "<div>\n<style scoped>\n    .dataframe tbody tr th:only-of-type {\n        vertical-align: middle;\n    }\n\n    .dataframe tbody tr th {\n        vertical-align: top;\n    }\n\n    .dataframe thead th {\n        text-align: right;\n    }\n</style>\n<table border=\"1\" class=\"dataframe\">\n  <thead>\n    <tr style=\"text-align: right;\">\n      <th></th>\n      <th>VILLES</th>\n      <th>STATUS</th>\n      <th>LOCALISATION</th>\n      <th>DECOUPZONE</th>\n      <th>ZONENAME</th>\n      <th>LONGITUDE</th>\n      <th>LATITUDE</th>\n      <th>REGION</th>\n      <th>AREA</th>\n      <th>CELL_ID</th>\n      <th>SITE_ID</th>\n    </tr>\n  </thead>\n  <tbody>\n    <tr>\n      <th>23</th>\n      <td>ABOBO</td>\n      <td>In Service</td>\n      <td>ABIDJAN</td>\n      <td>Abidjan_NORD</td>\n      <td>ZONE E - Abidjan_NORD</td>\n      <td>-4.014139</td>\n      <td>5.4335</td>\n      <td>LAGUNE</td>\n      <td>ABIDJAN NORTH</td>\n      <td>f740406877</td>\n      <td>0f34c36ac5</td>\n    </tr>\n    <tr>\n      <th>24</th>\n      <td>ABOBO</td>\n      <td>In Service</td>\n      <td>ABIDJAN</td>\n      <td>Abidjan_NORD</td>\n      <td>ZONE E - Abidjan_NORD</td>\n      <td>-4.014139</td>\n      <td>5.4335</td>\n      <td>LAGUNE</td>\n      <td>ABIDJAN NORTH</td>\n      <td>959e54c8f7</td>\n      <td>0f34c36ac5</td>\n    </tr>\n    <tr>\n      <th>25</th>\n      <td>ABOBO</td>\n      <td>In Service</td>\n      <td>ABIDJAN</td>\n      <td>Abidjan_NORD</td>\n      <td>ZONE E - Abidjan_NORD</td>\n      <td>-4.014139</td>\n      <td>5.4335</td>\n      <td>LAGUNE</td>\n      <td>ABIDJAN NORTH</td>\n      <td>56b7e7000c</td>\n      <td>0f34c36ac5</td>\n    </tr>\n    <tr>\n      <th>26</th>\n      <td>ABOBO</td>\n      <td>In Service</td>\n      <td>ABIDJAN</td>\n      <td>Abidjan_NORD</td>\n      <td>ZONE E - Abidjan_NORD</td>\n      <td>-4.014139</td>\n      <td>5.4335</td>\n      <td>LAGUNE</td>\n      <td>ABIDJAN NORTH</td>\n      <td>bc51c17a6f</td>\n      <td>0f34c36ac5</td>\n    </tr>\n    <tr>\n      <th>27</th>\n      <td>ABOBO</td>\n      <td>In Service</td>\n      <td>ABIDJAN</td>\n      <td>Abidjan_NORD</td>\n      <td>ZONE E - Abidjan_NORD</td>\n      <td>-4.014139</td>\n      <td>5.4335</td>\n      <td>LAGUNE</td>\n      <td>ABIDJAN NORTH</td>\n      <td>e460975c9f</td>\n      <td>0f34c36ac5</td>\n    </tr>\n  </tbody>\n</table>\n</div>"
     },
     "metadata": {},
     "execution_count": 150
    }
   ],
   "source": [
    "# Remove duplicate values\n",
    "data_6a.duplicated().sum()\n",
    "data_6a2 = data_6a.drop_duplicates()\n",
    "data_6a2.head()"
   ]
  },
  {
   "cell_type": "code",
   "execution_count": 151,
   "metadata": {},
   "outputs": [
    {
     "output_type": "execute_result",
     "data": {
      "text/plain": [
       "  PRODUCT  VALUE DATE_TIME CELL_ON_SITE  DW_A_NUMBER_INT  DW_B_NUMBER_INT  \\\n",
       "0   Voice      0   04:37.0            1  49fae048b547780  1a49f8b0ded9de6   \n",
       "1     sms      0   05:25.0            0  7a54a6eaee19e65  93343ba6e41af95   \n",
       "2     sms     25   05:41.0            0  6008887b0207d82  7aacc9709ce0a20   \n",
       "3   Voice     56   05:42.0            1  7370032e20f4e96  6af4a60e74c91d3   \n",
       "4   Voice     14   06:29.0            1  966ba4656e38e62  02aa736ee555d5c   \n",
       "\n",
       "  COUNTRY_A COUNTRY_B     CELL_ID     SITE_ID  \n",
       "0     19e2e     19e2e  /TJNe+Mmtu  /TJNe+Mmtu  \n",
       "1     19e2e     19e2e  /+cKZKIp41  /+cKZKIp41  \n",
       "2     19e2e     19e2e  /u0FSD+ahi  /u0FSD+ahi  \n",
       "3     19e2e     19e2e      #NAME?      #NAME?  \n",
       "4     19e2e     19e2e  051KhYDCpv  051KhYDCpv  "
      ],
      "text/html": "<div>\n<style scoped>\n    .dataframe tbody tr th:only-of-type {\n        vertical-align: middle;\n    }\n\n    .dataframe tbody tr th {\n        vertical-align: top;\n    }\n\n    .dataframe thead th {\n        text-align: right;\n    }\n</style>\n<table border=\"1\" class=\"dataframe\">\n  <thead>\n    <tr style=\"text-align: right;\">\n      <th></th>\n      <th>PRODUCT</th>\n      <th>VALUE</th>\n      <th>DATE_TIME</th>\n      <th>CELL_ON_SITE</th>\n      <th>DW_A_NUMBER_INT</th>\n      <th>DW_B_NUMBER_INT</th>\n      <th>COUNTRY_A</th>\n      <th>COUNTRY_B</th>\n      <th>CELL_ID</th>\n      <th>SITE_ID</th>\n    </tr>\n  </thead>\n  <tbody>\n    <tr>\n      <th>0</th>\n      <td>Voice</td>\n      <td>0</td>\n      <td>04:37.0</td>\n      <td>1</td>\n      <td>49fae048b547780</td>\n      <td>1a49f8b0ded9de6</td>\n      <td>19e2e</td>\n      <td>19e2e</td>\n      <td>/TJNe+Mmtu</td>\n      <td>/TJNe+Mmtu</td>\n    </tr>\n    <tr>\n      <th>1</th>\n      <td>sms</td>\n      <td>0</td>\n      <td>05:25.0</td>\n      <td>0</td>\n      <td>7a54a6eaee19e65</td>\n      <td>93343ba6e41af95</td>\n      <td>19e2e</td>\n      <td>19e2e</td>\n      <td>/+cKZKIp41</td>\n      <td>/+cKZKIp41</td>\n    </tr>\n    <tr>\n      <th>2</th>\n      <td>sms</td>\n      <td>25</td>\n      <td>05:41.0</td>\n      <td>0</td>\n      <td>6008887b0207d82</td>\n      <td>7aacc9709ce0a20</td>\n      <td>19e2e</td>\n      <td>19e2e</td>\n      <td>/u0FSD+ahi</td>\n      <td>/u0FSD+ahi</td>\n    </tr>\n    <tr>\n      <th>3</th>\n      <td>Voice</td>\n      <td>56</td>\n      <td>05:42.0</td>\n      <td>1</td>\n      <td>7370032e20f4e96</td>\n      <td>6af4a60e74c91d3</td>\n      <td>19e2e</td>\n      <td>19e2e</td>\n      <td>#NAME?</td>\n      <td>#NAME?</td>\n    </tr>\n    <tr>\n      <th>4</th>\n      <td>Voice</td>\n      <td>14</td>\n      <td>06:29.0</td>\n      <td>1</td>\n      <td>966ba4656e38e62</td>\n      <td>02aa736ee555d5c</td>\n      <td>19e2e</td>\n      <td>19e2e</td>\n      <td>051KhYDCpv</td>\n      <td>051KhYDCpv</td>\n    </tr>\n  </tbody>\n</table>\n</div>"
     },
     "metadata": {},
     "execution_count": 151
    }
   ],
   "source": [
    "# Find and remove duplicates in concatenatedf dataset\n",
    "concatenatedf.duplicated().sum()\n",
    "final_1 = concatenatedf.drop_duplicates()\n",
    "final_1.head()"
   ]
  },
  {
   "cell_type": "code",
   "execution_count": 152,
   "metadata": {},
   "outputs": [
    {
     "output_type": "execute_result",
     "data": {
      "text/plain": [
       "False"
      ]
     },
     "metadata": {},
     "execution_count": 152
    }
   ],
   "source": [
    "# Checking if my final_1 dataset has any null values\n",
    "final_1.isnull().values.any()"
   ]
  },
  {
   "cell_type": "code",
   "execution_count": 153,
   "metadata": {},
   "outputs": [
    {
     "output_type": "execute_result",
     "data": {
      "text/plain": [
       "False"
      ]
     },
     "metadata": {},
     "execution_count": 153
    }
   ],
   "source": [
    "# Checking if my data_6a2 dataset has any null values\n",
    "data_6a2.isnull().values.any()"
   ]
  },
  {
   "cell_type": "code",
   "execution_count": 154,
   "metadata": {},
   "outputs": [
    {
     "output_type": "execute_result",
     "data": {
      "text/plain": [
       "  PRODUCT  VALUE DATE_TIME CELL_ON_SITE COUNTRY_A COUNTRY_B     CELL_ID  \\\n",
       "0   Voice      0   04:37.0            1     19e2e     19e2e  /TJNe+Mmtu   \n",
       "1     sms      0   05:25.0            0     19e2e     19e2e  /+cKZKIp41   \n",
       "2     sms     25   05:41.0            0     19e2e     19e2e  /u0FSD+ahi   \n",
       "3   Voice     56   05:42.0            1     19e2e     19e2e      #NAME?   \n",
       "4   Voice     14   06:29.0            1     19e2e     19e2e  051KhYDCpv   \n",
       "\n",
       "      SITE_ID  \n",
       "0  /TJNe+Mmtu  \n",
       "1  /+cKZKIp41  \n",
       "2  /u0FSD+ahi  \n",
       "3      #NAME?  \n",
       "4  051KhYDCpv  "
      ],
      "text/html": "<div>\n<style scoped>\n    .dataframe tbody tr th:only-of-type {\n        vertical-align: middle;\n    }\n\n    .dataframe tbody tr th {\n        vertical-align: top;\n    }\n\n    .dataframe thead th {\n        text-align: right;\n    }\n</style>\n<table border=\"1\" class=\"dataframe\">\n  <thead>\n    <tr style=\"text-align: right;\">\n      <th></th>\n      <th>PRODUCT</th>\n      <th>VALUE</th>\n      <th>DATE_TIME</th>\n      <th>CELL_ON_SITE</th>\n      <th>COUNTRY_A</th>\n      <th>COUNTRY_B</th>\n      <th>CELL_ID</th>\n      <th>SITE_ID</th>\n    </tr>\n  </thead>\n  <tbody>\n    <tr>\n      <th>0</th>\n      <td>Voice</td>\n      <td>0</td>\n      <td>04:37.0</td>\n      <td>1</td>\n      <td>19e2e</td>\n      <td>19e2e</td>\n      <td>/TJNe+Mmtu</td>\n      <td>/TJNe+Mmtu</td>\n    </tr>\n    <tr>\n      <th>1</th>\n      <td>sms</td>\n      <td>0</td>\n      <td>05:25.0</td>\n      <td>0</td>\n      <td>19e2e</td>\n      <td>19e2e</td>\n      <td>/+cKZKIp41</td>\n      <td>/+cKZKIp41</td>\n    </tr>\n    <tr>\n      <th>2</th>\n      <td>sms</td>\n      <td>25</td>\n      <td>05:41.0</td>\n      <td>0</td>\n      <td>19e2e</td>\n      <td>19e2e</td>\n      <td>/u0FSD+ahi</td>\n      <td>/u0FSD+ahi</td>\n    </tr>\n    <tr>\n      <th>3</th>\n      <td>Voice</td>\n      <td>56</td>\n      <td>05:42.0</td>\n      <td>1</td>\n      <td>19e2e</td>\n      <td>19e2e</td>\n      <td>#NAME?</td>\n      <td>#NAME?</td>\n    </tr>\n    <tr>\n      <th>4</th>\n      <td>Voice</td>\n      <td>14</td>\n      <td>06:29.0</td>\n      <td>1</td>\n      <td>19e2e</td>\n      <td>19e2e</td>\n      <td>051KhYDCpv</td>\n      <td>051KhYDCpv</td>\n    </tr>\n  </tbody>\n</table>\n</div>"
     },
     "metadata": {},
     "execution_count": 154
    }
   ],
   "source": [
    "# Drop columns on final_1 dataset\n",
    "df=final_1.drop(columns=['DW_A_NUMBER_INT', 'DW_B_NUMBER_INT'])\n",
    "df.head()"
   ]
  },
  {
   "cell_type": "code",
   "execution_count": 161,
   "metadata": {},
   "outputs": [
    {
     "output_type": "execute_result",
     "data": {
      "text/plain": [
       "Index(['VILLES', 'STATUS', 'LOCALISATION', 'DECOUPZONE', 'ZONENAME', 'AREA',\n",
       "       'SITE_ID'],\n",
       "      dtype='object')"
      ]
     },
     "metadata": {},
     "execution_count": 161
    }
   ],
   "source": [
    "# Drop columns on data_6a2\n",
    "data_6f=data_6a2.drop(columns=['LONGITUDE', 'LATITUDE', 'REGION', 'CELL_ID'])\n",
    "data_6f.head()\n",
    "data_6f.columns\n"
   ]
  },
  {
   "cell_type": "code",
   "execution_count": 157,
   "metadata": {},
   "outputs": [
    {
     "output_type": "execute_result",
     "data": {
      "text/plain": [
       "  PRODUCT  VALUE DATE_TIME CELL_ON_SITE COUNTRY_A COUNTRY_B     CELL_ID  \\\n",
       "0     sms    0.0   00:16.0            0     19e2e     19e2e  e12d87c801   \n",
       "1     sms    0.0   00:20.0            0     19e2e     19e2e  e12d87c801   \n",
       "2     sms    0.0   00:20.0            0     19e2e     19e2e  e12d87c801   \n",
       "3     sms    0.0   00:22.0            0     19e2e     19e2e  e12d87c801   \n",
       "4   Voice   14.0   00:37.0            1     19e2e     19e2e  10ae6c0752   \n",
       "\n",
       "      SITE_ID VILLES      STATUS LOCALISATION    DECOUPZONE  \\\n",
       "0  0f34c36ac5  ABOBO  In Service      ABIDJAN  Abidjan_NORD   \n",
       "1  0f34c36ac5  ABOBO  In Service      ABIDJAN  Abidjan_NORD   \n",
       "2  0f34c36ac5  ABOBO  In Service      ABIDJAN  Abidjan_NORD   \n",
       "3  0f34c36ac5  ABOBO  In Service      ABIDJAN  Abidjan_NORD   \n",
       "4  0f34c36ac5  ABOBO  In Service      ABIDJAN  Abidjan_NORD   \n",
       "\n",
       "                ZONENAME           AREA  \n",
       "0  ZONE E - Abidjan_NORD  ABIDJAN NORTH  \n",
       "1  ZONE E - Abidjan_NORD  ABIDJAN NORTH  \n",
       "2  ZONE E - Abidjan_NORD  ABIDJAN NORTH  \n",
       "3  ZONE E - Abidjan_NORD  ABIDJAN NORTH  \n",
       "4  ZONE E - Abidjan_NORD  ABIDJAN NORTH  "
      ],
      "text/html": "<div>\n<style scoped>\n    .dataframe tbody tr th:only-of-type {\n        vertical-align: middle;\n    }\n\n    .dataframe tbody tr th {\n        vertical-align: top;\n    }\n\n    .dataframe thead th {\n        text-align: right;\n    }\n</style>\n<table border=\"1\" class=\"dataframe\">\n  <thead>\n    <tr style=\"text-align: right;\">\n      <th></th>\n      <th>PRODUCT</th>\n      <th>VALUE</th>\n      <th>DATE_TIME</th>\n      <th>CELL_ON_SITE</th>\n      <th>COUNTRY_A</th>\n      <th>COUNTRY_B</th>\n      <th>CELL_ID</th>\n      <th>SITE_ID</th>\n      <th>VILLES</th>\n      <th>STATUS</th>\n      <th>LOCALISATION</th>\n      <th>DECOUPZONE</th>\n      <th>ZONENAME</th>\n      <th>AREA</th>\n    </tr>\n  </thead>\n  <tbody>\n    <tr>\n      <th>0</th>\n      <td>sms</td>\n      <td>0.0</td>\n      <td>00:16.0</td>\n      <td>0</td>\n      <td>19e2e</td>\n      <td>19e2e</td>\n      <td>e12d87c801</td>\n      <td>0f34c36ac5</td>\n      <td>ABOBO</td>\n      <td>In Service</td>\n      <td>ABIDJAN</td>\n      <td>Abidjan_NORD</td>\n      <td>ZONE E - Abidjan_NORD</td>\n      <td>ABIDJAN NORTH</td>\n    </tr>\n    <tr>\n      <th>1</th>\n      <td>sms</td>\n      <td>0.0</td>\n      <td>00:20.0</td>\n      <td>0</td>\n      <td>19e2e</td>\n      <td>19e2e</td>\n      <td>e12d87c801</td>\n      <td>0f34c36ac5</td>\n      <td>ABOBO</td>\n      <td>In Service</td>\n      <td>ABIDJAN</td>\n      <td>Abidjan_NORD</td>\n      <td>ZONE E - Abidjan_NORD</td>\n      <td>ABIDJAN NORTH</td>\n    </tr>\n    <tr>\n      <th>2</th>\n      <td>sms</td>\n      <td>0.0</td>\n      <td>00:20.0</td>\n      <td>0</td>\n      <td>19e2e</td>\n      <td>19e2e</td>\n      <td>e12d87c801</td>\n      <td>0f34c36ac5</td>\n      <td>ABOBO</td>\n      <td>In Service</td>\n      <td>ABIDJAN</td>\n      <td>Abidjan_NORD</td>\n      <td>ZONE E - Abidjan_NORD</td>\n      <td>ABIDJAN NORTH</td>\n    </tr>\n    <tr>\n      <th>3</th>\n      <td>sms</td>\n      <td>0.0</td>\n      <td>00:22.0</td>\n      <td>0</td>\n      <td>19e2e</td>\n      <td>19e2e</td>\n      <td>e12d87c801</td>\n      <td>0f34c36ac5</td>\n      <td>ABOBO</td>\n      <td>In Service</td>\n      <td>ABIDJAN</td>\n      <td>Abidjan_NORD</td>\n      <td>ZONE E - Abidjan_NORD</td>\n      <td>ABIDJAN NORTH</td>\n    </tr>\n    <tr>\n      <th>4</th>\n      <td>Voice</td>\n      <td>14.0</td>\n      <td>00:37.0</td>\n      <td>1</td>\n      <td>19e2e</td>\n      <td>19e2e</td>\n      <td>10ae6c0752</td>\n      <td>0f34c36ac5</td>\n      <td>ABOBO</td>\n      <td>In Service</td>\n      <td>ABIDJAN</td>\n      <td>Abidjan_NORD</td>\n      <td>ZONE E - Abidjan_NORD</td>\n      <td>ABIDJAN NORTH</td>\n    </tr>\n  </tbody>\n</table>\n</div>"
     },
     "metadata": {},
     "execution_count": 157
    }
   ],
   "source": [
    "# Merge data_6f and df on site_id\n",
    "final_df = df.merge(data_6f, how=\"right\", on = 'SITE_ID')\n",
    "final_df.head()"
   ]
  },
  {
   "cell_type": "code",
   "execution_count": 160,
   "metadata": {},
   "outputs": [
    {
     "output_type": "execute_result",
     "data": {
      "text/plain": [
       "                count       mean         std  min  25%   50%   75%     max\n",
       "VILLES                                                                    \n",
       "ABENGOUROU      180.0  47.683333   86.372228  0.0  7.5  25.0  25.0   480.0\n",
       "ABOBO          5922.0  20.109085  114.696913  0.0  0.0   0.0  25.0  3380.0\n",
       "ABOISSO          90.0  18.333333   45.565609  0.0  0.0   0.0   8.0   180.0\n",
       "ABOISSO COMOE    18.0  44.166667   58.692870  0.0  0.0  12.5  90.0   150.0\n",
       "ABONGOUA          3.0   1.000000    0.000000  1.0  1.0   1.0   1.0     1.0"
      ],
      "text/html": "<div>\n<style scoped>\n    .dataframe tbody tr th:only-of-type {\n        vertical-align: middle;\n    }\n\n    .dataframe tbody tr th {\n        vertical-align: top;\n    }\n\n    .dataframe thead th {\n        text-align: right;\n    }\n</style>\n<table border=\"1\" class=\"dataframe\">\n  <thead>\n    <tr style=\"text-align: right;\">\n      <th></th>\n      <th>count</th>\n      <th>mean</th>\n      <th>std</th>\n      <th>min</th>\n      <th>25%</th>\n      <th>50%</th>\n      <th>75%</th>\n      <th>max</th>\n    </tr>\n    <tr>\n      <th>VILLES</th>\n      <th></th>\n      <th></th>\n      <th></th>\n      <th></th>\n      <th></th>\n      <th></th>\n      <th></th>\n      <th></th>\n    </tr>\n  </thead>\n  <tbody>\n    <tr>\n      <th>ABENGOUROU</th>\n      <td>180.0</td>\n      <td>47.683333</td>\n      <td>86.372228</td>\n      <td>0.0</td>\n      <td>7.5</td>\n      <td>25.0</td>\n      <td>25.0</td>\n      <td>480.0</td>\n    </tr>\n    <tr>\n      <th>ABOBO</th>\n      <td>5922.0</td>\n      <td>20.109085</td>\n      <td>114.696913</td>\n      <td>0.0</td>\n      <td>0.0</td>\n      <td>0.0</td>\n      <td>25.0</td>\n      <td>3380.0</td>\n    </tr>\n    <tr>\n      <th>ABOISSO</th>\n      <td>90.0</td>\n      <td>18.333333</td>\n      <td>45.565609</td>\n      <td>0.0</td>\n      <td>0.0</td>\n      <td>0.0</td>\n      <td>8.0</td>\n      <td>180.0</td>\n    </tr>\n    <tr>\n      <th>ABOISSO COMOE</th>\n      <td>18.0</td>\n      <td>44.166667</td>\n      <td>58.692870</td>\n      <td>0.0</td>\n      <td>0.0</td>\n      <td>12.5</td>\n      <td>90.0</td>\n      <td>150.0</td>\n    </tr>\n    <tr>\n      <th>ABONGOUA</th>\n      <td>3.0</td>\n      <td>1.000000</td>\n      <td>0.000000</td>\n      <td>1.0</td>\n      <td>1.0</td>\n      <td>1.0</td>\n      <td>1.0</td>\n      <td>1.0</td>\n    </tr>\n  </tbody>\n</table>\n</div>"
     },
     "metadata": {},
     "execution_count": 160
    }
   ],
   "source": [
    "# Most used city in the three days\n",
    "#Descriptive statistics between our city and Values column \n",
    "most_used_city=final_df['VALUE'].groupby(final_df['VILLES']).describe()\n",
    "most_used_city.head(5)\n",
    "\n"
   ]
  },
  {
   "cell_type": "code",
   "execution_count": 179,
   "metadata": {},
   "outputs": [
    {
     "output_type": "execute_result",
     "data": {
      "text/plain": [
       "VALUE\n",
       "2120.0    TREICHVILLE\n",
       "2212.0        DAOUKRO\n",
       "2330.0        SIPILOU\n",
       "3380.0          ABOBO\n",
       "6750.0         COCODY\n",
       "Name: VILLES, dtype: object"
      ]
     },
     "metadata": {},
     "execution_count": 179
    }
   ],
   "source": [
    "#Cheking which cities were the most used using the Value column\n",
    "# From the description dataset, the value column is the billing price so the city with the highest billing price might be having the most users\n",
    "billing = final_df['VILLES'].groupby(final_df['VALUE'])\n",
    "billing\n",
    "\n",
    "# Displaying the max value of the each city\n",
    "billing.max().tail()"
   ]
  },
  {
   "cell_type": "code",
   "execution_count": 184,
   "metadata": {},
   "outputs": [
    {
     "output_type": "execute_result",
     "data": {
      "text/plain": [
       "DATE_TIME\n",
       "01:50.0      ZAROKO\n",
       "01:51.0     ZIKISSO\n",
       "01:52.0    YOPOUGON\n",
       "01:53.0     ZIKISSO\n",
       "01:54.0       ZADDI\n",
       "Name: VILLES, dtype: object"
      ]
     },
     "metadata": {},
     "execution_count": 184
    }
   ],
   "source": [
    "# Cities most used during business and home hours\n",
    "bizhomehours = final_df[\"VILLES\"].groupby(final_df[\"DATE_TIME\"])\n",
    "bizhomehours\n",
    "\n",
    "#Displaying the most used city during the business hours\n",
    "bizhomehours.max().tail()"
   ]
  },
  {
   "cell_type": "code",
   "execution_count": 183,
   "metadata": {},
   "outputs": [
    {
     "output_type": "execute_result",
     "data": {
      "text/plain": [
       "DATE_TIME\n",
       "00:00.0    YOPOUGON\n",
       "00:01.0       ZAGNE\n",
       "00:02.0    ZUENOULA\n",
       "00:03.0    YOPOUGON\n",
       "00:04.0    ZUENOULA\n",
       "Name: VILLES, dtype: object"
      ]
     },
     "metadata": {},
     "execution_count": 183
    }
   ],
   "source": [
    "# Displaying cities used during home hours\n",
    "bizhomehours.max().head()"
   ]
  },
  {
   "cell_type": "code",
   "execution_count": 185,
   "metadata": {},
   "outputs": [
    {
     "output_type": "stream",
     "name": "stdout",
     "text": [
      "YOPOUGON    8264\nABOBO       5934\nCOCODY      3720\nADJAME      2390\nKOUMASSI    2280\n            ... \nBINAO          3\nKRIKOREA       2\nDANANON        2\nKOTOULA        2\nOUANGOLO       1\nName: VILLES, Length: 501, dtype: int64\n"
     ]
    }
   ],
   "source": [
    "#Find the most used city in the three days\n",
    "freq = final_df[\"VILLES\"].value_counts() \n",
    "print(freq)"
   ]
  },
  {
   "cell_type": "code",
   "execution_count": 208,
   "metadata": {},
   "outputs": [
    {
     "output_type": "execute_result",
     "data": {
      "text/plain": [
       "                                       VALUE              \n",
       "                                        mean    min    max\n",
       "VILLES     CELL_ON_SITE VALUE PRODUCT                     \n",
       "ABENGOUROU 0            0.0   Voice      0.0    0.0    0.0\n",
       "                              sms        0.0    0.0    0.0\n",
       "                        17.0  Voice     17.0   17.0   17.0\n",
       "                        25.0  sms       25.0   25.0   25.0\n",
       "                        196.0 Voice    196.0  196.0  196.0\n",
       "...                                      ...    ...    ...\n",
       "ABOBO      1            20.0  Voice     20.0   20.0   20.0\n",
       "                        24.0  Voice     24.0   24.0   24.0\n",
       "                        25.0  Voice     25.0   25.0   25.0\n",
       "                              sms       25.0   25.0   25.0\n",
       "                        26.0  Voice     26.0   26.0   26.0\n",
       "\n",
       "[100 rows x 3 columns]"
      ],
      "text/html": "<div>\n<style scoped>\n    .dataframe tbody tr th:only-of-type {\n        vertical-align: middle;\n    }\n\n    .dataframe tbody tr th {\n        vertical-align: top;\n    }\n\n    .dataframe thead tr th {\n        text-align: left;\n    }\n\n    .dataframe thead tr:last-of-type th {\n        text-align: right;\n    }\n</style>\n<table border=\"1\" class=\"dataframe\">\n  <thead>\n    <tr>\n      <th></th>\n      <th></th>\n      <th></th>\n      <th></th>\n      <th colspan=\"3\" halign=\"left\">VALUE</th>\n    </tr>\n    <tr>\n      <th></th>\n      <th></th>\n      <th></th>\n      <th></th>\n      <th>mean</th>\n      <th>min</th>\n      <th>max</th>\n    </tr>\n    <tr>\n      <th>VILLES</th>\n      <th>CELL_ON_SITE</th>\n      <th>VALUE</th>\n      <th>PRODUCT</th>\n      <th></th>\n      <th></th>\n      <th></th>\n    </tr>\n  </thead>\n  <tbody>\n    <tr>\n      <th rowspan=\"5\" valign=\"top\">ABENGOUROU</th>\n      <th rowspan=\"5\" valign=\"top\">0</th>\n      <th rowspan=\"2\" valign=\"top\">0.0</th>\n      <th>Voice</th>\n      <td>0.0</td>\n      <td>0.0</td>\n      <td>0.0</td>\n    </tr>\n    <tr>\n      <th>sms</th>\n      <td>0.0</td>\n      <td>0.0</td>\n      <td>0.0</td>\n    </tr>\n    <tr>\n      <th>17.0</th>\n      <th>Voice</th>\n      <td>17.0</td>\n      <td>17.0</td>\n      <td>17.0</td>\n    </tr>\n    <tr>\n      <th>25.0</th>\n      <th>sms</th>\n      <td>25.0</td>\n      <td>25.0</td>\n      <td>25.0</td>\n    </tr>\n    <tr>\n      <th>196.0</th>\n      <th>Voice</th>\n      <td>196.0</td>\n      <td>196.0</td>\n      <td>196.0</td>\n    </tr>\n    <tr>\n      <th>...</th>\n      <th>...</th>\n      <th>...</th>\n      <th>...</th>\n      <td>...</td>\n      <td>...</td>\n      <td>...</td>\n    </tr>\n    <tr>\n      <th rowspan=\"5\" valign=\"top\">ABOBO</th>\n      <th rowspan=\"5\" valign=\"top\">1</th>\n      <th>20.0</th>\n      <th>Voice</th>\n      <td>20.0</td>\n      <td>20.0</td>\n      <td>20.0</td>\n    </tr>\n    <tr>\n      <th>24.0</th>\n      <th>Voice</th>\n      <td>24.0</td>\n      <td>24.0</td>\n      <td>24.0</td>\n    </tr>\n    <tr>\n      <th rowspan=\"2\" valign=\"top\">25.0</th>\n      <th>Voice</th>\n      <td>25.0</td>\n      <td>25.0</td>\n      <td>25.0</td>\n    </tr>\n    <tr>\n      <th>sms</th>\n      <td>25.0</td>\n      <td>25.0</td>\n      <td>25.0</td>\n    </tr>\n    <tr>\n      <th>26.0</th>\n      <th>Voice</th>\n      <td>26.0</td>\n      <td>26.0</td>\n      <td>26.0</td>\n    </tr>\n  </tbody>\n</table>\n<p>100 rows × 3 columns</p>\n</div>"
     },
     "metadata": {},
     "execution_count": 208
    }
   ],
   "source": [
    "#Finding the city with the least cells on site and determining their values on different #products. \n",
    "leastcells = final_df.groupby([\"VILLES\", \"CELL_ON_SITE\", \"VALUE\", \"PRODUCT\"]).agg({\"VALUE\": ['mean', 'min', 'max']})\n",
    "leastcells\n",
    "\n",
    "#Displaying the most used city with least cells\n",
    "leastcells.head(100)"
   ]
  },
  {
   "cell_type": "code",
   "execution_count": 213,
   "metadata": {},
   "outputs": [
    {
     "output_type": "execute_result",
     "data": {
      "text/plain": [
       "                                       VALUE                \n",
       "                                        mean     min     max\n",
       "VILLES   CELL_ON_SITE VALUE  PRODUCT                        \n",
       "YOPOUGON 4            422.0  Voice     422.0   422.0   422.0\n",
       "                      1036.0 Voice    1036.0  1036.0  1036.0\n",
       "         5            0.0    Voice       0.0     0.0     0.0\n",
       "                             sms         0.0     0.0     0.0\n",
       "                      1.0    Voice       1.0     1.0     1.0\n",
       "...                                      ...     ...     ...\n",
       "ZUENOULA 2            35.0   Voice      35.0    35.0    35.0\n",
       "                      38.0   Voice      38.0    38.0    38.0\n",
       "                      44.0   Voice      44.0    44.0    44.0\n",
       "                      119.0  Voice     119.0   119.0   119.0\n",
       "                      476.0  Voice     476.0   476.0   476.0\n",
       "\n",
       "[100 rows x 3 columns]"
      ],
      "text/html": "<div>\n<style scoped>\n    .dataframe tbody tr th:only-of-type {\n        vertical-align: middle;\n    }\n\n    .dataframe tbody tr th {\n        vertical-align: top;\n    }\n\n    .dataframe thead tr th {\n        text-align: left;\n    }\n\n    .dataframe thead tr:last-of-type th {\n        text-align: right;\n    }\n</style>\n<table border=\"1\" class=\"dataframe\">\n  <thead>\n    <tr>\n      <th></th>\n      <th></th>\n      <th></th>\n      <th></th>\n      <th colspan=\"3\" halign=\"left\">VALUE</th>\n    </tr>\n    <tr>\n      <th></th>\n      <th></th>\n      <th></th>\n      <th></th>\n      <th>mean</th>\n      <th>min</th>\n      <th>max</th>\n    </tr>\n    <tr>\n      <th>VILLES</th>\n      <th>CELL_ON_SITE</th>\n      <th>VALUE</th>\n      <th>PRODUCT</th>\n      <th></th>\n      <th></th>\n      <th></th>\n    </tr>\n  </thead>\n  <tbody>\n    <tr>\n      <th rowspan=\"5\" valign=\"top\">YOPOUGON</th>\n      <th rowspan=\"2\" valign=\"top\">4</th>\n      <th>422.0</th>\n      <th>Voice</th>\n      <td>422.0</td>\n      <td>422.0</td>\n      <td>422.0</td>\n    </tr>\n    <tr>\n      <th>1036.0</th>\n      <th>Voice</th>\n      <td>1036.0</td>\n      <td>1036.0</td>\n      <td>1036.0</td>\n    </tr>\n    <tr>\n      <th rowspan=\"3\" valign=\"top\">5</th>\n      <th rowspan=\"2\" valign=\"top\">0.0</th>\n      <th>Voice</th>\n      <td>0.0</td>\n      <td>0.0</td>\n      <td>0.0</td>\n    </tr>\n    <tr>\n      <th>sms</th>\n      <td>0.0</td>\n      <td>0.0</td>\n      <td>0.0</td>\n    </tr>\n    <tr>\n      <th>1.0</th>\n      <th>Voice</th>\n      <td>1.0</td>\n      <td>1.0</td>\n      <td>1.0</td>\n    </tr>\n    <tr>\n      <th>...</th>\n      <th>...</th>\n      <th>...</th>\n      <th>...</th>\n      <td>...</td>\n      <td>...</td>\n      <td>...</td>\n    </tr>\n    <tr>\n      <th rowspan=\"5\" valign=\"top\">ZUENOULA</th>\n      <th rowspan=\"5\" valign=\"top\">2</th>\n      <th>35.0</th>\n      <th>Voice</th>\n      <td>35.0</td>\n      <td>35.0</td>\n      <td>35.0</td>\n    </tr>\n    <tr>\n      <th>38.0</th>\n      <th>Voice</th>\n      <td>38.0</td>\n      <td>38.0</td>\n      <td>38.0</td>\n    </tr>\n    <tr>\n      <th>44.0</th>\n      <th>Voice</th>\n      <td>44.0</td>\n      <td>44.0</td>\n      <td>44.0</td>\n    </tr>\n    <tr>\n      <th>119.0</th>\n      <th>Voice</th>\n      <td>119.0</td>\n      <td>119.0</td>\n      <td>119.0</td>\n    </tr>\n    <tr>\n      <th>476.0</th>\n      <th>Voice</th>\n      <td>476.0</td>\n      <td>476.0</td>\n      <td>476.0</td>\n    </tr>\n  </tbody>\n</table>\n<p>100 rows × 3 columns</p>\n</div>"
     },
     "metadata": {},
     "execution_count": 213
    }
   ],
   "source": [
    "#Finding the city with the most cells on site and determining their values on different #products. \n",
    "mostcells = final_df.groupby([\"VILLES\", \"CELL_ON_SITE\", \"VALUE\", \"PRODUCT\"]).agg({\"VALUE\": ['mean', 'min', 'max']})\n",
    "mostcells\n",
    "\n",
    "#Displaying the most used city with least cells\n",
    "mostcells.tail(100)"
   ]
  },
  {
   "cell_type": "code",
   "execution_count": 219,
   "metadata": {},
   "outputs": [
    {
     "output_type": "execute_result",
     "data": {
      "text/plain": [
       "         count unique       top  freq\n",
       "PRODUCT                              \n",
       "Voice    20592    366  YOPOUGON  2891\n",
       "sms      27965    231  YOPOUGON  5367"
      ],
      "text/html": "<div>\n<style scoped>\n    .dataframe tbody tr th:only-of-type {\n        vertical-align: middle;\n    }\n\n    .dataframe tbody tr th {\n        vertical-align: top;\n    }\n\n    .dataframe thead th {\n        text-align: right;\n    }\n</style>\n<table border=\"1\" class=\"dataframe\">\n  <thead>\n    <tr style=\"text-align: right;\">\n      <th></th>\n      <th>count</th>\n      <th>unique</th>\n      <th>top</th>\n      <th>freq</th>\n    </tr>\n    <tr>\n      <th>PRODUCT</th>\n      <th></th>\n      <th></th>\n      <th></th>\n      <th></th>\n    </tr>\n  </thead>\n  <tbody>\n    <tr>\n      <th>Voice</th>\n      <td>20592</td>\n      <td>366</td>\n      <td>YOPOUGON</td>\n      <td>2891</td>\n    </tr>\n    <tr>\n      <th>sms</th>\n      <td>27965</td>\n      <td>231</td>\n      <td>YOPOUGON</td>\n      <td>5367</td>\n    </tr>\n  </tbody>\n</table>\n</div>"
     },
     "metadata": {},
     "execution_count": 219
    }
   ],
   "source": [
    "\n",
    "# Which product is the most used in the cities\n",
    "product = final_df['VILLES'].groupby(final_df['PRODUCT']).describe()\n",
    "product"
   ]
  },
  {
   "cell_type": "code",
   "execution_count": 223,
   "metadata": {},
   "outputs": [
    {
     "output_type": "error",
     "ename": "KeyError",
     "evalue": "('VILLES', 'PRODUCT')",
     "traceback": [
      "\u001b[1;31m---------------------------------------------------------------------------\u001b[0m",
      "\u001b[1;31mKeyError\u001b[0m                                  Traceback (most recent call last)",
      "\u001b[1;32m~\\anaconda3\\lib\\site-packages\\pandas\\core\\indexes\\base.py\u001b[0m in \u001b[0;36mget_loc\u001b[1;34m(self, key, method, tolerance)\u001b[0m\n\u001b[0;32m   2894\u001b[0m             \u001b[1;32mtry\u001b[0m\u001b[1;33m:\u001b[0m\u001b[1;33m\u001b[0m\u001b[1;33m\u001b[0m\u001b[0m\n\u001b[1;32m-> 2895\u001b[1;33m                 \u001b[1;32mreturn\u001b[0m \u001b[0mself\u001b[0m\u001b[1;33m.\u001b[0m\u001b[0m_engine\u001b[0m\u001b[1;33m.\u001b[0m\u001b[0mget_loc\u001b[0m\u001b[1;33m(\u001b[0m\u001b[0mcasted_key\u001b[0m\u001b[1;33m)\u001b[0m\u001b[1;33m\u001b[0m\u001b[1;33m\u001b[0m\u001b[0m\n\u001b[0m\u001b[0;32m   2896\u001b[0m             \u001b[1;32mexcept\u001b[0m \u001b[0mKeyError\u001b[0m \u001b[1;32mas\u001b[0m \u001b[0merr\u001b[0m\u001b[1;33m:\u001b[0m\u001b[1;33m\u001b[0m\u001b[1;33m\u001b[0m\u001b[0m\n",
      "\u001b[1;32mpandas\\_libs\\index.pyx\u001b[0m in \u001b[0;36mpandas._libs.index.IndexEngine.get_loc\u001b[1;34m()\u001b[0m\n",
      "\u001b[1;32mpandas\\_libs\\index.pyx\u001b[0m in \u001b[0;36mpandas._libs.index.IndexEngine.get_loc\u001b[1;34m()\u001b[0m\n",
      "\u001b[1;32mpandas\\_libs\\hashtable_class_helper.pxi\u001b[0m in \u001b[0;36mpandas._libs.hashtable.PyObjectHashTable.get_item\u001b[1;34m()\u001b[0m\n",
      "\u001b[1;32mpandas\\_libs\\hashtable_class_helper.pxi\u001b[0m in \u001b[0;36mpandas._libs.hashtable.PyObjectHashTable.get_item\u001b[1;34m()\u001b[0m\n",
      "\u001b[1;31mKeyError\u001b[0m: ('VILLES', 'PRODUCT')",
      "\nThe above exception was the direct cause of the following exception:\n",
      "\u001b[1;31mKeyError\u001b[0m                                  Traceback (most recent call last)",
      "\u001b[1;32m<ipython-input-223-a3b36091fa60>\u001b[0m in \u001b[0;36m<module>\u001b[1;34m\u001b[0m\n\u001b[0;32m      1\u001b[0m \u001b[1;31m# Which city had the most valuie in the product\u001b[0m\u001b[1;33m\u001b[0m\u001b[1;33m\u001b[0m\u001b[1;33m\u001b[0m\u001b[0m\n\u001b[1;32m----> 2\u001b[1;33m \u001b[0mmost_value\u001b[0m \u001b[1;33m=\u001b[0m \u001b[0mfinal_df\u001b[0m\u001b[1;33m[\u001b[0m\u001b[1;34m'VILLES'\u001b[0m\u001b[1;33m,\u001b[0m \u001b[1;34m'PRODUCT'\u001b[0m\u001b[1;33m]\u001b[0m\u001b[1;33m.\u001b[0m\u001b[0mgroupby\u001b[0m\u001b[1;33m(\u001b[0m\u001b[1;33m[\u001b[0m\u001b[1;34m'VALUE'\u001b[0m\u001b[1;33m,\u001b[0m \u001b[1;34m'PRODUCT'\u001b[0m\u001b[1;33m]\u001b[0m\u001b[1;33m)\u001b[0m\u001b[1;33m.\u001b[0m\u001b[0mdescribe\u001b[0m\u001b[1;33m(\u001b[0m\u001b[1;33m)\u001b[0m\u001b[1;33m\u001b[0m\u001b[1;33m\u001b[0m\u001b[0m\n\u001b[0m\u001b[0;32m      3\u001b[0m \u001b[0mmost_value\u001b[0m\u001b[1;33m\u001b[0m\u001b[1;33m\u001b[0m\u001b[0m\n",
      "\u001b[1;32m~\\anaconda3\\lib\\site-packages\\pandas\\core\\frame.py\u001b[0m in \u001b[0;36m__getitem__\u001b[1;34m(self, key)\u001b[0m\n\u001b[0;32m   2900\u001b[0m             \u001b[1;32mif\u001b[0m \u001b[0mself\u001b[0m\u001b[1;33m.\u001b[0m\u001b[0mcolumns\u001b[0m\u001b[1;33m.\u001b[0m\u001b[0mnlevels\u001b[0m \u001b[1;33m>\u001b[0m \u001b[1;36m1\u001b[0m\u001b[1;33m:\u001b[0m\u001b[1;33m\u001b[0m\u001b[1;33m\u001b[0m\u001b[0m\n\u001b[0;32m   2901\u001b[0m                 \u001b[1;32mreturn\u001b[0m \u001b[0mself\u001b[0m\u001b[1;33m.\u001b[0m\u001b[0m_getitem_multilevel\u001b[0m\u001b[1;33m(\u001b[0m\u001b[0mkey\u001b[0m\u001b[1;33m)\u001b[0m\u001b[1;33m\u001b[0m\u001b[1;33m\u001b[0m\u001b[0m\n\u001b[1;32m-> 2902\u001b[1;33m             \u001b[0mindexer\u001b[0m \u001b[1;33m=\u001b[0m \u001b[0mself\u001b[0m\u001b[1;33m.\u001b[0m\u001b[0mcolumns\u001b[0m\u001b[1;33m.\u001b[0m\u001b[0mget_loc\u001b[0m\u001b[1;33m(\u001b[0m\u001b[0mkey\u001b[0m\u001b[1;33m)\u001b[0m\u001b[1;33m\u001b[0m\u001b[1;33m\u001b[0m\u001b[0m\n\u001b[0m\u001b[0;32m   2903\u001b[0m             \u001b[1;32mif\u001b[0m \u001b[0mis_integer\u001b[0m\u001b[1;33m(\u001b[0m\u001b[0mindexer\u001b[0m\u001b[1;33m)\u001b[0m\u001b[1;33m:\u001b[0m\u001b[1;33m\u001b[0m\u001b[1;33m\u001b[0m\u001b[0m\n\u001b[0;32m   2904\u001b[0m                 \u001b[0mindexer\u001b[0m \u001b[1;33m=\u001b[0m \u001b[1;33m[\u001b[0m\u001b[0mindexer\u001b[0m\u001b[1;33m]\u001b[0m\u001b[1;33m\u001b[0m\u001b[1;33m\u001b[0m\u001b[0m\n",
      "\u001b[1;32m~\\anaconda3\\lib\\site-packages\\pandas\\core\\indexes\\base.py\u001b[0m in \u001b[0;36mget_loc\u001b[1;34m(self, key, method, tolerance)\u001b[0m\n\u001b[0;32m   2895\u001b[0m                 \u001b[1;32mreturn\u001b[0m \u001b[0mself\u001b[0m\u001b[1;33m.\u001b[0m\u001b[0m_engine\u001b[0m\u001b[1;33m.\u001b[0m\u001b[0mget_loc\u001b[0m\u001b[1;33m(\u001b[0m\u001b[0mcasted_key\u001b[0m\u001b[1;33m)\u001b[0m\u001b[1;33m\u001b[0m\u001b[1;33m\u001b[0m\u001b[0m\n\u001b[0;32m   2896\u001b[0m             \u001b[1;32mexcept\u001b[0m \u001b[0mKeyError\u001b[0m \u001b[1;32mas\u001b[0m \u001b[0merr\u001b[0m\u001b[1;33m:\u001b[0m\u001b[1;33m\u001b[0m\u001b[1;33m\u001b[0m\u001b[0m\n\u001b[1;32m-> 2897\u001b[1;33m                 \u001b[1;32mraise\u001b[0m \u001b[0mKeyError\u001b[0m\u001b[1;33m(\u001b[0m\u001b[0mkey\u001b[0m\u001b[1;33m)\u001b[0m \u001b[1;32mfrom\u001b[0m \u001b[0merr\u001b[0m\u001b[1;33m\u001b[0m\u001b[1;33m\u001b[0m\u001b[0m\n\u001b[0m\u001b[0;32m   2898\u001b[0m \u001b[1;33m\u001b[0m\u001b[0m\n\u001b[0;32m   2899\u001b[0m         \u001b[1;32mif\u001b[0m \u001b[0mtolerance\u001b[0m \u001b[1;32mis\u001b[0m \u001b[1;32mnot\u001b[0m \u001b[1;32mNone\u001b[0m\u001b[1;33m:\u001b[0m\u001b[1;33m\u001b[0m\u001b[1;33m\u001b[0m\u001b[0m\n",
      "\u001b[1;31mKeyError\u001b[0m: ('VILLES', 'PRODUCT')"
     ]
    }
   ],
   "source": [
    "# Which city had the most valuie in the product\n",
    "most_value = final_df['VILLES'].groupby(final_df['VALUE']).describe()\n",
    "most_value"
   ]
  },
  {
   "cell_type": "code",
   "execution_count": null,
   "metadata": {},
   "outputs": [],
   "source": []
  }
 ]
}