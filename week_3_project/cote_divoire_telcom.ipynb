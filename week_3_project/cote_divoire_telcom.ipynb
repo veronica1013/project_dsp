{
 "metadata": {
  "language_info": {
   "codemirror_mode": {
    "name": "ipython",
    "version": 3
   },
   "file_extension": ".py",
   "mimetype": "text/x-python",
   "name": "python",
   "nbconvert_exporter": "python",
   "pygments_lexer": "ipython3",
   "version": "3.8.5-final"
  },
  "orig_nbformat": 2,
  "kernelspec": {
   "name": "python3",
   "display_name": "Python 3.8.5 64-bit (conda)",
   "metadata": {
    "interpreter": {
     "hash": "a6ae5e711b5f3861f268276cd1b196f6f4ea1f61d47ac031594dd6d6898318f6"
    }
   }
  }
 },
 "nbformat": 4,
 "nbformat_minor": 2,
 "cells": [
  {
   "cell_type": "code",
   "execution_count": 4,
   "metadata": {},
   "outputs": [],
   "source": [
    "# Importing the libraries to be used\n",
    "import pandas as pd\n",
    "import numpy as np"
   ]
  },
  {
   "cell_type": "code",
   "execution_count": 5,
   "metadata": {},
   "outputs": [
    {
     "output_type": "execute_result",
     "data": {
      "text/plain": [
       "  PRODUTC  VALUE DATETIME CELL_ON_SITE  DW_A_NUMBER_INT  DW_B_NUMBER_INT  \\\n",
       "0   Voice      0  04:37.0            1  49fae048b547780  1a49f8b0ded9de6   \n",
       "1     sms      0  05:25.0            0  7a54a6eaee19e65  93343ba6e41af95   \n",
       "2     sms     25  05:41.0            0  6008887b0207d82  7aacc9709ce0a20   \n",
       "3   Voice     56  05:42.0            1  7370032e20f4e96  6af4a60e74c91d3   \n",
       "4   Voice     14  06:29.0            1  966ba4656e38e62  02aa736ee555d5c   \n",
       "\n",
       "  COUNTRY_A COUNTRY_B     CELL_ID     SITE_ID  \n",
       "0     19e2e     19e2e  /TJNe+Mmtu  /TJNe+Mmtu  \n",
       "1     19e2e     19e2e  /+cKZKIp41  /+cKZKIp41  \n",
       "2     19e2e     19e2e  /u0FSD+ahi  /u0FSD+ahi  \n",
       "3     19e2e     19e2e      #NAME?      #NAME?  \n",
       "4     19e2e     19e2e  051KhYDCpv  051KhYDCpv  "
      ],
      "text/html": "<div>\n<style scoped>\n    .dataframe tbody tr th:only-of-type {\n        vertical-align: middle;\n    }\n\n    .dataframe tbody tr th {\n        vertical-align: top;\n    }\n\n    .dataframe thead th {\n        text-align: right;\n    }\n</style>\n<table border=\"1\" class=\"dataframe\">\n  <thead>\n    <tr style=\"text-align: right;\">\n      <th></th>\n      <th>PRODUTC</th>\n      <th>VALUE</th>\n      <th>DATETIME</th>\n      <th>CELL_ON_SITE</th>\n      <th>DW_A_NUMBER_INT</th>\n      <th>DW_B_NUMBER_INT</th>\n      <th>COUNTRY_A</th>\n      <th>COUNTRY_B</th>\n      <th>CELL_ID</th>\n      <th>SITE_ID</th>\n    </tr>\n  </thead>\n  <tbody>\n    <tr>\n      <th>0</th>\n      <td>Voice</td>\n      <td>0</td>\n      <td>04:37.0</td>\n      <td>1</td>\n      <td>49fae048b547780</td>\n      <td>1a49f8b0ded9de6</td>\n      <td>19e2e</td>\n      <td>19e2e</td>\n      <td>/TJNe+Mmtu</td>\n      <td>/TJNe+Mmtu</td>\n    </tr>\n    <tr>\n      <th>1</th>\n      <td>sms</td>\n      <td>0</td>\n      <td>05:25.0</td>\n      <td>0</td>\n      <td>7a54a6eaee19e65</td>\n      <td>93343ba6e41af95</td>\n      <td>19e2e</td>\n      <td>19e2e</td>\n      <td>/+cKZKIp41</td>\n      <td>/+cKZKIp41</td>\n    </tr>\n    <tr>\n      <th>2</th>\n      <td>sms</td>\n      <td>25</td>\n      <td>05:41.0</td>\n      <td>0</td>\n      <td>6008887b0207d82</td>\n      <td>7aacc9709ce0a20</td>\n      <td>19e2e</td>\n      <td>19e2e</td>\n      <td>/u0FSD+ahi</td>\n      <td>/u0FSD+ahi</td>\n    </tr>\n    <tr>\n      <th>3</th>\n      <td>Voice</td>\n      <td>56</td>\n      <td>05:42.0</td>\n      <td>1</td>\n      <td>7370032e20f4e96</td>\n      <td>6af4a60e74c91d3</td>\n      <td>19e2e</td>\n      <td>19e2e</td>\n      <td>#NAME?</td>\n      <td>#NAME?</td>\n    </tr>\n    <tr>\n      <th>4</th>\n      <td>Voice</td>\n      <td>14</td>\n      <td>06:29.0</td>\n      <td>1</td>\n      <td>966ba4656e38e62</td>\n      <td>02aa736ee555d5c</td>\n      <td>19e2e</td>\n      <td>19e2e</td>\n      <td>051KhYDCpv</td>\n      <td>051KhYDCpv</td>\n    </tr>\n  </tbody>\n</table>\n</div>"
     },
     "metadata": {},
     "execution_count": 5
    }
   ],
   "source": [
    "# Loading telcom dataset 1\n",
    "data_1 = pd.read_csv('D:/veronica_moringa/project_dsp/data/Telcom_dataset_1.csv')\n",
    "data_1.head()\n"
   ]
  },
  {
   "cell_type": "code",
   "execution_count": 6,
   "metadata": {},
   "outputs": [
    {
     "output_type": "execute_result",
     "data": {
      "text/plain": [
       "  PRODUCT  VALUE DATE_TIME CELL_ON_SITE      DW_A_NUMBER      DW_B_NUMBER  \\\n",
       "0     sms      0   02:06.0            2  32255675c3b6fe3  1aa7ae01386e9fb   \n",
       "1   Voice      0   03:44.0            1  ff16d6ac74c1c64  87d87309c15a8c9   \n",
       "2     sms      0   04:06.0            0  98d9f2fb5ff624b  93343ba6e41af95   \n",
       "3   Voice     37   04:48.0            1  3f9c8a33ec7be1f  7d05a38f89c49d8   \n",
       "4     sms     25   04:58.0            1  7bcccc03adf3864  56a5d5430d2fa86   \n",
       "\n",
       "  COUNTRY_A COUNTRY_B     CELL_ID     SITE_ID  \n",
       "0     19e2e     19e2e  +854AcBQT2  +854AcBQT2  \n",
       "1     19e2e     19e2e  +854AcBQT2  +854AcBQT2  \n",
       "2     19e2e     19e2e      #NAME?      #NAME?  \n",
       "3     19e2e     19e2e  /xvRrCVKoQ  /xvRrCVKoQ  \n",
       "4     19e2e     19e2e      #NAME?      #NAME?  "
      ],
      "text/html": "<div>\n<style scoped>\n    .dataframe tbody tr th:only-of-type {\n        vertical-align: middle;\n    }\n\n    .dataframe tbody tr th {\n        vertical-align: top;\n    }\n\n    .dataframe thead th {\n        text-align: right;\n    }\n</style>\n<table border=\"1\" class=\"dataframe\">\n  <thead>\n    <tr style=\"text-align: right;\">\n      <th></th>\n      <th>PRODUCT</th>\n      <th>VALUE</th>\n      <th>DATE_TIME</th>\n      <th>CELL_ON_SITE</th>\n      <th>DW_A_NUMBER</th>\n      <th>DW_B_NUMBER</th>\n      <th>COUNTRY_A</th>\n      <th>COUNTRY_B</th>\n      <th>CELL_ID</th>\n      <th>SITE_ID</th>\n    </tr>\n  </thead>\n  <tbody>\n    <tr>\n      <th>0</th>\n      <td>sms</td>\n      <td>0</td>\n      <td>02:06.0</td>\n      <td>2</td>\n      <td>32255675c3b6fe3</td>\n      <td>1aa7ae01386e9fb</td>\n      <td>19e2e</td>\n      <td>19e2e</td>\n      <td>+854AcBQT2</td>\n      <td>+854AcBQT2</td>\n    </tr>\n    <tr>\n      <th>1</th>\n      <td>Voice</td>\n      <td>0</td>\n      <td>03:44.0</td>\n      <td>1</td>\n      <td>ff16d6ac74c1c64</td>\n      <td>87d87309c15a8c9</td>\n      <td>19e2e</td>\n      <td>19e2e</td>\n      <td>+854AcBQT2</td>\n      <td>+854AcBQT2</td>\n    </tr>\n    <tr>\n      <th>2</th>\n      <td>sms</td>\n      <td>0</td>\n      <td>04:06.0</td>\n      <td>0</td>\n      <td>98d9f2fb5ff624b</td>\n      <td>93343ba6e41af95</td>\n      <td>19e2e</td>\n      <td>19e2e</td>\n      <td>#NAME?</td>\n      <td>#NAME?</td>\n    </tr>\n    <tr>\n      <th>3</th>\n      <td>Voice</td>\n      <td>37</td>\n      <td>04:48.0</td>\n      <td>1</td>\n      <td>3f9c8a33ec7be1f</td>\n      <td>7d05a38f89c49d8</td>\n      <td>19e2e</td>\n      <td>19e2e</td>\n      <td>/xvRrCVKoQ</td>\n      <td>/xvRrCVKoQ</td>\n    </tr>\n    <tr>\n      <th>4</th>\n      <td>sms</td>\n      <td>25</td>\n      <td>04:58.0</td>\n      <td>1</td>\n      <td>7bcccc03adf3864</td>\n      <td>56a5d5430d2fa86</td>\n      <td>19e2e</td>\n      <td>19e2e</td>\n      <td>#NAME?</td>\n      <td>#NAME?</td>\n    </tr>\n  </tbody>\n</table>\n</div>"
     },
     "metadata": {},
     "execution_count": 6
    }
   ],
   "source": [
    "# Loading telcom dataset 2\n",
    "data_2 = pd.read_csv('D:/veronica_moringa/project_dsp/data/Telcom_dataset2.csv')\n",
    "data_2.head()"
   ]
  },
  {
   "cell_type": "code",
   "execution_count": 7,
   "metadata": {},
   "outputs": [
    {
     "output_type": "execute_result",
     "data": {
      "text/plain": [
       "  PRODUCT  VALUE DATE_TIME CELL_ON_SITE  DW_A_NUMBER_INT  DW_B_NUMBER_INT  \\\n",
       "0   Voice     61   01:28.0            2  966f68353622feb  ffd53a3bb2db6f1   \n",
       "1     sms      0   01:31.0            1  a0a597384c612d7  cf3b218f1dde792   \n",
       "2   Voice     10   02:59.0            1  5441a9a58c97132  52f8b299515b9b7   \n",
       "3     sms      0   03:04.0            0  8ab8b9ed6989f61  e09e736e46c5c3d   \n",
       "4   Voice     22   03:16.0            4  52662a62b199334  2186273faab4602   \n",
       "\n",
       "  COUNTRY_A COUNTRY_B      CELLID     SIET_ID  \n",
       "0     19e2e     19e2e  +38u2u/rfx  +38u2u/rfx  \n",
       "1     19e2e     19e2e      #NAME?      #NAME?  \n",
       "2     19e2e     19e2e  +ZaaZozy/+  +ZaaZozy/+  \n",
       "3     19e2e     19e2e      #NAME?      #NAME?  \n",
       "4     19e2e     19e2e  /eeMklgyJA  /eeMklgyJA  "
      ],
      "text/html": "<div>\n<style scoped>\n    .dataframe tbody tr th:only-of-type {\n        vertical-align: middle;\n    }\n\n    .dataframe tbody tr th {\n        vertical-align: top;\n    }\n\n    .dataframe thead th {\n        text-align: right;\n    }\n</style>\n<table border=\"1\" class=\"dataframe\">\n  <thead>\n    <tr style=\"text-align: right;\">\n      <th></th>\n      <th>PRODUCT</th>\n      <th>VALUE</th>\n      <th>DATE_TIME</th>\n      <th>CELL_ON_SITE</th>\n      <th>DW_A_NUMBER_INT</th>\n      <th>DW_B_NUMBER_INT</th>\n      <th>COUNTRY_A</th>\n      <th>COUNTRY_B</th>\n      <th>CELLID</th>\n      <th>SIET_ID</th>\n    </tr>\n  </thead>\n  <tbody>\n    <tr>\n      <th>0</th>\n      <td>Voice</td>\n      <td>61</td>\n      <td>01:28.0</td>\n      <td>2</td>\n      <td>966f68353622feb</td>\n      <td>ffd53a3bb2db6f1</td>\n      <td>19e2e</td>\n      <td>19e2e</td>\n      <td>+38u2u/rfx</td>\n      <td>+38u2u/rfx</td>\n    </tr>\n    <tr>\n      <th>1</th>\n      <td>sms</td>\n      <td>0</td>\n      <td>01:31.0</td>\n      <td>1</td>\n      <td>a0a597384c612d7</td>\n      <td>cf3b218f1dde792</td>\n      <td>19e2e</td>\n      <td>19e2e</td>\n      <td>#NAME?</td>\n      <td>#NAME?</td>\n    </tr>\n    <tr>\n      <th>2</th>\n      <td>Voice</td>\n      <td>10</td>\n      <td>02:59.0</td>\n      <td>1</td>\n      <td>5441a9a58c97132</td>\n      <td>52f8b299515b9b7</td>\n      <td>19e2e</td>\n      <td>19e2e</td>\n      <td>+ZaaZozy/+</td>\n      <td>+ZaaZozy/+</td>\n    </tr>\n    <tr>\n      <th>3</th>\n      <td>sms</td>\n      <td>0</td>\n      <td>03:04.0</td>\n      <td>0</td>\n      <td>8ab8b9ed6989f61</td>\n      <td>e09e736e46c5c3d</td>\n      <td>19e2e</td>\n      <td>19e2e</td>\n      <td>#NAME?</td>\n      <td>#NAME?</td>\n    </tr>\n    <tr>\n      <th>4</th>\n      <td>Voice</td>\n      <td>22</td>\n      <td>03:16.0</td>\n      <td>4</td>\n      <td>52662a62b199334</td>\n      <td>2186273faab4602</td>\n      <td>19e2e</td>\n      <td>19e2e</td>\n      <td>/eeMklgyJA</td>\n      <td>/eeMklgyJA</td>\n    </tr>\n  </tbody>\n</table>\n</div>"
     },
     "metadata": {},
     "execution_count": 7
    }
   ],
   "source": [
    "# Loading telcom dataset 3\n",
    "data_3 = pd.read_csv('D:/veronica_moringa/project_dsp/data/Telcom_dataset3.csv')\n",
    "data_3.head()"
   ]
  },
  {
   "cell_type": "code",
   "execution_count": 20,
   "metadata": {},
   "outputs": [
    {
     "output_type": "execute_result",
     "data": {
      "text/plain": [
       "       Column name                                        Description   Format\n",
       "0          PRODUCT                                       Voice or SMS   String\n",
       "1            VALUE                                      Billing price  Integer\n",
       "2        DATE_TIME               Time in format yyyy-MM-dd hh:mm:ss.0   String\n",
       "3     CELL_ON_SITE  Which cell in the site was used (not needed here)  Integer\n",
       "4  DW_A_NUMBER_INT  Anonymized phone number of the person for whic...   String\n",
       "5  DW_B_NUMBER_INT        Anonymized phone number of the counterparty   String\n",
       "6        COUNTRY_A                  Country of party A (useless here)   String\n",
       "7        COUNTRY_B                  Country of party B (useless here)   String\n",
       "8          CELL_ID                                     ID of the cell   String\n",
       "9          SITE_ID                                     ID of the SITE   String"
      ],
      "text/html": "<div>\n<style scoped>\n    .dataframe tbody tr th:only-of-type {\n        vertical-align: middle;\n    }\n\n    .dataframe tbody tr th {\n        vertical-align: top;\n    }\n\n    .dataframe thead th {\n        text-align: right;\n    }\n</style>\n<table border=\"1\" class=\"dataframe\">\n  <thead>\n    <tr style=\"text-align: right;\">\n      <th></th>\n      <th>Column name</th>\n      <th>Description</th>\n      <th>Format</th>\n    </tr>\n  </thead>\n  <tbody>\n    <tr>\n      <th>0</th>\n      <td>PRODUCT</td>\n      <td>Voice or SMS</td>\n      <td>String</td>\n    </tr>\n    <tr>\n      <th>1</th>\n      <td>VALUE</td>\n      <td>Billing price</td>\n      <td>Integer</td>\n    </tr>\n    <tr>\n      <th>2</th>\n      <td>DATE_TIME</td>\n      <td>Time in format yyyy-MM-dd hh:mm:ss.0</td>\n      <td>String</td>\n    </tr>\n    <tr>\n      <th>3</th>\n      <td>CELL_ON_SITE</td>\n      <td>Which cell in the site was used (not needed here)</td>\n      <td>Integer</td>\n    </tr>\n    <tr>\n      <th>4</th>\n      <td>DW_A_NUMBER_INT</td>\n      <td>Anonymized phone number of the person for whic...</td>\n      <td>String</td>\n    </tr>\n    <tr>\n      <th>5</th>\n      <td>DW_B_NUMBER_INT</td>\n      <td>Anonymized phone number of the counterparty</td>\n      <td>String</td>\n    </tr>\n    <tr>\n      <th>6</th>\n      <td>COUNTRY_A</td>\n      <td>Country of party A (useless here)</td>\n      <td>String</td>\n    </tr>\n    <tr>\n      <th>7</th>\n      <td>COUNTRY_B</td>\n      <td>Country of party B (useless here)</td>\n      <td>String</td>\n    </tr>\n    <tr>\n      <th>8</th>\n      <td>CELL_ID</td>\n      <td>ID of the cell</td>\n      <td>String</td>\n    </tr>\n    <tr>\n      <th>9</th>\n      <td>SITE_ID</td>\n      <td>ID of the SITE</td>\n      <td>String</td>\n    </tr>\n  </tbody>\n</table>\n</div>"
     },
     "metadata": {},
     "execution_count": 20
    }
   ],
   "source": [
    "# Loading telcom dataset 4\n",
    "data_4 = pd.read_excel('D:/veronica_moringa/project_dsp/data/CDR_description.xlsx')\n",
    "data_4.head(10)\n"
   ]
  },
  {
   "cell_type": "code",
   "execution_count": 9,
   "metadata": {},
   "outputs": [
    {
     "output_type": "execute_result",
     "data": {
      "text/plain": [
       "    Column name        Description  Format\n",
       "0        VILLES               City  String\n",
       "1        STATUS  In Service or not  String\n",
       "2  LOCALISATION  in ABIDJAN or not  String\n",
       "3    DECOUPZONE  Geographical Zone  String\n",
       "4      ZONENAME       Name of Zone  String"
      ],
      "text/html": "<div>\n<style scoped>\n    .dataframe tbody tr th:only-of-type {\n        vertical-align: middle;\n    }\n\n    .dataframe tbody tr th {\n        vertical-align: top;\n    }\n\n    .dataframe thead th {\n        text-align: right;\n    }\n</style>\n<table border=\"1\" class=\"dataframe\">\n  <thead>\n    <tr style=\"text-align: right;\">\n      <th></th>\n      <th>Column name</th>\n      <th>Description</th>\n      <th>Format</th>\n    </tr>\n  </thead>\n  <tbody>\n    <tr>\n      <th>0</th>\n      <td>VILLES</td>\n      <td>City</td>\n      <td>String</td>\n    </tr>\n    <tr>\n      <th>1</th>\n      <td>STATUS</td>\n      <td>In Service or not</td>\n      <td>String</td>\n    </tr>\n    <tr>\n      <th>2</th>\n      <td>LOCALISATION</td>\n      <td>in ABIDJAN or not</td>\n      <td>String</td>\n    </tr>\n    <tr>\n      <th>3</th>\n      <td>DECOUPZONE</td>\n      <td>Geographical Zone</td>\n      <td>String</td>\n    </tr>\n    <tr>\n      <th>4</th>\n      <td>ZONENAME</td>\n      <td>Name of Zone</td>\n      <td>String</td>\n    </tr>\n  </tbody>\n</table>\n</div>"
     },
     "metadata": {},
     "execution_count": 9
    }
   ],
   "source": [
    "# Loading telcom dataset 5\n",
    "data_5 = pd.read_excel('D:/veronica_moringa/project_dsp/data/cells_geo_description.xlsx')\n",
    "data_5.head()"
   ]
  },
  {
   "cell_type": "code",
   "execution_count": 10,
   "metadata": {},
   "outputs": [
    {
     "output_type": "execute_result",
     "data": {
      "text/plain": [
       "  ;VILLES;STATUS;LOCALISATION;DECOUPZONE;ZONENAME;LONGITUDE;LATITUDE;REGION;AREA;CELL_ID;SITE_CODE\n",
       "0  0;ADJAME;In Service;ABIDJAN;\"\"\"Abidjan_EST\";AG...                                              \n",
       "1  1;ADJAME;In Service;ABIDJAN;\"\"\"Abidjan_EST\";AG...                                              \n",
       "2  2;ADJAME;In Service;ABIDJAN;\"\"\"Abidjan_EST\";AG...                                              \n",
       "3  3;ASSINIE;In Service;INTERIEUR;Grand-EST;\"ASSI...                                              \n",
       "4  4;ASSINIE;In Service;INTERIEUR;Grand-EST;\"ASSI...                                              "
      ],
      "text/html": "<div>\n<style scoped>\n    .dataframe tbody tr th:only-of-type {\n        vertical-align: middle;\n    }\n\n    .dataframe tbody tr th {\n        vertical-align: top;\n    }\n\n    .dataframe thead th {\n        text-align: right;\n    }\n</style>\n<table border=\"1\" class=\"dataframe\">\n  <thead>\n    <tr style=\"text-align: right;\">\n      <th></th>\n      <th>;VILLES;STATUS;LOCALISATION;DECOUPZONE;ZONENAME;LONGITUDE;LATITUDE;REGION;AREA;CELL_ID;SITE_CODE</th>\n    </tr>\n  </thead>\n  <tbody>\n    <tr>\n      <th>0</th>\n      <td>0;ADJAME;In Service;ABIDJAN;\"\"\"Abidjan_EST\";AG...</td>\n    </tr>\n    <tr>\n      <th>1</th>\n      <td>1;ADJAME;In Service;ABIDJAN;\"\"\"Abidjan_EST\";AG...</td>\n    </tr>\n    <tr>\n      <th>2</th>\n      <td>2;ADJAME;In Service;ABIDJAN;\"\"\"Abidjan_EST\";AG...</td>\n    </tr>\n    <tr>\n      <th>3</th>\n      <td>3;ASSINIE;In Service;INTERIEUR;Grand-EST;\"ASSI...</td>\n    </tr>\n    <tr>\n      <th>4</th>\n      <td>4;ASSINIE;In Service;INTERIEUR;Grand-EST;\"ASSI...</td>\n    </tr>\n  </tbody>\n</table>\n</div>"
     },
     "metadata": {},
     "execution_count": 10
    }
   ],
   "source": [
    "# Loading telcom dataset 6\n",
    "data_6 = pd.read_csv('D:/veronica_moringa/project_dsp/data/cells_geo.csv')\n",
    "data_6.head()"
   ]
  },
  {
   "cell_type": "code",
   "execution_count": 11,
   "metadata": {},
   "outputs": [
    {
     "output_type": "execute_result",
     "data": {
      "text/plain": [
       "(5001, 10)"
      ]
     },
     "metadata": {},
     "execution_count": 11
    }
   ],
   "source": [
    "data_1.shape"
   ]
  },
  {
   "cell_type": "code",
   "execution_count": 12,
   "metadata": {},
   "outputs": [
    {
     "output_type": "execute_result",
     "data": {
      "text/plain": [
       "(5001, 10)"
      ]
     },
     "metadata": {},
     "execution_count": 12
    }
   ],
   "source": [
    "data_2.shape"
   ]
  },
  {
   "cell_type": "code",
   "execution_count": 19,
   "metadata": {},
   "outputs": [
    {
     "output_type": "execute_result",
     "data": {
      "text/plain": [
       "(5001, 10)"
      ]
     },
     "metadata": {},
     "execution_count": 19
    }
   ],
   "source": [
    "data_3.shape"
   ]
  },
  {
   "cell_type": "code",
   "execution_count": 17,
   "metadata": {},
   "outputs": [
    {
     "output_type": "execute_result",
     "data": {
      "text/plain": [
       "(10, 3)"
      ]
     },
     "metadata": {},
     "execution_count": 17
    }
   ],
   "source": [
    "data_4.shape"
   ]
  },
  {
   "cell_type": "code",
   "execution_count": 18,
   "metadata": {},
   "outputs": [
    {
     "output_type": "execute_result",
     "data": {
      "text/plain": [
       "(11, 3)"
      ]
     },
     "metadata": {},
     "execution_count": 18
    }
   ],
   "source": [
    "data_5.shape"
   ]
  },
  {
   "cell_type": "code",
   "execution_count": 15,
   "metadata": {},
   "outputs": [
    {
     "output_type": "execute_result",
     "data": {
      "text/plain": [
       "(3974, 1)"
      ]
     },
     "metadata": {},
     "execution_count": 15
    }
   ],
   "source": [
    "data_6.shape"
   ]
  },
  {
   "cell_type": "code",
   "execution_count": 22,
   "metadata": {},
   "outputs": [
    {
     "output_type": "execute_result",
     "data": {
      "text/plain": [
       "     PRODUCT  VALUE DATE_TIME CELL_ON_SITE  DW_A_NUMBER_INT  DW_B_NUMBER_INT  \\\n",
       "0      Voice      0   04:37.0            1  49fae048b547780  1a49f8b0ded9de6   \n",
       "1        sms      0   05:25.0            0  7a54a6eaee19e65  93343ba6e41af95   \n",
       "2        sms     25   05:41.0            0  6008887b0207d82  7aacc9709ce0a20   \n",
       "3      Voice     56   05:42.0            1  7370032e20f4e96  6af4a60e74c91d3   \n",
       "4      Voice     14   06:29.0            1  966ba4656e38e62  02aa736ee555d5c   \n",
       "...      ...    ...       ...          ...              ...              ...   \n",
       "4996     sms    100   01:54.0            0  92e367d671f45c5  38811081cf82c90   \n",
       "4997   Voice      1   01:54.0            1  83b44b18238e602  6ec63d4aa5de5dd   \n",
       "4998   Voice      0   01:54.0            1  49fae048b547780  1a49f8b0ded9de6   \n",
       "4999   Voice      0   01:54.0            0  a1613f1a992716a  bd663f07b6c8bcd   \n",
       "5000   Voice      7   01:54.0            2  1670a5f7c22f4ed  3600efd094f2225   \n",
       "\n",
       "     COUNTRY_A COUNTRY_B     CELL_ID     SITE_ID  \n",
       "0        19e2e     19e2e  /TJNe+Mmtu  /TJNe+Mmtu  \n",
       "1        19e2e     19e2e  /+cKZKIp41  /+cKZKIp41  \n",
       "2        19e2e     19e2e  /u0FSD+ahi  /u0FSD+ahi  \n",
       "3        19e2e     19e2e      #NAME?      #NAME?  \n",
       "4        19e2e     19e2e  051KhYDCpv  051KhYDCpv  \n",
       "...        ...       ...         ...         ...  \n",
       "4996     19e2e     OTHER  0c2371d9bc  1e751d08a4  \n",
       "4997     19e2e     19e2e  5fb791cf56  65efe2bc62  \n",
       "4998     19e2e     19e2e  7773627c12  9ef9616350  \n",
       "4999     19e2e     19e2e  3f4af49d6c  969b8d0e39  \n",
       "5000     19e2e     19e2e  6f4d9b77a5  ebfc58af70  \n",
       "\n",
       "[5001 rows x 10 columns]"
      ],
      "text/html": "<div>\n<style scoped>\n    .dataframe tbody tr th:only-of-type {\n        vertical-align: middle;\n    }\n\n    .dataframe tbody tr th {\n        vertical-align: top;\n    }\n\n    .dataframe thead th {\n        text-align: right;\n    }\n</style>\n<table border=\"1\" class=\"dataframe\">\n  <thead>\n    <tr style=\"text-align: right;\">\n      <th></th>\n      <th>PRODUCT</th>\n      <th>VALUE</th>\n      <th>DATE_TIME</th>\n      <th>CELL_ON_SITE</th>\n      <th>DW_A_NUMBER_INT</th>\n      <th>DW_B_NUMBER_INT</th>\n      <th>COUNTRY_A</th>\n      <th>COUNTRY_B</th>\n      <th>CELL_ID</th>\n      <th>SITE_ID</th>\n    </tr>\n  </thead>\n  <tbody>\n    <tr>\n      <th>0</th>\n      <td>Voice</td>\n      <td>0</td>\n      <td>04:37.0</td>\n      <td>1</td>\n      <td>49fae048b547780</td>\n      <td>1a49f8b0ded9de6</td>\n      <td>19e2e</td>\n      <td>19e2e</td>\n      <td>/TJNe+Mmtu</td>\n      <td>/TJNe+Mmtu</td>\n    </tr>\n    <tr>\n      <th>1</th>\n      <td>sms</td>\n      <td>0</td>\n      <td>05:25.0</td>\n      <td>0</td>\n      <td>7a54a6eaee19e65</td>\n      <td>93343ba6e41af95</td>\n      <td>19e2e</td>\n      <td>19e2e</td>\n      <td>/+cKZKIp41</td>\n      <td>/+cKZKIp41</td>\n    </tr>\n    <tr>\n      <th>2</th>\n      <td>sms</td>\n      <td>25</td>\n      <td>05:41.0</td>\n      <td>0</td>\n      <td>6008887b0207d82</td>\n      <td>7aacc9709ce0a20</td>\n      <td>19e2e</td>\n      <td>19e2e</td>\n      <td>/u0FSD+ahi</td>\n      <td>/u0FSD+ahi</td>\n    </tr>\n    <tr>\n      <th>3</th>\n      <td>Voice</td>\n      <td>56</td>\n      <td>05:42.0</td>\n      <td>1</td>\n      <td>7370032e20f4e96</td>\n      <td>6af4a60e74c91d3</td>\n      <td>19e2e</td>\n      <td>19e2e</td>\n      <td>#NAME?</td>\n      <td>#NAME?</td>\n    </tr>\n    <tr>\n      <th>4</th>\n      <td>Voice</td>\n      <td>14</td>\n      <td>06:29.0</td>\n      <td>1</td>\n      <td>966ba4656e38e62</td>\n      <td>02aa736ee555d5c</td>\n      <td>19e2e</td>\n      <td>19e2e</td>\n      <td>051KhYDCpv</td>\n      <td>051KhYDCpv</td>\n    </tr>\n    <tr>\n      <th>...</th>\n      <td>...</td>\n      <td>...</td>\n      <td>...</td>\n      <td>...</td>\n      <td>...</td>\n      <td>...</td>\n      <td>...</td>\n      <td>...</td>\n      <td>...</td>\n      <td>...</td>\n    </tr>\n    <tr>\n      <th>4996</th>\n      <td>sms</td>\n      <td>100</td>\n      <td>01:54.0</td>\n      <td>0</td>\n      <td>92e367d671f45c5</td>\n      <td>38811081cf82c90</td>\n      <td>19e2e</td>\n      <td>OTHER</td>\n      <td>0c2371d9bc</td>\n      <td>1e751d08a4</td>\n    </tr>\n    <tr>\n      <th>4997</th>\n      <td>Voice</td>\n      <td>1</td>\n      <td>01:54.0</td>\n      <td>1</td>\n      <td>83b44b18238e602</td>\n      <td>6ec63d4aa5de5dd</td>\n      <td>19e2e</td>\n      <td>19e2e</td>\n      <td>5fb791cf56</td>\n      <td>65efe2bc62</td>\n    </tr>\n    <tr>\n      <th>4998</th>\n      <td>Voice</td>\n      <td>0</td>\n      <td>01:54.0</td>\n      <td>1</td>\n      <td>49fae048b547780</td>\n      <td>1a49f8b0ded9de6</td>\n      <td>19e2e</td>\n      <td>19e2e</td>\n      <td>7773627c12</td>\n      <td>9ef9616350</td>\n    </tr>\n    <tr>\n      <th>4999</th>\n      <td>Voice</td>\n      <td>0</td>\n      <td>01:54.0</td>\n      <td>0</td>\n      <td>a1613f1a992716a</td>\n      <td>bd663f07b6c8bcd</td>\n      <td>19e2e</td>\n      <td>19e2e</td>\n      <td>3f4af49d6c</td>\n      <td>969b8d0e39</td>\n    </tr>\n    <tr>\n      <th>5000</th>\n      <td>Voice</td>\n      <td>7</td>\n      <td>01:54.0</td>\n      <td>2</td>\n      <td>1670a5f7c22f4ed</td>\n      <td>3600efd094f2225</td>\n      <td>19e2e</td>\n      <td>19e2e</td>\n      <td>6f4d9b77a5</td>\n      <td>ebfc58af70</td>\n    </tr>\n  </tbody>\n</table>\n<p>5001 rows × 10 columns</p>\n</div>"
     },
     "metadata": {},
     "execution_count": 22
    }
   ],
   "source": [
    "# Cleaning the three datasets\n",
    "# 1. Rename column 1 and 3 to 'PRODUCT' and 'DATE_TIME' respectively in dataset 1\n",
    "data_1.rename(columns={\"PRODUTC\":\"PRODUCT\", \"DATETIME\": \"DATE_TIME\"})"
   ]
  },
  {
   "cell_type": "code",
   "execution_count": 24,
   "metadata": {},
   "outputs": [
    {
     "output_type": "execute_result",
     "data": {
      "text/plain": [
       "     PRODUCT  VALUE DATE_TIME CELL_ON_SITE  DW_A_NUMBER_INT  DW_B_NUMBER_INT  \\\n",
       "0        sms      0   02:06.0            2  32255675c3b6fe3  1aa7ae01386e9fb   \n",
       "1      Voice      0   03:44.0            1  ff16d6ac74c1c64  87d87309c15a8c9   \n",
       "2        sms      0   04:06.0            0  98d9f2fb5ff624b  93343ba6e41af95   \n",
       "3      Voice     37   04:48.0            1  3f9c8a33ec7be1f  7d05a38f89c49d8   \n",
       "4        sms     25   04:58.0            1  7bcccc03adf3864  56a5d5430d2fa86   \n",
       "...      ...    ...       ...          ...              ...              ...   \n",
       "4996     sms      0   01:53.0            8  22ffbbb8ac8cde1  8db839a0c08bd54   \n",
       "4997     sms     25   01:53.0            0  bcf512a3542d42c  5a2848d6f983c31   \n",
       "4998     sms      0   01:53.0            0  05e3c3d41628a9f  7185a95077eae9e   \n",
       "4999    data      0   01:53.0            _  86a4dbf018f6f24  5a4dc9e82deb309   \n",
       "5000   Voice      0   01:53.0            0  a03c9837c62a5b9  de590e98879fa37   \n",
       "\n",
       "     COUNTRY_A COUNTRY_B     CELL_ID     SITE_ID  \n",
       "0        19e2e     19e2e  +854AcBQT2  +854AcBQT2  \n",
       "1        19e2e     19e2e  +854AcBQT2  +854AcBQT2  \n",
       "2        19e2e     19e2e      #NAME?      #NAME?  \n",
       "3        19e2e     19e2e  /xvRrCVKoQ  /xvRrCVKoQ  \n",
       "4        19e2e     19e2e      #NAME?      #NAME?  \n",
       "...        ...       ...         ...         ...  \n",
       "4996     19e2e     19e2e  896459aace  b7d00e59e4  \n",
       "4997     19e2e     19e2e  7e90b35166  211015b14d  \n",
       "4998     19e2e     19e2e  fe70e431df  c7ea989264  \n",
       "4999     19e2e     OTHER  ffa6759bb2         NaN  \n",
       "5000     19e2e     19e2e  8630058aca  b47a998a3e  \n",
       "\n",
       "[5001 rows x 10 columns]"
      ],
      "text/html": "<div>\n<style scoped>\n    .dataframe tbody tr th:only-of-type {\n        vertical-align: middle;\n    }\n\n    .dataframe tbody tr th {\n        vertical-align: top;\n    }\n\n    .dataframe thead th {\n        text-align: right;\n    }\n</style>\n<table border=\"1\" class=\"dataframe\">\n  <thead>\n    <tr style=\"text-align: right;\">\n      <th></th>\n      <th>PRODUCT</th>\n      <th>VALUE</th>\n      <th>DATE_TIME</th>\n      <th>CELL_ON_SITE</th>\n      <th>DW_A_NUMBER_INT</th>\n      <th>DW_B_NUMBER_INT</th>\n      <th>COUNTRY_A</th>\n      <th>COUNTRY_B</th>\n      <th>CELL_ID</th>\n      <th>SITE_ID</th>\n    </tr>\n  </thead>\n  <tbody>\n    <tr>\n      <th>0</th>\n      <td>sms</td>\n      <td>0</td>\n      <td>02:06.0</td>\n      <td>2</td>\n      <td>32255675c3b6fe3</td>\n      <td>1aa7ae01386e9fb</td>\n      <td>19e2e</td>\n      <td>19e2e</td>\n      <td>+854AcBQT2</td>\n      <td>+854AcBQT2</td>\n    </tr>\n    <tr>\n      <th>1</th>\n      <td>Voice</td>\n      <td>0</td>\n      <td>03:44.0</td>\n      <td>1</td>\n      <td>ff16d6ac74c1c64</td>\n      <td>87d87309c15a8c9</td>\n      <td>19e2e</td>\n      <td>19e2e</td>\n      <td>+854AcBQT2</td>\n      <td>+854AcBQT2</td>\n    </tr>\n    <tr>\n      <th>2</th>\n      <td>sms</td>\n      <td>0</td>\n      <td>04:06.0</td>\n      <td>0</td>\n      <td>98d9f2fb5ff624b</td>\n      <td>93343ba6e41af95</td>\n      <td>19e2e</td>\n      <td>19e2e</td>\n      <td>#NAME?</td>\n      <td>#NAME?</td>\n    </tr>\n    <tr>\n      <th>3</th>\n      <td>Voice</td>\n      <td>37</td>\n      <td>04:48.0</td>\n      <td>1</td>\n      <td>3f9c8a33ec7be1f</td>\n      <td>7d05a38f89c49d8</td>\n      <td>19e2e</td>\n      <td>19e2e</td>\n      <td>/xvRrCVKoQ</td>\n      <td>/xvRrCVKoQ</td>\n    </tr>\n    <tr>\n      <th>4</th>\n      <td>sms</td>\n      <td>25</td>\n      <td>04:58.0</td>\n      <td>1</td>\n      <td>7bcccc03adf3864</td>\n      <td>56a5d5430d2fa86</td>\n      <td>19e2e</td>\n      <td>19e2e</td>\n      <td>#NAME?</td>\n      <td>#NAME?</td>\n    </tr>\n    <tr>\n      <th>...</th>\n      <td>...</td>\n      <td>...</td>\n      <td>...</td>\n      <td>...</td>\n      <td>...</td>\n      <td>...</td>\n      <td>...</td>\n      <td>...</td>\n      <td>...</td>\n      <td>...</td>\n    </tr>\n    <tr>\n      <th>4996</th>\n      <td>sms</td>\n      <td>0</td>\n      <td>01:53.0</td>\n      <td>8</td>\n      <td>22ffbbb8ac8cde1</td>\n      <td>8db839a0c08bd54</td>\n      <td>19e2e</td>\n      <td>19e2e</td>\n      <td>896459aace</td>\n      <td>b7d00e59e4</td>\n    </tr>\n    <tr>\n      <th>4997</th>\n      <td>sms</td>\n      <td>25</td>\n      <td>01:53.0</td>\n      <td>0</td>\n      <td>bcf512a3542d42c</td>\n      <td>5a2848d6f983c31</td>\n      <td>19e2e</td>\n      <td>19e2e</td>\n      <td>7e90b35166</td>\n      <td>211015b14d</td>\n    </tr>\n    <tr>\n      <th>4998</th>\n      <td>sms</td>\n      <td>0</td>\n      <td>01:53.0</td>\n      <td>0</td>\n      <td>05e3c3d41628a9f</td>\n      <td>7185a95077eae9e</td>\n      <td>19e2e</td>\n      <td>19e2e</td>\n      <td>fe70e431df</td>\n      <td>c7ea989264</td>\n    </tr>\n    <tr>\n      <th>4999</th>\n      <td>data</td>\n      <td>0</td>\n      <td>01:53.0</td>\n      <td>_</td>\n      <td>86a4dbf018f6f24</td>\n      <td>5a4dc9e82deb309</td>\n      <td>19e2e</td>\n      <td>OTHER</td>\n      <td>ffa6759bb2</td>\n      <td>NaN</td>\n    </tr>\n    <tr>\n      <th>5000</th>\n      <td>Voice</td>\n      <td>0</td>\n      <td>01:53.0</td>\n      <td>0</td>\n      <td>a03c9837c62a5b9</td>\n      <td>de590e98879fa37</td>\n      <td>19e2e</td>\n      <td>19e2e</td>\n      <td>8630058aca</td>\n      <td>b47a998a3e</td>\n    </tr>\n  </tbody>\n</table>\n<p>5001 rows × 10 columns</p>\n</div>"
     },
     "metadata": {},
     "execution_count": 24
    }
   ],
   "source": [
    "# 2. Rename column 5 and 6 in dataset 2 to read 'DW_A_NUMBER_INT' and 'DW_B_NUMBER_INT' respectively\n",
    "data_2.rename(columns={\"DW_A_NUMBER\":\"DW_A_NUMBER_INT\", \"DW_B_NUMBER\":\"DW_B_NUMBER_INT\"})"
   ]
  },
  {
   "cell_type": "code",
   "execution_count": 25,
   "metadata": {},
   "outputs": [
    {
     "output_type": "execute_result",
     "data": {
      "text/plain": [
       "     PRODUCT  VALUE DATE_TIME CELL_ON_SITE  DW_A_NUMBER_INT  DW_B_NUMBER_INT  \\\n",
       "0      Voice     61   01:28.0            2  966f68353622feb  ffd53a3bb2db6f1   \n",
       "1        sms      0   01:31.0            1  a0a597384c612d7  cf3b218f1dde792   \n",
       "2      Voice     10   02:59.0            1  5441a9a58c97132  52f8b299515b9b7   \n",
       "3        sms      0   03:04.0            0  8ab8b9ed6989f61  e09e736e46c5c3d   \n",
       "4      Voice     22   03:16.0            4  52662a62b199334  2186273faab4602   \n",
       "...      ...    ...       ...          ...              ...              ...   \n",
       "4996   Voice      0   01:43.0            3  467333ade2b4b9c  0ab2acd804d01fe   \n",
       "4997   Voice     62   01:43.0            1  e077a6b74c5053c  4c8098eb6ea1a41   \n",
       "4998   Voice     32   01:43.0            1  77f53c39d27c050  9d064f013e2cab2   \n",
       "4999   Voice     30   01:43.0            2  672ce74c418aa7a  f9ff5af59cf0d68   \n",
       "5000   Voice     60   01:43.0            2  6edeb4c55714650  7e60838216482a7   \n",
       "\n",
       "     COUNTRY_A COUNTRY_B     CELL_ID     SITE_ID  \n",
       "0        19e2e     19e2e  +38u2u/rfx  +38u2u/rfx  \n",
       "1        19e2e     19e2e      #NAME?      #NAME?  \n",
       "2        19e2e     19e2e  +ZaaZozy/+  +ZaaZozy/+  \n",
       "3        19e2e     19e2e      #NAME?      #NAME?  \n",
       "4        19e2e     19e2e  /eeMklgyJA  /eeMklgyJA  \n",
       "...        ...       ...         ...         ...  \n",
       "4996     19e2e     19e2e  2aa04dcab7  f7d63a29e5  \n",
       "4997     19e2e     19e2e  7f1f2f889f  b4ddb9e93c  \n",
       "4998     19e2e     19e2e  a4731e780e  d68260ef50  \n",
       "4999     19e2e     19e2e  98ed726da2  b4130b54ab  \n",
       "5000     19e2e     19e2e  1c11a2fcbb  6d70dae094  \n",
       "\n",
       "[5001 rows x 10 columns]"
      ],
      "text/html": "<div>\n<style scoped>\n    .dataframe tbody tr th:only-of-type {\n        vertical-align: middle;\n    }\n\n    .dataframe tbody tr th {\n        vertical-align: top;\n    }\n\n    .dataframe thead th {\n        text-align: right;\n    }\n</style>\n<table border=\"1\" class=\"dataframe\">\n  <thead>\n    <tr style=\"text-align: right;\">\n      <th></th>\n      <th>PRODUCT</th>\n      <th>VALUE</th>\n      <th>DATE_TIME</th>\n      <th>CELL_ON_SITE</th>\n      <th>DW_A_NUMBER_INT</th>\n      <th>DW_B_NUMBER_INT</th>\n      <th>COUNTRY_A</th>\n      <th>COUNTRY_B</th>\n      <th>CELL_ID</th>\n      <th>SITE_ID</th>\n    </tr>\n  </thead>\n  <tbody>\n    <tr>\n      <th>0</th>\n      <td>Voice</td>\n      <td>61</td>\n      <td>01:28.0</td>\n      <td>2</td>\n      <td>966f68353622feb</td>\n      <td>ffd53a3bb2db6f1</td>\n      <td>19e2e</td>\n      <td>19e2e</td>\n      <td>+38u2u/rfx</td>\n      <td>+38u2u/rfx</td>\n    </tr>\n    <tr>\n      <th>1</th>\n      <td>sms</td>\n      <td>0</td>\n      <td>01:31.0</td>\n      <td>1</td>\n      <td>a0a597384c612d7</td>\n      <td>cf3b218f1dde792</td>\n      <td>19e2e</td>\n      <td>19e2e</td>\n      <td>#NAME?</td>\n      <td>#NAME?</td>\n    </tr>\n    <tr>\n      <th>2</th>\n      <td>Voice</td>\n      <td>10</td>\n      <td>02:59.0</td>\n      <td>1</td>\n      <td>5441a9a58c97132</td>\n      <td>52f8b299515b9b7</td>\n      <td>19e2e</td>\n      <td>19e2e</td>\n      <td>+ZaaZozy/+</td>\n      <td>+ZaaZozy/+</td>\n    </tr>\n    <tr>\n      <th>3</th>\n      <td>sms</td>\n      <td>0</td>\n      <td>03:04.0</td>\n      <td>0</td>\n      <td>8ab8b9ed6989f61</td>\n      <td>e09e736e46c5c3d</td>\n      <td>19e2e</td>\n      <td>19e2e</td>\n      <td>#NAME?</td>\n      <td>#NAME?</td>\n    </tr>\n    <tr>\n      <th>4</th>\n      <td>Voice</td>\n      <td>22</td>\n      <td>03:16.0</td>\n      <td>4</td>\n      <td>52662a62b199334</td>\n      <td>2186273faab4602</td>\n      <td>19e2e</td>\n      <td>19e2e</td>\n      <td>/eeMklgyJA</td>\n      <td>/eeMklgyJA</td>\n    </tr>\n    <tr>\n      <th>...</th>\n      <td>...</td>\n      <td>...</td>\n      <td>...</td>\n      <td>...</td>\n      <td>...</td>\n      <td>...</td>\n      <td>...</td>\n      <td>...</td>\n      <td>...</td>\n      <td>...</td>\n    </tr>\n    <tr>\n      <th>4996</th>\n      <td>Voice</td>\n      <td>0</td>\n      <td>01:43.0</td>\n      <td>3</td>\n      <td>467333ade2b4b9c</td>\n      <td>0ab2acd804d01fe</td>\n      <td>19e2e</td>\n      <td>19e2e</td>\n      <td>2aa04dcab7</td>\n      <td>f7d63a29e5</td>\n    </tr>\n    <tr>\n      <th>4997</th>\n      <td>Voice</td>\n      <td>62</td>\n      <td>01:43.0</td>\n      <td>1</td>\n      <td>e077a6b74c5053c</td>\n      <td>4c8098eb6ea1a41</td>\n      <td>19e2e</td>\n      <td>19e2e</td>\n      <td>7f1f2f889f</td>\n      <td>b4ddb9e93c</td>\n    </tr>\n    <tr>\n      <th>4998</th>\n      <td>Voice</td>\n      <td>32</td>\n      <td>01:43.0</td>\n      <td>1</td>\n      <td>77f53c39d27c050</td>\n      <td>9d064f013e2cab2</td>\n      <td>19e2e</td>\n      <td>19e2e</td>\n      <td>a4731e780e</td>\n      <td>d68260ef50</td>\n    </tr>\n    <tr>\n      <th>4999</th>\n      <td>Voice</td>\n      <td>30</td>\n      <td>01:43.0</td>\n      <td>2</td>\n      <td>672ce74c418aa7a</td>\n      <td>f9ff5af59cf0d68</td>\n      <td>19e2e</td>\n      <td>19e2e</td>\n      <td>98ed726da2</td>\n      <td>b4130b54ab</td>\n    </tr>\n    <tr>\n      <th>5000</th>\n      <td>Voice</td>\n      <td>60</td>\n      <td>01:43.0</td>\n      <td>2</td>\n      <td>6edeb4c55714650</td>\n      <td>7e60838216482a7</td>\n      <td>19e2e</td>\n      <td>19e2e</td>\n      <td>1c11a2fcbb</td>\n      <td>6d70dae094</td>\n    </tr>\n  </tbody>\n</table>\n<p>5001 rows × 10 columns</p>\n</div>"
     },
     "metadata": {},
     "execution_count": 25
    }
   ],
   "source": [
    "# 3. Rename columns 9 and 10 in dataset 3 to read 'CELL_ID' and 'SITE_ID'\n",
    "data_3.rename(columns={\"CELLID\":\"CELL_ID\", \"SIET_ID\":\"SITE_ID\"})"
   ]
  },
  {
   "cell_type": "code",
   "execution_count": null,
   "metadata": {},
   "outputs": [],
   "source": []
  }
 ]
}