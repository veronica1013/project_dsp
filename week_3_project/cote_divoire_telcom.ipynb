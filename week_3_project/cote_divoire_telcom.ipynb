{
 "metadata": {
  "language_info": {
   "codemirror_mode": {
    "name": "ipython",
    "version": 3
   },
   "file_extension": ".py",
   "mimetype": "text/x-python",
   "name": "python",
   "nbconvert_exporter": "python",
   "pygments_lexer": "ipython3",
   "version": "3.8.5-final"
  },
  "orig_nbformat": 2,
  "kernelspec": {
   "name": "python3",
   "display_name": "Python 3.8.5 64-bit (conda)",
   "metadata": {
    "interpreter": {
     "hash": "a6ae5e711b5f3861f268276cd1b196f6f4ea1f61d47ac031594dd6d6898318f6"
    }
   }
  }
 },
 "nbformat": 4,
 "nbformat_minor": 2,
 "cells": [
  {
   "cell_type": "code",
   "execution_count": 1,
   "metadata": {},
   "outputs": [],
   "source": [
    "import pandas as pd\n",
    "import numpy as np"
   ]
  },
  {
   "cell_type": "code",
   "execution_count": 3,
   "metadata": {},
   "outputs": [
    {
     "output_type": "execute_result",
     "data": {
      "text/plain": [
       "  PRODUTC  VALUE DATETIME CELL_ON_SITE  DW_A_NUMBER_INT  DW_B_NUMBER_INT  \\\n",
       "0   Voice      0  04:37.0            1  49fae048b547780  1a49f8b0ded9de6   \n",
       "1     sms      0  05:25.0            0  7a54a6eaee19e65  93343ba6e41af95   \n",
       "2     sms     25  05:41.0            0  6008887b0207d82  7aacc9709ce0a20   \n",
       "3   Voice     56  05:42.0            1  7370032e20f4e96  6af4a60e74c91d3   \n",
       "4   Voice     14  06:29.0            1  966ba4656e38e62  02aa736ee555d5c   \n",
       "\n",
       "  COUNTRY_A COUNTRY_B     CELL_ID     SITE_ID  \n",
       "0     19e2e     19e2e  /TJNe+Mmtu  /TJNe+Mmtu  \n",
       "1     19e2e     19e2e  /+cKZKIp41  /+cKZKIp41  \n",
       "2     19e2e     19e2e  /u0FSD+ahi  /u0FSD+ahi  \n",
       "3     19e2e     19e2e      #NAME?      #NAME?  \n",
       "4     19e2e     19e2e  051KhYDCpv  051KhYDCpv  "
      ],
      "text/html": "<div>\n<style scoped>\n    .dataframe tbody tr th:only-of-type {\n        vertical-align: middle;\n    }\n\n    .dataframe tbody tr th {\n        vertical-align: top;\n    }\n\n    .dataframe thead th {\n        text-align: right;\n    }\n</style>\n<table border=\"1\" class=\"dataframe\">\n  <thead>\n    <tr style=\"text-align: right;\">\n      <th></th>\n      <th>PRODUTC</th>\n      <th>VALUE</th>\n      <th>DATETIME</th>\n      <th>CELL_ON_SITE</th>\n      <th>DW_A_NUMBER_INT</th>\n      <th>DW_B_NUMBER_INT</th>\n      <th>COUNTRY_A</th>\n      <th>COUNTRY_B</th>\n      <th>CELL_ID</th>\n      <th>SITE_ID</th>\n    </tr>\n  </thead>\n  <tbody>\n    <tr>\n      <th>0</th>\n      <td>Voice</td>\n      <td>0</td>\n      <td>04:37.0</td>\n      <td>1</td>\n      <td>49fae048b547780</td>\n      <td>1a49f8b0ded9de6</td>\n      <td>19e2e</td>\n      <td>19e2e</td>\n      <td>/TJNe+Mmtu</td>\n      <td>/TJNe+Mmtu</td>\n    </tr>\n    <tr>\n      <th>1</th>\n      <td>sms</td>\n      <td>0</td>\n      <td>05:25.0</td>\n      <td>0</td>\n      <td>7a54a6eaee19e65</td>\n      <td>93343ba6e41af95</td>\n      <td>19e2e</td>\n      <td>19e2e</td>\n      <td>/+cKZKIp41</td>\n      <td>/+cKZKIp41</td>\n    </tr>\n    <tr>\n      <th>2</th>\n      <td>sms</td>\n      <td>25</td>\n      <td>05:41.0</td>\n      <td>0</td>\n      <td>6008887b0207d82</td>\n      <td>7aacc9709ce0a20</td>\n      <td>19e2e</td>\n      <td>19e2e</td>\n      <td>/u0FSD+ahi</td>\n      <td>/u0FSD+ahi</td>\n    </tr>\n    <tr>\n      <th>3</th>\n      <td>Voice</td>\n      <td>56</td>\n      <td>05:42.0</td>\n      <td>1</td>\n      <td>7370032e20f4e96</td>\n      <td>6af4a60e74c91d3</td>\n      <td>19e2e</td>\n      <td>19e2e</td>\n      <td>#NAME?</td>\n      <td>#NAME?</td>\n    </tr>\n    <tr>\n      <th>4</th>\n      <td>Voice</td>\n      <td>14</td>\n      <td>06:29.0</td>\n      <td>1</td>\n      <td>966ba4656e38e62</td>\n      <td>02aa736ee555d5c</td>\n      <td>19e2e</td>\n      <td>19e2e</td>\n      <td>051KhYDCpv</td>\n      <td>051KhYDCpv</td>\n    </tr>\n  </tbody>\n</table>\n</div>"
     },
     "metadata": {},
     "execution_count": 3
    }
   ],
   "source": [
    "data = pd.read_csv('D:/veronica_moringa/project_dsp/data/Telcom_dataset_1.csv')\n",
    "data.head()\n"
   ]
  },
  {
   "cell_type": "code",
   "execution_count": 5,
   "metadata": {},
   "outputs": [
    {
     "output_type": "execute_result",
     "data": {
      "text/plain": [
       "  PRODUTC  VALUE DATETIME CELL_ON_SITE  DW_A_NUMBER_INT  DW_B_NUMBER_INT  \\\n",
       "0   Voice      0  04:37.0            1  49fae048b547780  1a49f8b0ded9de6   \n",
       "1     sms      0  05:25.0            0  7a54a6eaee19e65  93343ba6e41af95   \n",
       "2     sms     25  05:41.0            0  6008887b0207d82  7aacc9709ce0a20   \n",
       "3   Voice     56  05:42.0            1  7370032e20f4e96  6af4a60e74c91d3   \n",
       "4   Voice     14  06:29.0            1  966ba4656e38e62  02aa736ee555d5c   \n",
       "\n",
       "  COUNTRY_A COUNTRY_B     CELL_ID     SITE_ID  \n",
       "0     19e2e     19e2e  /TJNe+Mmtu  /TJNe+Mmtu  \n",
       "1     19e2e     19e2e  /+cKZKIp41  /+cKZKIp41  \n",
       "2     19e2e     19e2e  /u0FSD+ahi  /u0FSD+ahi  \n",
       "3     19e2e     19e2e      #NAME?      #NAME?  \n",
       "4     19e2e     19e2e  051KhYDCpv  051KhYDCpv  "
      ],
      "text/html": "<div>\n<style scoped>\n    .dataframe tbody tr th:only-of-type {\n        vertical-align: middle;\n    }\n\n    .dataframe tbody tr th {\n        vertical-align: top;\n    }\n\n    .dataframe thead th {\n        text-align: right;\n    }\n</style>\n<table border=\"1\" class=\"dataframe\">\n  <thead>\n    <tr style=\"text-align: right;\">\n      <th></th>\n      <th>PRODUTC</th>\n      <th>VALUE</th>\n      <th>DATETIME</th>\n      <th>CELL_ON_SITE</th>\n      <th>DW_A_NUMBER_INT</th>\n      <th>DW_B_NUMBER_INT</th>\n      <th>COUNTRY_A</th>\n      <th>COUNTRY_B</th>\n      <th>CELL_ID</th>\n      <th>SITE_ID</th>\n    </tr>\n  </thead>\n  <tbody>\n    <tr>\n      <th>0</th>\n      <td>Voice</td>\n      <td>0</td>\n      <td>04:37.0</td>\n      <td>1</td>\n      <td>49fae048b547780</td>\n      <td>1a49f8b0ded9de6</td>\n      <td>19e2e</td>\n      <td>19e2e</td>\n      <td>/TJNe+Mmtu</td>\n      <td>/TJNe+Mmtu</td>\n    </tr>\n    <tr>\n      <th>1</th>\n      <td>sms</td>\n      <td>0</td>\n      <td>05:25.0</td>\n      <td>0</td>\n      <td>7a54a6eaee19e65</td>\n      <td>93343ba6e41af95</td>\n      <td>19e2e</td>\n      <td>19e2e</td>\n      <td>/+cKZKIp41</td>\n      <td>/+cKZKIp41</td>\n    </tr>\n    <tr>\n      <th>2</th>\n      <td>sms</td>\n      <td>25</td>\n      <td>05:41.0</td>\n      <td>0</td>\n      <td>6008887b0207d82</td>\n      <td>7aacc9709ce0a20</td>\n      <td>19e2e</td>\n      <td>19e2e</td>\n      <td>/u0FSD+ahi</td>\n      <td>/u0FSD+ahi</td>\n    </tr>\n    <tr>\n      <th>3</th>\n      <td>Voice</td>\n      <td>56</td>\n      <td>05:42.0</td>\n      <td>1</td>\n      <td>7370032e20f4e96</td>\n      <td>6af4a60e74c91d3</td>\n      <td>19e2e</td>\n      <td>19e2e</td>\n      <td>#NAME?</td>\n      <td>#NAME?</td>\n    </tr>\n    <tr>\n      <th>4</th>\n      <td>Voice</td>\n      <td>14</td>\n      <td>06:29.0</td>\n      <td>1</td>\n      <td>966ba4656e38e62</td>\n      <td>02aa736ee555d5c</td>\n      <td>19e2e</td>\n      <td>19e2e</td>\n      <td>051KhYDCpv</td>\n      <td>051KhYDCpv</td>\n    </tr>\n  </tbody>\n</table>\n</div>"
     },
     "metadata": {},
     "execution_count": 5
    }
   ],
   "source": [
    "# Loading telcom dataset 2\n",
    "data_2 = pd.read_csv('D:/veronica_moringa/project_dsp/data/Telcom_dataset2.csv')\n",
    "data.head()"
   ]
  },
  {
   "cell_type": "code",
   "execution_count": null,
   "metadata": {},
   "outputs": [],
   "source": [
    "# Loading telcom dataset 3\n",
    "data_3 = pd.read_csv('D:/veronica_moringa/project_dsp/data/Telcom_dataset3.csv')\n",
    "data.head()"
   ]
  }
 ]
}