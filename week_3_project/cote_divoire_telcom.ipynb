{
 "metadata": {
  "language_info": {
   "codemirror_mode": {
    "name": "ipython",
    "version": 3
   },
   "file_extension": ".py",
   "mimetype": "text/x-python",
   "name": "python",
   "nbconvert_exporter": "python",
   "pygments_lexer": "ipython3",
   "version": "3.8.5-final"
  },
  "orig_nbformat": 2,
  "kernelspec": {
   "name": "python3",
   "display_name": "Python 3.8.5 64-bit (conda)",
   "metadata": {
    "interpreter": {
     "hash": "a6ae5e711b5f3861f268276cd1b196f6f4ea1f61d47ac031594dd6d6898318f6"
    }
   }
  }
 },
 "nbformat": 4,
 "nbformat_minor": 2,
 "cells": [
  {
   "cell_type": "code",
   "execution_count": 44,
   "metadata": {},
   "outputs": [],
   "source": [
    "# Importing the libraries to be used\n",
    "import pandas as pd\n",
    "import numpy as np\n"
   ]
  },
  {
   "cell_type": "code",
   "execution_count": 45,
   "metadata": {},
   "outputs": [
    {
     "output_type": "execute_result",
     "data": {
      "text/plain": [
       "  PRODUTC  VALUE DATETIME CELL_ON_SITE  DW_A_NUMBER_INT  DW_B_NUMBER_INT  \\\n",
       "0   Voice      0  04:37.0            1  49fae048b547780  1a49f8b0ded9de6   \n",
       "1     sms      0  05:25.0            0  7a54a6eaee19e65  93343ba6e41af95   \n",
       "2     sms     25  05:41.0            0  6008887b0207d82  7aacc9709ce0a20   \n",
       "3   Voice     56  05:42.0            1  7370032e20f4e96  6af4a60e74c91d3   \n",
       "4   Voice     14  06:29.0            1  966ba4656e38e62  02aa736ee555d5c   \n",
       "\n",
       "  COUNTRY_A COUNTRY_B     CELL_ID     SITE_ID  \n",
       "0     19e2e     19e2e  /TJNe+Mmtu  /TJNe+Mmtu  \n",
       "1     19e2e     19e2e  /+cKZKIp41  /+cKZKIp41  \n",
       "2     19e2e     19e2e  /u0FSD+ahi  /u0FSD+ahi  \n",
       "3     19e2e     19e2e      #NAME?      #NAME?  \n",
       "4     19e2e     19e2e  051KhYDCpv  051KhYDCpv  "
      ],
      "text/html": "<div>\n<style scoped>\n    .dataframe tbody tr th:only-of-type {\n        vertical-align: middle;\n    }\n\n    .dataframe tbody tr th {\n        vertical-align: top;\n    }\n\n    .dataframe thead th {\n        text-align: right;\n    }\n</style>\n<table border=\"1\" class=\"dataframe\">\n  <thead>\n    <tr style=\"text-align: right;\">\n      <th></th>\n      <th>PRODUTC</th>\n      <th>VALUE</th>\n      <th>DATETIME</th>\n      <th>CELL_ON_SITE</th>\n      <th>DW_A_NUMBER_INT</th>\n      <th>DW_B_NUMBER_INT</th>\n      <th>COUNTRY_A</th>\n      <th>COUNTRY_B</th>\n      <th>CELL_ID</th>\n      <th>SITE_ID</th>\n    </tr>\n  </thead>\n  <tbody>\n    <tr>\n      <th>0</th>\n      <td>Voice</td>\n      <td>0</td>\n      <td>04:37.0</td>\n      <td>1</td>\n      <td>49fae048b547780</td>\n      <td>1a49f8b0ded9de6</td>\n      <td>19e2e</td>\n      <td>19e2e</td>\n      <td>/TJNe+Mmtu</td>\n      <td>/TJNe+Mmtu</td>\n    </tr>\n    <tr>\n      <th>1</th>\n      <td>sms</td>\n      <td>0</td>\n      <td>05:25.0</td>\n      <td>0</td>\n      <td>7a54a6eaee19e65</td>\n      <td>93343ba6e41af95</td>\n      <td>19e2e</td>\n      <td>19e2e</td>\n      <td>/+cKZKIp41</td>\n      <td>/+cKZKIp41</td>\n    </tr>\n    <tr>\n      <th>2</th>\n      <td>sms</td>\n      <td>25</td>\n      <td>05:41.0</td>\n      <td>0</td>\n      <td>6008887b0207d82</td>\n      <td>7aacc9709ce0a20</td>\n      <td>19e2e</td>\n      <td>19e2e</td>\n      <td>/u0FSD+ahi</td>\n      <td>/u0FSD+ahi</td>\n    </tr>\n    <tr>\n      <th>3</th>\n      <td>Voice</td>\n      <td>56</td>\n      <td>05:42.0</td>\n      <td>1</td>\n      <td>7370032e20f4e96</td>\n      <td>6af4a60e74c91d3</td>\n      <td>19e2e</td>\n      <td>19e2e</td>\n      <td>#NAME?</td>\n      <td>#NAME?</td>\n    </tr>\n    <tr>\n      <th>4</th>\n      <td>Voice</td>\n      <td>14</td>\n      <td>06:29.0</td>\n      <td>1</td>\n      <td>966ba4656e38e62</td>\n      <td>02aa736ee555d5c</td>\n      <td>19e2e</td>\n      <td>19e2e</td>\n      <td>051KhYDCpv</td>\n      <td>051KhYDCpv</td>\n    </tr>\n  </tbody>\n</table>\n</div>"
     },
     "metadata": {},
     "execution_count": 45
    }
   ],
   "source": [
    "# Loading telcom dataset 1\n",
    "data_1 = pd.read_csv('D:/veronica_moringa/project_dsp/data/Telcom_dataset_1.csv')\n",
    "data_1.head()\n"
   ]
  },
  {
   "cell_type": "code",
   "execution_count": 46,
   "metadata": {},
   "outputs": [
    {
     "output_type": "execute_result",
     "data": {
      "text/plain": [
       "  PRODUCT  VALUE DATE_TIME CELL_ON_SITE      DW_A_NUMBER      DW_B_NUMBER  \\\n",
       "0     sms      0   02:06.0            2  32255675c3b6fe3  1aa7ae01386e9fb   \n",
       "1   Voice      0   03:44.0            1  ff16d6ac74c1c64  87d87309c15a8c9   \n",
       "2     sms      0   04:06.0            0  98d9f2fb5ff624b  93343ba6e41af95   \n",
       "3   Voice     37   04:48.0            1  3f9c8a33ec7be1f  7d05a38f89c49d8   \n",
       "4     sms     25   04:58.0            1  7bcccc03adf3864  56a5d5430d2fa86   \n",
       "\n",
       "  COUNTRY_A COUNTRY_B     CELL_ID     SITE_ID  \n",
       "0     19e2e     19e2e  +854AcBQT2  +854AcBQT2  \n",
       "1     19e2e     19e2e  +854AcBQT2  +854AcBQT2  \n",
       "2     19e2e     19e2e      #NAME?      #NAME?  \n",
       "3     19e2e     19e2e  /xvRrCVKoQ  /xvRrCVKoQ  \n",
       "4     19e2e     19e2e      #NAME?      #NAME?  "
      ],
      "text/html": "<div>\n<style scoped>\n    .dataframe tbody tr th:only-of-type {\n        vertical-align: middle;\n    }\n\n    .dataframe tbody tr th {\n        vertical-align: top;\n    }\n\n    .dataframe thead th {\n        text-align: right;\n    }\n</style>\n<table border=\"1\" class=\"dataframe\">\n  <thead>\n    <tr style=\"text-align: right;\">\n      <th></th>\n      <th>PRODUCT</th>\n      <th>VALUE</th>\n      <th>DATE_TIME</th>\n      <th>CELL_ON_SITE</th>\n      <th>DW_A_NUMBER</th>\n      <th>DW_B_NUMBER</th>\n      <th>COUNTRY_A</th>\n      <th>COUNTRY_B</th>\n      <th>CELL_ID</th>\n      <th>SITE_ID</th>\n    </tr>\n  </thead>\n  <tbody>\n    <tr>\n      <th>0</th>\n      <td>sms</td>\n      <td>0</td>\n      <td>02:06.0</td>\n      <td>2</td>\n      <td>32255675c3b6fe3</td>\n      <td>1aa7ae01386e9fb</td>\n      <td>19e2e</td>\n      <td>19e2e</td>\n      <td>+854AcBQT2</td>\n      <td>+854AcBQT2</td>\n    </tr>\n    <tr>\n      <th>1</th>\n      <td>Voice</td>\n      <td>0</td>\n      <td>03:44.0</td>\n      <td>1</td>\n      <td>ff16d6ac74c1c64</td>\n      <td>87d87309c15a8c9</td>\n      <td>19e2e</td>\n      <td>19e2e</td>\n      <td>+854AcBQT2</td>\n      <td>+854AcBQT2</td>\n    </tr>\n    <tr>\n      <th>2</th>\n      <td>sms</td>\n      <td>0</td>\n      <td>04:06.0</td>\n      <td>0</td>\n      <td>98d9f2fb5ff624b</td>\n      <td>93343ba6e41af95</td>\n      <td>19e2e</td>\n      <td>19e2e</td>\n      <td>#NAME?</td>\n      <td>#NAME?</td>\n    </tr>\n    <tr>\n      <th>3</th>\n      <td>Voice</td>\n      <td>37</td>\n      <td>04:48.0</td>\n      <td>1</td>\n      <td>3f9c8a33ec7be1f</td>\n      <td>7d05a38f89c49d8</td>\n      <td>19e2e</td>\n      <td>19e2e</td>\n      <td>/xvRrCVKoQ</td>\n      <td>/xvRrCVKoQ</td>\n    </tr>\n    <tr>\n      <th>4</th>\n      <td>sms</td>\n      <td>25</td>\n      <td>04:58.0</td>\n      <td>1</td>\n      <td>7bcccc03adf3864</td>\n      <td>56a5d5430d2fa86</td>\n      <td>19e2e</td>\n      <td>19e2e</td>\n      <td>#NAME?</td>\n      <td>#NAME?</td>\n    </tr>\n  </tbody>\n</table>\n</div>"
     },
     "metadata": {},
     "execution_count": 46
    }
   ],
   "source": [
    "# Loading telcom dataset 2\n",
    "data_2 = pd.read_csv('D:/veronica_moringa/project_dsp/data/Telcom_dataset2.csv')\n",
    "data_2.head()"
   ]
  },
  {
   "cell_type": "code",
   "execution_count": 47,
   "metadata": {},
   "outputs": [
    {
     "output_type": "execute_result",
     "data": {
      "text/plain": [
       "  PRODUCT  VALUE DATE_TIME CELL_ON_SITE  DW_A_NUMBER_INT  DW_B_NUMBER_INT  \\\n",
       "0   Voice     61   01:28.0            2  966f68353622feb  ffd53a3bb2db6f1   \n",
       "1     sms      0   01:31.0            1  a0a597384c612d7  cf3b218f1dde792   \n",
       "2   Voice     10   02:59.0            1  5441a9a58c97132  52f8b299515b9b7   \n",
       "3     sms      0   03:04.0            0  8ab8b9ed6989f61  e09e736e46c5c3d   \n",
       "4   Voice     22   03:16.0            4  52662a62b199334  2186273faab4602   \n",
       "\n",
       "  COUNTRY_A COUNTRY_B      CELLID     SIET_ID  \n",
       "0     19e2e     19e2e  +38u2u/rfx  +38u2u/rfx  \n",
       "1     19e2e     19e2e      #NAME?      #NAME?  \n",
       "2     19e2e     19e2e  +ZaaZozy/+  +ZaaZozy/+  \n",
       "3     19e2e     19e2e      #NAME?      #NAME?  \n",
       "4     19e2e     19e2e  /eeMklgyJA  /eeMklgyJA  "
      ],
      "text/html": "<div>\n<style scoped>\n    .dataframe tbody tr th:only-of-type {\n        vertical-align: middle;\n    }\n\n    .dataframe tbody tr th {\n        vertical-align: top;\n    }\n\n    .dataframe thead th {\n        text-align: right;\n    }\n</style>\n<table border=\"1\" class=\"dataframe\">\n  <thead>\n    <tr style=\"text-align: right;\">\n      <th></th>\n      <th>PRODUCT</th>\n      <th>VALUE</th>\n      <th>DATE_TIME</th>\n      <th>CELL_ON_SITE</th>\n      <th>DW_A_NUMBER_INT</th>\n      <th>DW_B_NUMBER_INT</th>\n      <th>COUNTRY_A</th>\n      <th>COUNTRY_B</th>\n      <th>CELLID</th>\n      <th>SIET_ID</th>\n    </tr>\n  </thead>\n  <tbody>\n    <tr>\n      <th>0</th>\n      <td>Voice</td>\n      <td>61</td>\n      <td>01:28.0</td>\n      <td>2</td>\n      <td>966f68353622feb</td>\n      <td>ffd53a3bb2db6f1</td>\n      <td>19e2e</td>\n      <td>19e2e</td>\n      <td>+38u2u/rfx</td>\n      <td>+38u2u/rfx</td>\n    </tr>\n    <tr>\n      <th>1</th>\n      <td>sms</td>\n      <td>0</td>\n      <td>01:31.0</td>\n      <td>1</td>\n      <td>a0a597384c612d7</td>\n      <td>cf3b218f1dde792</td>\n      <td>19e2e</td>\n      <td>19e2e</td>\n      <td>#NAME?</td>\n      <td>#NAME?</td>\n    </tr>\n    <tr>\n      <th>2</th>\n      <td>Voice</td>\n      <td>10</td>\n      <td>02:59.0</td>\n      <td>1</td>\n      <td>5441a9a58c97132</td>\n      <td>52f8b299515b9b7</td>\n      <td>19e2e</td>\n      <td>19e2e</td>\n      <td>+ZaaZozy/+</td>\n      <td>+ZaaZozy/+</td>\n    </tr>\n    <tr>\n      <th>3</th>\n      <td>sms</td>\n      <td>0</td>\n      <td>03:04.0</td>\n      <td>0</td>\n      <td>8ab8b9ed6989f61</td>\n      <td>e09e736e46c5c3d</td>\n      <td>19e2e</td>\n      <td>19e2e</td>\n      <td>#NAME?</td>\n      <td>#NAME?</td>\n    </tr>\n    <tr>\n      <th>4</th>\n      <td>Voice</td>\n      <td>22</td>\n      <td>03:16.0</td>\n      <td>4</td>\n      <td>52662a62b199334</td>\n      <td>2186273faab4602</td>\n      <td>19e2e</td>\n      <td>19e2e</td>\n      <td>/eeMklgyJA</td>\n      <td>/eeMklgyJA</td>\n    </tr>\n  </tbody>\n</table>\n</div>"
     },
     "metadata": {},
     "execution_count": 47
    }
   ],
   "source": [
    "# Loading telcom dataset 3\n",
    "data_3 = pd.read_csv('D:/veronica_moringa/project_dsp/data/Telcom_dataset3.csv')\n",
    "data_3.head()"
   ]
  },
  {
   "cell_type": "code",
   "execution_count": 48,
   "metadata": {},
   "outputs": [
    {
     "output_type": "execute_result",
     "data": {
      "text/plain": [
       "       Column name                                        Description   Format\n",
       "0          PRODUCT                                       Voice or SMS   String\n",
       "1            VALUE                                      Billing price  Integer\n",
       "2        DATE_TIME               Time in format yyyy-MM-dd hh:mm:ss.0   String\n",
       "3     CELL_ON_SITE  Which cell in the site was used (not needed here)  Integer\n",
       "4  DW_A_NUMBER_INT  Anonymized phone number of the person for whic...   String\n",
       "5  DW_B_NUMBER_INT        Anonymized phone number of the counterparty   String\n",
       "6        COUNTRY_A                  Country of party A (useless here)   String\n",
       "7        COUNTRY_B                  Country of party B (useless here)   String\n",
       "8          CELL_ID                                     ID of the cell   String\n",
       "9          SITE_ID                                     ID of the SITE   String"
      ],
      "text/html": "<div>\n<style scoped>\n    .dataframe tbody tr th:only-of-type {\n        vertical-align: middle;\n    }\n\n    .dataframe tbody tr th {\n        vertical-align: top;\n    }\n\n    .dataframe thead th {\n        text-align: right;\n    }\n</style>\n<table border=\"1\" class=\"dataframe\">\n  <thead>\n    <tr style=\"text-align: right;\">\n      <th></th>\n      <th>Column name</th>\n      <th>Description</th>\n      <th>Format</th>\n    </tr>\n  </thead>\n  <tbody>\n    <tr>\n      <th>0</th>\n      <td>PRODUCT</td>\n      <td>Voice or SMS</td>\n      <td>String</td>\n    </tr>\n    <tr>\n      <th>1</th>\n      <td>VALUE</td>\n      <td>Billing price</td>\n      <td>Integer</td>\n    </tr>\n    <tr>\n      <th>2</th>\n      <td>DATE_TIME</td>\n      <td>Time in format yyyy-MM-dd hh:mm:ss.0</td>\n      <td>String</td>\n    </tr>\n    <tr>\n      <th>3</th>\n      <td>CELL_ON_SITE</td>\n      <td>Which cell in the site was used (not needed here)</td>\n      <td>Integer</td>\n    </tr>\n    <tr>\n      <th>4</th>\n      <td>DW_A_NUMBER_INT</td>\n      <td>Anonymized phone number of the person for whic...</td>\n      <td>String</td>\n    </tr>\n    <tr>\n      <th>5</th>\n      <td>DW_B_NUMBER_INT</td>\n      <td>Anonymized phone number of the counterparty</td>\n      <td>String</td>\n    </tr>\n    <tr>\n      <th>6</th>\n      <td>COUNTRY_A</td>\n      <td>Country of party A (useless here)</td>\n      <td>String</td>\n    </tr>\n    <tr>\n      <th>7</th>\n      <td>COUNTRY_B</td>\n      <td>Country of party B (useless here)</td>\n      <td>String</td>\n    </tr>\n    <tr>\n      <th>8</th>\n      <td>CELL_ID</td>\n      <td>ID of the cell</td>\n      <td>String</td>\n    </tr>\n    <tr>\n      <th>9</th>\n      <td>SITE_ID</td>\n      <td>ID of the SITE</td>\n      <td>String</td>\n    </tr>\n  </tbody>\n</table>\n</div>"
     },
     "metadata": {},
     "execution_count": 48
    }
   ],
   "source": [
    "# Loading telcom dataset 4\n",
    "data_4 = pd.read_excel('D:/veronica_moringa/project_dsp/data/CDR_description.xlsx')\n",
    "data_4.head(10)\n"
   ]
  },
  {
   "cell_type": "code",
   "execution_count": 49,
   "metadata": {},
   "outputs": [
    {
     "output_type": "execute_result",
     "data": {
      "text/plain": [
       "     Column name                                        Description  Format\n",
       "0         VILLES                                               City  String\n",
       "1         STATUS                                  In Service or not  String\n",
       "2   LOCALISATION                                  in ABIDJAN or not  String\n",
       "3     DECOUPZONE                                  Geographical Zone  String\n",
       "4       ZONENAME                                       Name of Zone  String\n",
       "5      LONGITUDE                                          Longitude   Float\n",
       "6       LATITUDE                                           Latitude   Float\n",
       "7         REGION                                             Region  String\n",
       "8           AREA                                               Area  String\n",
       "9        CELL_ID                                     ID of the cell  String\n",
       "10     SITE_CODE  Site (there are several cells per site, severa...  String"
      ],
      "text/html": "<div>\n<style scoped>\n    .dataframe tbody tr th:only-of-type {\n        vertical-align: middle;\n    }\n\n    .dataframe tbody tr th {\n        vertical-align: top;\n    }\n\n    .dataframe thead th {\n        text-align: right;\n    }\n</style>\n<table border=\"1\" class=\"dataframe\">\n  <thead>\n    <tr style=\"text-align: right;\">\n      <th></th>\n      <th>Column name</th>\n      <th>Description</th>\n      <th>Format</th>\n    </tr>\n  </thead>\n  <tbody>\n    <tr>\n      <th>0</th>\n      <td>VILLES</td>\n      <td>City</td>\n      <td>String</td>\n    </tr>\n    <tr>\n      <th>1</th>\n      <td>STATUS</td>\n      <td>In Service or not</td>\n      <td>String</td>\n    </tr>\n    <tr>\n      <th>2</th>\n      <td>LOCALISATION</td>\n      <td>in ABIDJAN or not</td>\n      <td>String</td>\n    </tr>\n    <tr>\n      <th>3</th>\n      <td>DECOUPZONE</td>\n      <td>Geographical Zone</td>\n      <td>String</td>\n    </tr>\n    <tr>\n      <th>4</th>\n      <td>ZONENAME</td>\n      <td>Name of Zone</td>\n      <td>String</td>\n    </tr>\n    <tr>\n      <th>5</th>\n      <td>LONGITUDE</td>\n      <td>Longitude</td>\n      <td>Float</td>\n    </tr>\n    <tr>\n      <th>6</th>\n      <td>LATITUDE</td>\n      <td>Latitude</td>\n      <td>Float</td>\n    </tr>\n    <tr>\n      <th>7</th>\n      <td>REGION</td>\n      <td>Region</td>\n      <td>String</td>\n    </tr>\n    <tr>\n      <th>8</th>\n      <td>AREA</td>\n      <td>Area</td>\n      <td>String</td>\n    </tr>\n    <tr>\n      <th>9</th>\n      <td>CELL_ID</td>\n      <td>ID of the cell</td>\n      <td>String</td>\n    </tr>\n    <tr>\n      <th>10</th>\n      <td>SITE_CODE</td>\n      <td>Site (there are several cells per site, severa...</td>\n      <td>String</td>\n    </tr>\n  </tbody>\n</table>\n</div>"
     },
     "metadata": {},
     "execution_count": 49
    }
   ],
   "source": [
    "# Loading telcom dataset 5\n",
    "data_5 = pd.read_excel('D:/veronica_moringa/project_dsp/data/cells_geo_description.xlsx')\n",
    "data_5.head(11)"
   ]
  },
  {
   "cell_type": "code",
   "execution_count": 50,
   "metadata": {},
   "outputs": [
    {
     "output_type": "execute_result",
     "data": {
      "text/plain": [
       "         Unnamed: 0      STATUS LOCALISATION    DECOUPZONE  ZONENAME  \\\n",
       "VILLES                                                                 \n",
       "ADJAME            0  In Service      ABIDJAN  \"Abidjan_EST  AGBANNEW   \n",
       "ADJAME            1  In Service      ABIDJAN  \"Abidjan_EST  AGBANNEW   \n",
       "ADJAME            2  In Service      ABIDJAN  \"Abidjan_EST  AGBANNEW   \n",
       "ASSINIE           3  In Service    INTERIEUR     Grand-EST  ASSINIE\"   \n",
       "ASSINIE           4  In Service    INTERIEUR     Grand-EST  ASSINIE\"   \n",
       "\n",
       "         LONGITUDE  LATITUDE     REGION AREA     CELL_ID   SITE_CODE  \n",
       "VILLES                                                                \n",
       "ADJAME   -4.000667  5.368194     LAGUNE  NaN  fbb2e75af3  0bb492ef17  \n",
       "ADJAME   -4.000667  5.368194     LAGUNE  NaN  1502501d78  0bb492ef17  \n",
       "ADJAME   -4.000667  5.368194     LAGUNE  NaN  0c2e182a0c  0bb492ef17  \n",
       "ASSINIE  -3.488467  5.158761  SUD COMOE  NaN  69bdfc69fd  8a1e6ce31f  \n",
       "ASSINIE  -3.488467  5.158761  SUD COMOE  NaN  7a1029d2ab  8a1e6ce31f  "
      ],
      "text/html": "<div>\n<style scoped>\n    .dataframe tbody tr th:only-of-type {\n        vertical-align: middle;\n    }\n\n    .dataframe tbody tr th {\n        vertical-align: top;\n    }\n\n    .dataframe thead th {\n        text-align: right;\n    }\n</style>\n<table border=\"1\" class=\"dataframe\">\n  <thead>\n    <tr style=\"text-align: right;\">\n      <th></th>\n      <th>Unnamed: 0</th>\n      <th>STATUS</th>\n      <th>LOCALISATION</th>\n      <th>DECOUPZONE</th>\n      <th>ZONENAME</th>\n      <th>LONGITUDE</th>\n      <th>LATITUDE</th>\n      <th>REGION</th>\n      <th>AREA</th>\n      <th>CELL_ID</th>\n      <th>SITE_CODE</th>\n    </tr>\n    <tr>\n      <th>VILLES</th>\n      <th></th>\n      <th></th>\n      <th></th>\n      <th></th>\n      <th></th>\n      <th></th>\n      <th></th>\n      <th></th>\n      <th></th>\n      <th></th>\n      <th></th>\n    </tr>\n  </thead>\n  <tbody>\n    <tr>\n      <th>ADJAME</th>\n      <td>0</td>\n      <td>In Service</td>\n      <td>ABIDJAN</td>\n      <td>\"Abidjan_EST</td>\n      <td>AGBANNEW</td>\n      <td>-4.000667</td>\n      <td>5.368194</td>\n      <td>LAGUNE</td>\n      <td>NaN</td>\n      <td>fbb2e75af3</td>\n      <td>0bb492ef17</td>\n    </tr>\n    <tr>\n      <th>ADJAME</th>\n      <td>1</td>\n      <td>In Service</td>\n      <td>ABIDJAN</td>\n      <td>\"Abidjan_EST</td>\n      <td>AGBANNEW</td>\n      <td>-4.000667</td>\n      <td>5.368194</td>\n      <td>LAGUNE</td>\n      <td>NaN</td>\n      <td>1502501d78</td>\n      <td>0bb492ef17</td>\n    </tr>\n    <tr>\n      <th>ADJAME</th>\n      <td>2</td>\n      <td>In Service</td>\n      <td>ABIDJAN</td>\n      <td>\"Abidjan_EST</td>\n      <td>AGBANNEW</td>\n      <td>-4.000667</td>\n      <td>5.368194</td>\n      <td>LAGUNE</td>\n      <td>NaN</td>\n      <td>0c2e182a0c</td>\n      <td>0bb492ef17</td>\n    </tr>\n    <tr>\n      <th>ASSINIE</th>\n      <td>3</td>\n      <td>In Service</td>\n      <td>INTERIEUR</td>\n      <td>Grand-EST</td>\n      <td>ASSINIE\"</td>\n      <td>-3.488467</td>\n      <td>5.158761</td>\n      <td>SUD COMOE</td>\n      <td>NaN</td>\n      <td>69bdfc69fd</td>\n      <td>8a1e6ce31f</td>\n    </tr>\n    <tr>\n      <th>ASSINIE</th>\n      <td>4</td>\n      <td>In Service</td>\n      <td>INTERIEUR</td>\n      <td>Grand-EST</td>\n      <td>ASSINIE\"</td>\n      <td>-3.488467</td>\n      <td>5.158761</td>\n      <td>SUD COMOE</td>\n      <td>NaN</td>\n      <td>7a1029d2ab</td>\n      <td>8a1e6ce31f</td>\n    </tr>\n  </tbody>\n</table>\n</div>"
     },
     "metadata": {},
     "execution_count": 50
    }
   ],
   "source": [
    "# Loading telcom dataset 6\n",
    "\n",
    "data_6 = pd.read_csv('D:/veronica_moringa/project_dsp/data/cells_geo.csv', delimiter=';', index_col=1)\n",
    "\n",
    "data_6.head()"
   ]
  },
  {
   "cell_type": "code",
   "execution_count": 51,
   "metadata": {},
   "outputs": [
    {
     "output_type": "execute_result",
     "data": {
      "text/plain": [
       "(5001, 10)"
      ]
     },
     "metadata": {},
     "execution_count": 51
    }
   ],
   "source": [
    "data_1.shape"
   ]
  },
  {
   "cell_type": "code",
   "execution_count": 52,
   "metadata": {},
   "outputs": [
    {
     "output_type": "execute_result",
     "data": {
      "text/plain": [
       "(5001, 10)"
      ]
     },
     "metadata": {},
     "execution_count": 52
    }
   ],
   "source": [
    "data_2.shape"
   ]
  },
  {
   "cell_type": "code",
   "execution_count": 53,
   "metadata": {},
   "outputs": [
    {
     "output_type": "execute_result",
     "data": {
      "text/plain": [
       "(5001, 10)"
      ]
     },
     "metadata": {},
     "execution_count": 53
    }
   ],
   "source": [
    "data_3.shape"
   ]
  },
  {
   "cell_type": "code",
   "execution_count": 54,
   "metadata": {},
   "outputs": [
    {
     "output_type": "execute_result",
     "data": {
      "text/plain": [
       "(10, 3)"
      ]
     },
     "metadata": {},
     "execution_count": 54
    }
   ],
   "source": [
    "data_4.shape"
   ]
  },
  {
   "cell_type": "code",
   "execution_count": 55,
   "metadata": {},
   "outputs": [
    {
     "output_type": "execute_result",
     "data": {
      "text/plain": [
       "(11, 3)"
      ]
     },
     "metadata": {},
     "execution_count": 55
    }
   ],
   "source": [
    "data_5.shape"
   ]
  },
  {
   "cell_type": "code",
   "execution_count": 15,
   "metadata": {},
   "outputs": [
    {
     "output_type": "execute_result",
     "data": {
      "text/plain": [
       "(3974, 1)"
      ]
     },
     "metadata": {},
     "execution_count": 15
    }
   ],
   "source": [
    "data_6.shape"
   ]
  },
  {
   "cell_type": "code",
   "execution_count": 56,
   "metadata": {},
   "outputs": [
    {
     "output_type": "execute_result",
     "data": {
      "text/plain": [
       "  PRODUCT  VALUE DATE_TIME CELL_ON_SITE  DW_A_NUMBER_INT  DW_B_NUMBER_INT  \\\n",
       "0   Voice      0   04:37.0            1  49fae048b547780  1a49f8b0ded9de6   \n",
       "1     sms      0   05:25.0            0  7a54a6eaee19e65  93343ba6e41af95   \n",
       "2     sms     25   05:41.0            0  6008887b0207d82  7aacc9709ce0a20   \n",
       "3   Voice     56   05:42.0            1  7370032e20f4e96  6af4a60e74c91d3   \n",
       "4   Voice     14   06:29.0            1  966ba4656e38e62  02aa736ee555d5c   \n",
       "\n",
       "  COUNTRY_A COUNTRY_B     CELL_ID     SITE_ID  \n",
       "0     19e2e     19e2e  /TJNe+Mmtu  /TJNe+Mmtu  \n",
       "1     19e2e     19e2e  /+cKZKIp41  /+cKZKIp41  \n",
       "2     19e2e     19e2e  /u0FSD+ahi  /u0FSD+ahi  \n",
       "3     19e2e     19e2e      #NAME?      #NAME?  \n",
       "4     19e2e     19e2e  051KhYDCpv  051KhYDCpv  "
      ],
      "text/html": "<div>\n<style scoped>\n    .dataframe tbody tr th:only-of-type {\n        vertical-align: middle;\n    }\n\n    .dataframe tbody tr th {\n        vertical-align: top;\n    }\n\n    .dataframe thead th {\n        text-align: right;\n    }\n</style>\n<table border=\"1\" class=\"dataframe\">\n  <thead>\n    <tr style=\"text-align: right;\">\n      <th></th>\n      <th>PRODUCT</th>\n      <th>VALUE</th>\n      <th>DATE_TIME</th>\n      <th>CELL_ON_SITE</th>\n      <th>DW_A_NUMBER_INT</th>\n      <th>DW_B_NUMBER_INT</th>\n      <th>COUNTRY_A</th>\n      <th>COUNTRY_B</th>\n      <th>CELL_ID</th>\n      <th>SITE_ID</th>\n    </tr>\n  </thead>\n  <tbody>\n    <tr>\n      <th>0</th>\n      <td>Voice</td>\n      <td>0</td>\n      <td>04:37.0</td>\n      <td>1</td>\n      <td>49fae048b547780</td>\n      <td>1a49f8b0ded9de6</td>\n      <td>19e2e</td>\n      <td>19e2e</td>\n      <td>/TJNe+Mmtu</td>\n      <td>/TJNe+Mmtu</td>\n    </tr>\n    <tr>\n      <th>1</th>\n      <td>sms</td>\n      <td>0</td>\n      <td>05:25.0</td>\n      <td>0</td>\n      <td>7a54a6eaee19e65</td>\n      <td>93343ba6e41af95</td>\n      <td>19e2e</td>\n      <td>19e2e</td>\n      <td>/+cKZKIp41</td>\n      <td>/+cKZKIp41</td>\n    </tr>\n    <tr>\n      <th>2</th>\n      <td>sms</td>\n      <td>25</td>\n      <td>05:41.0</td>\n      <td>0</td>\n      <td>6008887b0207d82</td>\n      <td>7aacc9709ce0a20</td>\n      <td>19e2e</td>\n      <td>19e2e</td>\n      <td>/u0FSD+ahi</td>\n      <td>/u0FSD+ahi</td>\n    </tr>\n    <tr>\n      <th>3</th>\n      <td>Voice</td>\n      <td>56</td>\n      <td>05:42.0</td>\n      <td>1</td>\n      <td>7370032e20f4e96</td>\n      <td>6af4a60e74c91d3</td>\n      <td>19e2e</td>\n      <td>19e2e</td>\n      <td>#NAME?</td>\n      <td>#NAME?</td>\n    </tr>\n    <tr>\n      <th>4</th>\n      <td>Voice</td>\n      <td>14</td>\n      <td>06:29.0</td>\n      <td>1</td>\n      <td>966ba4656e38e62</td>\n      <td>02aa736ee555d5c</td>\n      <td>19e2e</td>\n      <td>19e2e</td>\n      <td>051KhYDCpv</td>\n      <td>051KhYDCpv</td>\n    </tr>\n  </tbody>\n</table>\n</div>"
     },
     "metadata": {},
     "execution_count": 56
    }
   ],
   "source": [
    "# Cleaning the three datasets\n",
    "# 1. Rename column 1 and 3 to 'PRODUCT' and 'DATE_TIME' respectively in dataset 1\n",
    "data_1a = data_1.rename(columns={\"PRODUTC\":\"PRODUCT\", \"DATETIME\": \"DATE_TIME\"})\n",
    "data_1a.head()"
   ]
  },
  {
   "cell_type": "code",
   "execution_count": 57,
   "metadata": {},
   "outputs": [
    {
     "output_type": "execute_result",
     "data": {
      "text/plain": [
       "  PRODUCT  VALUE DATE_TIME CELL_ON_SITE  DW_A_NUMBER_INT  DW_B_NUMBER_INT  \\\n",
       "0     sms      0   02:06.0            2  32255675c3b6fe3  1aa7ae01386e9fb   \n",
       "1   Voice      0   03:44.0            1  ff16d6ac74c1c64  87d87309c15a8c9   \n",
       "2     sms      0   04:06.0            0  98d9f2fb5ff624b  93343ba6e41af95   \n",
       "3   Voice     37   04:48.0            1  3f9c8a33ec7be1f  7d05a38f89c49d8   \n",
       "4     sms     25   04:58.0            1  7bcccc03adf3864  56a5d5430d2fa86   \n",
       "\n",
       "  COUNTRY_A COUNTRY_B     CELL_ID     SITE_ID  \n",
       "0     19e2e     19e2e  +854AcBQT2  +854AcBQT2  \n",
       "1     19e2e     19e2e  +854AcBQT2  +854AcBQT2  \n",
       "2     19e2e     19e2e      #NAME?      #NAME?  \n",
       "3     19e2e     19e2e  /xvRrCVKoQ  /xvRrCVKoQ  \n",
       "4     19e2e     19e2e      #NAME?      #NAME?  "
      ],
      "text/html": "<div>\n<style scoped>\n    .dataframe tbody tr th:only-of-type {\n        vertical-align: middle;\n    }\n\n    .dataframe tbody tr th {\n        vertical-align: top;\n    }\n\n    .dataframe thead th {\n        text-align: right;\n    }\n</style>\n<table border=\"1\" class=\"dataframe\">\n  <thead>\n    <tr style=\"text-align: right;\">\n      <th></th>\n      <th>PRODUCT</th>\n      <th>VALUE</th>\n      <th>DATE_TIME</th>\n      <th>CELL_ON_SITE</th>\n      <th>DW_A_NUMBER_INT</th>\n      <th>DW_B_NUMBER_INT</th>\n      <th>COUNTRY_A</th>\n      <th>COUNTRY_B</th>\n      <th>CELL_ID</th>\n      <th>SITE_ID</th>\n    </tr>\n  </thead>\n  <tbody>\n    <tr>\n      <th>0</th>\n      <td>sms</td>\n      <td>0</td>\n      <td>02:06.0</td>\n      <td>2</td>\n      <td>32255675c3b6fe3</td>\n      <td>1aa7ae01386e9fb</td>\n      <td>19e2e</td>\n      <td>19e2e</td>\n      <td>+854AcBQT2</td>\n      <td>+854AcBQT2</td>\n    </tr>\n    <tr>\n      <th>1</th>\n      <td>Voice</td>\n      <td>0</td>\n      <td>03:44.0</td>\n      <td>1</td>\n      <td>ff16d6ac74c1c64</td>\n      <td>87d87309c15a8c9</td>\n      <td>19e2e</td>\n      <td>19e2e</td>\n      <td>+854AcBQT2</td>\n      <td>+854AcBQT2</td>\n    </tr>\n    <tr>\n      <th>2</th>\n      <td>sms</td>\n      <td>0</td>\n      <td>04:06.0</td>\n      <td>0</td>\n      <td>98d9f2fb5ff624b</td>\n      <td>93343ba6e41af95</td>\n      <td>19e2e</td>\n      <td>19e2e</td>\n      <td>#NAME?</td>\n      <td>#NAME?</td>\n    </tr>\n    <tr>\n      <th>3</th>\n      <td>Voice</td>\n      <td>37</td>\n      <td>04:48.0</td>\n      <td>1</td>\n      <td>3f9c8a33ec7be1f</td>\n      <td>7d05a38f89c49d8</td>\n      <td>19e2e</td>\n      <td>19e2e</td>\n      <td>/xvRrCVKoQ</td>\n      <td>/xvRrCVKoQ</td>\n    </tr>\n    <tr>\n      <th>4</th>\n      <td>sms</td>\n      <td>25</td>\n      <td>04:58.0</td>\n      <td>1</td>\n      <td>7bcccc03adf3864</td>\n      <td>56a5d5430d2fa86</td>\n      <td>19e2e</td>\n      <td>19e2e</td>\n      <td>#NAME?</td>\n      <td>#NAME?</td>\n    </tr>\n  </tbody>\n</table>\n</div>"
     },
     "metadata": {},
     "execution_count": 57
    }
   ],
   "source": [
    "# 2. Rename column 5 and 6 in dataset 2 to read 'DW_A_NUMBER_INT' and 'DW_B_NUMBER_INT' respectively\n",
    "data_2b = data_2.rename(columns={\"DW_A_NUMBER\":\"DW_A_NUMBER_INT\", \"DW_B_NUMBER\":\"DW_B_NUMBER_INT\"})\n",
    "data_2b.head()"
   ]
  },
  {
   "cell_type": "code",
   "execution_count": 58,
   "metadata": {},
   "outputs": [
    {
     "output_type": "execute_result",
     "data": {
      "text/plain": [
       "  PRODUCT  VALUE DATE_TIME CELL_ON_SITE  DW_A_NUMBER_INT  DW_B_NUMBER_INT  \\\n",
       "0   Voice     61   01:28.0            2  966f68353622feb  ffd53a3bb2db6f1   \n",
       "1     sms      0   01:31.0            1  a0a597384c612d7  cf3b218f1dde792   \n",
       "2   Voice     10   02:59.0            1  5441a9a58c97132  52f8b299515b9b7   \n",
       "3     sms      0   03:04.0            0  8ab8b9ed6989f61  e09e736e46c5c3d   \n",
       "4   Voice     22   03:16.0            4  52662a62b199334  2186273faab4602   \n",
       "\n",
       "  COUNTRY_A COUNTRY_B     CELL_ID     SITE_ID  \n",
       "0     19e2e     19e2e  +38u2u/rfx  +38u2u/rfx  \n",
       "1     19e2e     19e2e      #NAME?      #NAME?  \n",
       "2     19e2e     19e2e  +ZaaZozy/+  +ZaaZozy/+  \n",
       "3     19e2e     19e2e      #NAME?      #NAME?  \n",
       "4     19e2e     19e2e  /eeMklgyJA  /eeMklgyJA  "
      ],
      "text/html": "<div>\n<style scoped>\n    .dataframe tbody tr th:only-of-type {\n        vertical-align: middle;\n    }\n\n    .dataframe tbody tr th {\n        vertical-align: top;\n    }\n\n    .dataframe thead th {\n        text-align: right;\n    }\n</style>\n<table border=\"1\" class=\"dataframe\">\n  <thead>\n    <tr style=\"text-align: right;\">\n      <th></th>\n      <th>PRODUCT</th>\n      <th>VALUE</th>\n      <th>DATE_TIME</th>\n      <th>CELL_ON_SITE</th>\n      <th>DW_A_NUMBER_INT</th>\n      <th>DW_B_NUMBER_INT</th>\n      <th>COUNTRY_A</th>\n      <th>COUNTRY_B</th>\n      <th>CELL_ID</th>\n      <th>SITE_ID</th>\n    </tr>\n  </thead>\n  <tbody>\n    <tr>\n      <th>0</th>\n      <td>Voice</td>\n      <td>61</td>\n      <td>01:28.0</td>\n      <td>2</td>\n      <td>966f68353622feb</td>\n      <td>ffd53a3bb2db6f1</td>\n      <td>19e2e</td>\n      <td>19e2e</td>\n      <td>+38u2u/rfx</td>\n      <td>+38u2u/rfx</td>\n    </tr>\n    <tr>\n      <th>1</th>\n      <td>sms</td>\n      <td>0</td>\n      <td>01:31.0</td>\n      <td>1</td>\n      <td>a0a597384c612d7</td>\n      <td>cf3b218f1dde792</td>\n      <td>19e2e</td>\n      <td>19e2e</td>\n      <td>#NAME?</td>\n      <td>#NAME?</td>\n    </tr>\n    <tr>\n      <th>2</th>\n      <td>Voice</td>\n      <td>10</td>\n      <td>02:59.0</td>\n      <td>1</td>\n      <td>5441a9a58c97132</td>\n      <td>52f8b299515b9b7</td>\n      <td>19e2e</td>\n      <td>19e2e</td>\n      <td>+ZaaZozy/+</td>\n      <td>+ZaaZozy/+</td>\n    </tr>\n    <tr>\n      <th>3</th>\n      <td>sms</td>\n      <td>0</td>\n      <td>03:04.0</td>\n      <td>0</td>\n      <td>8ab8b9ed6989f61</td>\n      <td>e09e736e46c5c3d</td>\n      <td>19e2e</td>\n      <td>19e2e</td>\n      <td>#NAME?</td>\n      <td>#NAME?</td>\n    </tr>\n    <tr>\n      <th>4</th>\n      <td>Voice</td>\n      <td>22</td>\n      <td>03:16.0</td>\n      <td>4</td>\n      <td>52662a62b199334</td>\n      <td>2186273faab4602</td>\n      <td>19e2e</td>\n      <td>19e2e</td>\n      <td>/eeMklgyJA</td>\n      <td>/eeMklgyJA</td>\n    </tr>\n  </tbody>\n</table>\n</div>"
     },
     "metadata": {},
     "execution_count": 58
    }
   ],
   "source": [
    "# 3. Rename columns 9 and 10 in dataset 3 to read 'CELL_ID' and 'SITE_ID'\n",
    "data_3c = data_3.rename(columns={\"CELLID\":\"CELL_ID\", \"SIET_ID\":\"SITE_ID\"})\n",
    "data_3c.head()"
   ]
  },
  {
   "cell_type": "code",
   "execution_count": 59,
   "metadata": {},
   "outputs": [],
   "source": [
    "# Merger the three datasets using concat function\n",
    "concatenated = pd.concat([data_1a, data_2b, data_3c])"
   ]
  },
  {
   "cell_type": "code",
   "execution_count": 60,
   "metadata": {},
   "outputs": [
    {
     "output_type": "execute_result",
     "data": {
      "text/plain": [
       "  PRODUCT  VALUE DATE_TIME CELL_ON_SITE  DW_A_NUMBER_INT  DW_B_NUMBER_INT  \\\n",
       "0   Voice      0   04:37.0            1  49fae048b547780  1a49f8b0ded9de6   \n",
       "1     sms      0   05:25.0            0  7a54a6eaee19e65  93343ba6e41af95   \n",
       "2     sms     25   05:41.0            0  6008887b0207d82  7aacc9709ce0a20   \n",
       "3   Voice     56   05:42.0            1  7370032e20f4e96  6af4a60e74c91d3   \n",
       "4   Voice     14   06:29.0            1  966ba4656e38e62  02aa736ee555d5c   \n",
       "\n",
       "  COUNTRY_A COUNTRY_B     CELL_ID     SITE_ID  \n",
       "0     19e2e     19e2e  /TJNe+Mmtu  /TJNe+Mmtu  \n",
       "1     19e2e     19e2e  /+cKZKIp41  /+cKZKIp41  \n",
       "2     19e2e     19e2e  /u0FSD+ahi  /u0FSD+ahi  \n",
       "3     19e2e     19e2e      #NAME?      #NAME?  \n",
       "4     19e2e     19e2e  051KhYDCpv  051KhYDCpv  "
      ],
      "text/html": "<div>\n<style scoped>\n    .dataframe tbody tr th:only-of-type {\n        vertical-align: middle;\n    }\n\n    .dataframe tbody tr th {\n        vertical-align: top;\n    }\n\n    .dataframe thead th {\n        text-align: right;\n    }\n</style>\n<table border=\"1\" class=\"dataframe\">\n  <thead>\n    <tr style=\"text-align: right;\">\n      <th></th>\n      <th>PRODUCT</th>\n      <th>VALUE</th>\n      <th>DATE_TIME</th>\n      <th>CELL_ON_SITE</th>\n      <th>DW_A_NUMBER_INT</th>\n      <th>DW_B_NUMBER_INT</th>\n      <th>COUNTRY_A</th>\n      <th>COUNTRY_B</th>\n      <th>CELL_ID</th>\n      <th>SITE_ID</th>\n    </tr>\n  </thead>\n  <tbody>\n    <tr>\n      <th>0</th>\n      <td>Voice</td>\n      <td>0</td>\n      <td>04:37.0</td>\n      <td>1</td>\n      <td>49fae048b547780</td>\n      <td>1a49f8b0ded9de6</td>\n      <td>19e2e</td>\n      <td>19e2e</td>\n      <td>/TJNe+Mmtu</td>\n      <td>/TJNe+Mmtu</td>\n    </tr>\n    <tr>\n      <th>1</th>\n      <td>sms</td>\n      <td>0</td>\n      <td>05:25.0</td>\n      <td>0</td>\n      <td>7a54a6eaee19e65</td>\n      <td>93343ba6e41af95</td>\n      <td>19e2e</td>\n      <td>19e2e</td>\n      <td>/+cKZKIp41</td>\n      <td>/+cKZKIp41</td>\n    </tr>\n    <tr>\n      <th>2</th>\n      <td>sms</td>\n      <td>25</td>\n      <td>05:41.0</td>\n      <td>0</td>\n      <td>6008887b0207d82</td>\n      <td>7aacc9709ce0a20</td>\n      <td>19e2e</td>\n      <td>19e2e</td>\n      <td>/u0FSD+ahi</td>\n      <td>/u0FSD+ahi</td>\n    </tr>\n    <tr>\n      <th>3</th>\n      <td>Voice</td>\n      <td>56</td>\n      <td>05:42.0</td>\n      <td>1</td>\n      <td>7370032e20f4e96</td>\n      <td>6af4a60e74c91d3</td>\n      <td>19e2e</td>\n      <td>19e2e</td>\n      <td>#NAME?</td>\n      <td>#NAME?</td>\n    </tr>\n    <tr>\n      <th>4</th>\n      <td>Voice</td>\n      <td>14</td>\n      <td>06:29.0</td>\n      <td>1</td>\n      <td>966ba4656e38e62</td>\n      <td>02aa736ee555d5c</td>\n      <td>19e2e</td>\n      <td>19e2e</td>\n      <td>051KhYDCpv</td>\n      <td>051KhYDCpv</td>\n    </tr>\n  </tbody>\n</table>\n</div>"
     },
     "metadata": {},
     "execution_count": 60
    }
   ],
   "source": [
    "concatenated.head()"
   ]
  },
  {
   "cell_type": "code",
   "execution_count": 61,
   "metadata": {},
   "outputs": [
    {
     "output_type": "execute_result",
     "data": {
      "text/plain": [
       "        Unnamed: 0    LONGITUDE     LATITUDE\n",
       "count  3974.000000  3974.000000  3974.000000\n",
       "mean   1986.500000    -4.877659     6.244749\n",
       "std    1147.339313     1.300771     1.304199\n",
       "min       0.000000    -8.503889     0.000000\n",
       "25%     993.250000    -5.846139     5.338639\n",
       "50%    1986.500000    -4.084500     5.475000\n",
       "75%    2979.750000    -3.993444     6.872306\n",
       "max    3973.000000    -0.000000    10.481861"
      ],
      "text/html": "<div>\n<style scoped>\n    .dataframe tbody tr th:only-of-type {\n        vertical-align: middle;\n    }\n\n    .dataframe tbody tr th {\n        vertical-align: top;\n    }\n\n    .dataframe thead th {\n        text-align: right;\n    }\n</style>\n<table border=\"1\" class=\"dataframe\">\n  <thead>\n    <tr style=\"text-align: right;\">\n      <th></th>\n      <th>Unnamed: 0</th>\n      <th>LONGITUDE</th>\n      <th>LATITUDE</th>\n    </tr>\n  </thead>\n  <tbody>\n    <tr>\n      <th>count</th>\n      <td>3974.000000</td>\n      <td>3974.000000</td>\n      <td>3974.000000</td>\n    </tr>\n    <tr>\n      <th>mean</th>\n      <td>1986.500000</td>\n      <td>-4.877659</td>\n      <td>6.244749</td>\n    </tr>\n    <tr>\n      <th>std</th>\n      <td>1147.339313</td>\n      <td>1.300771</td>\n      <td>1.304199</td>\n    </tr>\n    <tr>\n      <th>min</th>\n      <td>0.000000</td>\n      <td>-8.503889</td>\n      <td>0.000000</td>\n    </tr>\n    <tr>\n      <th>25%</th>\n      <td>993.250000</td>\n      <td>-5.846139</td>\n      <td>5.338639</td>\n    </tr>\n    <tr>\n      <th>50%</th>\n      <td>1986.500000</td>\n      <td>-4.084500</td>\n      <td>5.475000</td>\n    </tr>\n    <tr>\n      <th>75%</th>\n      <td>2979.750000</td>\n      <td>-3.993444</td>\n      <td>6.872306</td>\n    </tr>\n    <tr>\n      <th>max</th>\n      <td>3973.000000</td>\n      <td>-0.000000</td>\n      <td>10.481861</td>\n    </tr>\n  </tbody>\n</table>\n</div>"
     },
     "metadata": {},
     "execution_count": 61
    }
   ],
   "source": [
    "data_6.describe()"
   ]
  },
  {
   "cell_type": "code",
   "execution_count": 62,
   "metadata": {},
   "outputs": [],
   "source": [
    "# Checking the total rows with missing data in the concatenated datasets\n",
    "concatenated.isnull().sum()\n",
    "# Dropping rows that contain missing data\n",
    "concatenatedf= concatenated.dropna()"
   ]
  },
  {
   "cell_type": "code",
   "execution_count": 34,
   "metadata": {},
   "outputs": [
    {
     "output_type": "execute_result",
     "data": {
      "text/plain": [
       "         Unnamed: 0      STATUS LOCALISATION    DECOUPZONE  ZONENAME  \\\n",
       "VILLES                                                                 \n",
       "ADJAME            0  In Service      ABIDJAN  \"Abidjan_EST  AGBANNEW   \n",
       "ADJAME            1  In Service      ABIDJAN  \"Abidjan_EST  AGBANNEW   \n",
       "ADJAME            2  In Service      ABIDJAN  \"Abidjan_EST  AGBANNEW   \n",
       "ASSINIE           3  In Service    INTERIEUR     Grand-EST  ASSINIE\"   \n",
       "ASSINIE           4  In Service    INTERIEUR     Grand-EST  ASSINIE\"   \n",
       "\n",
       "         LONGITUDE  LATITUDE     REGION AREA     CELL_ID   SITE_CODE  \n",
       "VILLES                                                                \n",
       "ADJAME   -4.000667  5.368194     LAGUNE  NaN  fbb2e75af3  0bb492ef17  \n",
       "ADJAME   -4.000667  5.368194     LAGUNE  NaN  1502501d78  0bb492ef17  \n",
       "ADJAME   -4.000667  5.368194     LAGUNE  NaN  0c2e182a0c  0bb492ef17  \n",
       "ASSINIE  -3.488467  5.158761  SUD COMOE  NaN  69bdfc69fd  8a1e6ce31f  \n",
       "ASSINIE  -3.488467  5.158761  SUD COMOE  NaN  7a1029d2ab  8a1e6ce31f  "
      ],
      "text/html": "<div>\n<style scoped>\n    .dataframe tbody tr th:only-of-type {\n        vertical-align: middle;\n    }\n\n    .dataframe tbody tr th {\n        vertical-align: top;\n    }\n\n    .dataframe thead th {\n        text-align: right;\n    }\n</style>\n<table border=\"1\" class=\"dataframe\">\n  <thead>\n    <tr style=\"text-align: right;\">\n      <th></th>\n      <th>Unnamed: 0</th>\n      <th>STATUS</th>\n      <th>LOCALISATION</th>\n      <th>DECOUPZONE</th>\n      <th>ZONENAME</th>\n      <th>LONGITUDE</th>\n      <th>LATITUDE</th>\n      <th>REGION</th>\n      <th>AREA</th>\n      <th>CELL_ID</th>\n      <th>SITE_CODE</th>\n    </tr>\n    <tr>\n      <th>VILLES</th>\n      <th></th>\n      <th></th>\n      <th></th>\n      <th></th>\n      <th></th>\n      <th></th>\n      <th></th>\n      <th></th>\n      <th></th>\n      <th></th>\n      <th></th>\n    </tr>\n  </thead>\n  <tbody>\n    <tr>\n      <th>ADJAME</th>\n      <td>0</td>\n      <td>In Service</td>\n      <td>ABIDJAN</td>\n      <td>\"Abidjan_EST</td>\n      <td>AGBANNEW</td>\n      <td>-4.000667</td>\n      <td>5.368194</td>\n      <td>LAGUNE</td>\n      <td>NaN</td>\n      <td>fbb2e75af3</td>\n      <td>0bb492ef17</td>\n    </tr>\n    <tr>\n      <th>ADJAME</th>\n      <td>1</td>\n      <td>In Service</td>\n      <td>ABIDJAN</td>\n      <td>\"Abidjan_EST</td>\n      <td>AGBANNEW</td>\n      <td>-4.000667</td>\n      <td>5.368194</td>\n      <td>LAGUNE</td>\n      <td>NaN</td>\n      <td>1502501d78</td>\n      <td>0bb492ef17</td>\n    </tr>\n    <tr>\n      <th>ADJAME</th>\n      <td>2</td>\n      <td>In Service</td>\n      <td>ABIDJAN</td>\n      <td>\"Abidjan_EST</td>\n      <td>AGBANNEW</td>\n      <td>-4.000667</td>\n      <td>5.368194</td>\n      <td>LAGUNE</td>\n      <td>NaN</td>\n      <td>0c2e182a0c</td>\n      <td>0bb492ef17</td>\n    </tr>\n    <tr>\n      <th>ASSINIE</th>\n      <td>3</td>\n      <td>In Service</td>\n      <td>INTERIEUR</td>\n      <td>Grand-EST</td>\n      <td>ASSINIE\"</td>\n      <td>-3.488467</td>\n      <td>5.158761</td>\n      <td>SUD COMOE</td>\n      <td>NaN</td>\n      <td>69bdfc69fd</td>\n      <td>8a1e6ce31f</td>\n    </tr>\n    <tr>\n      <th>ASSINIE</th>\n      <td>4</td>\n      <td>In Service</td>\n      <td>INTERIEUR</td>\n      <td>Grand-EST</td>\n      <td>ASSINIE\"</td>\n      <td>-3.488467</td>\n      <td>5.158761</td>\n      <td>SUD COMOE</td>\n      <td>NaN</td>\n      <td>7a1029d2ab</td>\n      <td>8a1e6ce31f</td>\n    </tr>\n  </tbody>\n</table>\n</div>"
     },
     "metadata": {},
     "execution_count": 34
    }
   ],
   "source": [
    "data_6.head()"
   ]
  },
  {
   "cell_type": "code",
   "execution_count": 63,
   "metadata": {},
   "outputs": [
    {
     "output_type": "execute_result",
     "data": {
      "text/plain": [
       "         Unnamed: 0      STATUS LOCALISATION    DECOUPZONE  ZONENAME  \\\n",
       "VILLES                                                                 \n",
       "ADJAME            0  In Service      ABIDJAN  \"Abidjan_EST  AGBANNEW   \n",
       "ADJAME            1  In Service      ABIDJAN  \"Abidjan_EST  AGBANNEW   \n",
       "ADJAME            2  In Service      ABIDJAN  \"Abidjan_EST  AGBANNEW   \n",
       "ASSINIE           3  In Service    INTERIEUR     Grand-EST  ASSINIE\"   \n",
       "ASSINIE           4  In Service    INTERIEUR     Grand-EST  ASSINIE\"   \n",
       "\n",
       "         LONGITUDE  LATITUDE     REGION AREA     CELL_ID     SITE_ID  \n",
       "VILLES                                                                \n",
       "ADJAME   -4.000667  5.368194     LAGUNE  NaN  fbb2e75af3  0bb492ef17  \n",
       "ADJAME   -4.000667  5.368194     LAGUNE  NaN  1502501d78  0bb492ef17  \n",
       "ADJAME   -4.000667  5.368194     LAGUNE  NaN  0c2e182a0c  0bb492ef17  \n",
       "ASSINIE  -3.488467  5.158761  SUD COMOE  NaN  69bdfc69fd  8a1e6ce31f  \n",
       "ASSINIE  -3.488467  5.158761  SUD COMOE  NaN  7a1029d2ab  8a1e6ce31f  "
      ],
      "text/html": "<div>\n<style scoped>\n    .dataframe tbody tr th:only-of-type {\n        vertical-align: middle;\n    }\n\n    .dataframe tbody tr th {\n        vertical-align: top;\n    }\n\n    .dataframe thead th {\n        text-align: right;\n    }\n</style>\n<table border=\"1\" class=\"dataframe\">\n  <thead>\n    <tr style=\"text-align: right;\">\n      <th></th>\n      <th>Unnamed: 0</th>\n      <th>STATUS</th>\n      <th>LOCALISATION</th>\n      <th>DECOUPZONE</th>\n      <th>ZONENAME</th>\n      <th>LONGITUDE</th>\n      <th>LATITUDE</th>\n      <th>REGION</th>\n      <th>AREA</th>\n      <th>CELL_ID</th>\n      <th>SITE_ID</th>\n    </tr>\n    <tr>\n      <th>VILLES</th>\n      <th></th>\n      <th></th>\n      <th></th>\n      <th></th>\n      <th></th>\n      <th></th>\n      <th></th>\n      <th></th>\n      <th></th>\n      <th></th>\n      <th></th>\n    </tr>\n  </thead>\n  <tbody>\n    <tr>\n      <th>ADJAME</th>\n      <td>0</td>\n      <td>In Service</td>\n      <td>ABIDJAN</td>\n      <td>\"Abidjan_EST</td>\n      <td>AGBANNEW</td>\n      <td>-4.000667</td>\n      <td>5.368194</td>\n      <td>LAGUNE</td>\n      <td>NaN</td>\n      <td>fbb2e75af3</td>\n      <td>0bb492ef17</td>\n    </tr>\n    <tr>\n      <th>ADJAME</th>\n      <td>1</td>\n      <td>In Service</td>\n      <td>ABIDJAN</td>\n      <td>\"Abidjan_EST</td>\n      <td>AGBANNEW</td>\n      <td>-4.000667</td>\n      <td>5.368194</td>\n      <td>LAGUNE</td>\n      <td>NaN</td>\n      <td>1502501d78</td>\n      <td>0bb492ef17</td>\n    </tr>\n    <tr>\n      <th>ADJAME</th>\n      <td>2</td>\n      <td>In Service</td>\n      <td>ABIDJAN</td>\n      <td>\"Abidjan_EST</td>\n      <td>AGBANNEW</td>\n      <td>-4.000667</td>\n      <td>5.368194</td>\n      <td>LAGUNE</td>\n      <td>NaN</td>\n      <td>0c2e182a0c</td>\n      <td>0bb492ef17</td>\n    </tr>\n    <tr>\n      <th>ASSINIE</th>\n      <td>3</td>\n      <td>In Service</td>\n      <td>INTERIEUR</td>\n      <td>Grand-EST</td>\n      <td>ASSINIE\"</td>\n      <td>-3.488467</td>\n      <td>5.158761</td>\n      <td>SUD COMOE</td>\n      <td>NaN</td>\n      <td>69bdfc69fd</td>\n      <td>8a1e6ce31f</td>\n    </tr>\n    <tr>\n      <th>ASSINIE</th>\n      <td>4</td>\n      <td>In Service</td>\n      <td>INTERIEUR</td>\n      <td>Grand-EST</td>\n      <td>ASSINIE\"</td>\n      <td>-3.488467</td>\n      <td>5.158761</td>\n      <td>SUD COMOE</td>\n      <td>NaN</td>\n      <td>7a1029d2ab</td>\n      <td>8a1e6ce31f</td>\n    </tr>\n  </tbody>\n</table>\n</div>"
     },
     "metadata": {},
     "execution_count": 63
    }
   ],
   "source": [
    "# Change column site code to site id\n",
    "data_6d = data_6.rename(columns={\"SITE_CODE\": \"SITE_ID\"})\n",
    "data_6d.head()"
   ]
  },
  {
   "cell_type": "code",
   "execution_count": 64,
   "metadata": {},
   "outputs": [],
   "source": [
    "# Find the total missing values in dataset 6d\n",
    "data_6d.isnull().sum()\n",
    "# Dropping rows that contain missing data\n",
    "data_6a= data_6d.dropna()"
   ]
  },
  {
   "cell_type": "code",
   "execution_count": 65,
   "metadata": {},
   "outputs": [
    {
     "output_type": "execute_result",
     "data": {
      "text/plain": [
       "        Unnamed: 0      STATUS LOCALISATION    DECOUPZONE  \\\n",
       "VILLES                                                      \n",
       "ABOBO           23  In Service      ABIDJAN  Abidjan_NORD   \n",
       "ABOBO           24  In Service      ABIDJAN  Abidjan_NORD   \n",
       "ABOBO           25  In Service      ABIDJAN  Abidjan_NORD   \n",
       "ABOBO           26  In Service      ABIDJAN  Abidjan_NORD   \n",
       "ABOBO           27  In Service      ABIDJAN  Abidjan_NORD   \n",
       "\n",
       "                     ZONENAME  LONGITUDE  LATITUDE  REGION           AREA  \\\n",
       "VILLES                                                                      \n",
       "ABOBO   ZONE E - Abidjan_NORD  -4.014139    5.4335  LAGUNE  ABIDJAN NORTH   \n",
       "ABOBO   ZONE E - Abidjan_NORD  -4.014139    5.4335  LAGUNE  ABIDJAN NORTH   \n",
       "ABOBO   ZONE E - Abidjan_NORD  -4.014139    5.4335  LAGUNE  ABIDJAN NORTH   \n",
       "ABOBO   ZONE E - Abidjan_NORD  -4.014139    5.4335  LAGUNE  ABIDJAN NORTH   \n",
       "ABOBO   ZONE E - Abidjan_NORD  -4.014139    5.4335  LAGUNE  ABIDJAN NORTH   \n",
       "\n",
       "           CELL_ID     SITE_ID  \n",
       "VILLES                          \n",
       "ABOBO   f740406877  0f34c36ac5  \n",
       "ABOBO   959e54c8f7  0f34c36ac5  \n",
       "ABOBO   56b7e7000c  0f34c36ac5  \n",
       "ABOBO   bc51c17a6f  0f34c36ac5  \n",
       "ABOBO   e460975c9f  0f34c36ac5  "
      ],
      "text/html": "<div>\n<style scoped>\n    .dataframe tbody tr th:only-of-type {\n        vertical-align: middle;\n    }\n\n    .dataframe tbody tr th {\n        vertical-align: top;\n    }\n\n    .dataframe thead th {\n        text-align: right;\n    }\n</style>\n<table border=\"1\" class=\"dataframe\">\n  <thead>\n    <tr style=\"text-align: right;\">\n      <th></th>\n      <th>Unnamed: 0</th>\n      <th>STATUS</th>\n      <th>LOCALISATION</th>\n      <th>DECOUPZONE</th>\n      <th>ZONENAME</th>\n      <th>LONGITUDE</th>\n      <th>LATITUDE</th>\n      <th>REGION</th>\n      <th>AREA</th>\n      <th>CELL_ID</th>\n      <th>SITE_ID</th>\n    </tr>\n    <tr>\n      <th>VILLES</th>\n      <th></th>\n      <th></th>\n      <th></th>\n      <th></th>\n      <th></th>\n      <th></th>\n      <th></th>\n      <th></th>\n      <th></th>\n      <th></th>\n      <th></th>\n    </tr>\n  </thead>\n  <tbody>\n    <tr>\n      <th>ABOBO</th>\n      <td>23</td>\n      <td>In Service</td>\n      <td>ABIDJAN</td>\n      <td>Abidjan_NORD</td>\n      <td>ZONE E - Abidjan_NORD</td>\n      <td>-4.014139</td>\n      <td>5.4335</td>\n      <td>LAGUNE</td>\n      <td>ABIDJAN NORTH</td>\n      <td>f740406877</td>\n      <td>0f34c36ac5</td>\n    </tr>\n    <tr>\n      <th>ABOBO</th>\n      <td>24</td>\n      <td>In Service</td>\n      <td>ABIDJAN</td>\n      <td>Abidjan_NORD</td>\n      <td>ZONE E - Abidjan_NORD</td>\n      <td>-4.014139</td>\n      <td>5.4335</td>\n      <td>LAGUNE</td>\n      <td>ABIDJAN NORTH</td>\n      <td>959e54c8f7</td>\n      <td>0f34c36ac5</td>\n    </tr>\n    <tr>\n      <th>ABOBO</th>\n      <td>25</td>\n      <td>In Service</td>\n      <td>ABIDJAN</td>\n      <td>Abidjan_NORD</td>\n      <td>ZONE E - Abidjan_NORD</td>\n      <td>-4.014139</td>\n      <td>5.4335</td>\n      <td>LAGUNE</td>\n      <td>ABIDJAN NORTH</td>\n      <td>56b7e7000c</td>\n      <td>0f34c36ac5</td>\n    </tr>\n    <tr>\n      <th>ABOBO</th>\n      <td>26</td>\n      <td>In Service</td>\n      <td>ABIDJAN</td>\n      <td>Abidjan_NORD</td>\n      <td>ZONE E - Abidjan_NORD</td>\n      <td>-4.014139</td>\n      <td>5.4335</td>\n      <td>LAGUNE</td>\n      <td>ABIDJAN NORTH</td>\n      <td>bc51c17a6f</td>\n      <td>0f34c36ac5</td>\n    </tr>\n    <tr>\n      <th>ABOBO</th>\n      <td>27</td>\n      <td>In Service</td>\n      <td>ABIDJAN</td>\n      <td>Abidjan_NORD</td>\n      <td>ZONE E - Abidjan_NORD</td>\n      <td>-4.014139</td>\n      <td>5.4335</td>\n      <td>LAGUNE</td>\n      <td>ABIDJAN NORTH</td>\n      <td>e460975c9f</td>\n      <td>0f34c36ac5</td>\n    </tr>\n  </tbody>\n</table>\n</div>"
     },
     "metadata": {},
     "execution_count": 65
    }
   ],
   "source": [
    "# Remove duplicate values\n",
    "data_6a.duplicated().sum()\n",
    "data_6a2 = data_6a.drop_duplicates()\n",
    "data_6a2.head()"
   ]
  },
  {
   "cell_type": "code",
   "execution_count": 66,
   "metadata": {},
   "outputs": [
    {
     "output_type": "execute_result",
     "data": {
      "text/plain": [
       "  PRODUCT  VALUE DATE_TIME CELL_ON_SITE  DW_A_NUMBER_INT  DW_B_NUMBER_INT  \\\n",
       "0   Voice      0   04:37.0            1  49fae048b547780  1a49f8b0ded9de6   \n",
       "1     sms      0   05:25.0            0  7a54a6eaee19e65  93343ba6e41af95   \n",
       "2     sms     25   05:41.0            0  6008887b0207d82  7aacc9709ce0a20   \n",
       "3   Voice     56   05:42.0            1  7370032e20f4e96  6af4a60e74c91d3   \n",
       "4   Voice     14   06:29.0            1  966ba4656e38e62  02aa736ee555d5c   \n",
       "\n",
       "  COUNTRY_A COUNTRY_B     CELL_ID     SITE_ID  \n",
       "0     19e2e     19e2e  /TJNe+Mmtu  /TJNe+Mmtu  \n",
       "1     19e2e     19e2e  /+cKZKIp41  /+cKZKIp41  \n",
       "2     19e2e     19e2e  /u0FSD+ahi  /u0FSD+ahi  \n",
       "3     19e2e     19e2e      #NAME?      #NAME?  \n",
       "4     19e2e     19e2e  051KhYDCpv  051KhYDCpv  "
      ],
      "text/html": "<div>\n<style scoped>\n    .dataframe tbody tr th:only-of-type {\n        vertical-align: middle;\n    }\n\n    .dataframe tbody tr th {\n        vertical-align: top;\n    }\n\n    .dataframe thead th {\n        text-align: right;\n    }\n</style>\n<table border=\"1\" class=\"dataframe\">\n  <thead>\n    <tr style=\"text-align: right;\">\n      <th></th>\n      <th>PRODUCT</th>\n      <th>VALUE</th>\n      <th>DATE_TIME</th>\n      <th>CELL_ON_SITE</th>\n      <th>DW_A_NUMBER_INT</th>\n      <th>DW_B_NUMBER_INT</th>\n      <th>COUNTRY_A</th>\n      <th>COUNTRY_B</th>\n      <th>CELL_ID</th>\n      <th>SITE_ID</th>\n    </tr>\n  </thead>\n  <tbody>\n    <tr>\n      <th>0</th>\n      <td>Voice</td>\n      <td>0</td>\n      <td>04:37.0</td>\n      <td>1</td>\n      <td>49fae048b547780</td>\n      <td>1a49f8b0ded9de6</td>\n      <td>19e2e</td>\n      <td>19e2e</td>\n      <td>/TJNe+Mmtu</td>\n      <td>/TJNe+Mmtu</td>\n    </tr>\n    <tr>\n      <th>1</th>\n      <td>sms</td>\n      <td>0</td>\n      <td>05:25.0</td>\n      <td>0</td>\n      <td>7a54a6eaee19e65</td>\n      <td>93343ba6e41af95</td>\n      <td>19e2e</td>\n      <td>19e2e</td>\n      <td>/+cKZKIp41</td>\n      <td>/+cKZKIp41</td>\n    </tr>\n    <tr>\n      <th>2</th>\n      <td>sms</td>\n      <td>25</td>\n      <td>05:41.0</td>\n      <td>0</td>\n      <td>6008887b0207d82</td>\n      <td>7aacc9709ce0a20</td>\n      <td>19e2e</td>\n      <td>19e2e</td>\n      <td>/u0FSD+ahi</td>\n      <td>/u0FSD+ahi</td>\n    </tr>\n    <tr>\n      <th>3</th>\n      <td>Voice</td>\n      <td>56</td>\n      <td>05:42.0</td>\n      <td>1</td>\n      <td>7370032e20f4e96</td>\n      <td>6af4a60e74c91d3</td>\n      <td>19e2e</td>\n      <td>19e2e</td>\n      <td>#NAME?</td>\n      <td>#NAME?</td>\n    </tr>\n    <tr>\n      <th>4</th>\n      <td>Voice</td>\n      <td>14</td>\n      <td>06:29.0</td>\n      <td>1</td>\n      <td>966ba4656e38e62</td>\n      <td>02aa736ee555d5c</td>\n      <td>19e2e</td>\n      <td>19e2e</td>\n      <td>051KhYDCpv</td>\n      <td>051KhYDCpv</td>\n    </tr>\n  </tbody>\n</table>\n</div>"
     },
     "metadata": {},
     "execution_count": 66
    }
   ],
   "source": [
    "# Find and remove duplicates in concatenatedf dataset\n",
    "concatenatedf.duplicated().sum()\n",
    "final_1 = concatenatedf.drop_duplicates()\n",
    "final_1.head()"
   ]
  },
  {
   "cell_type": "code",
   "execution_count": 68,
   "metadata": {},
   "outputs": [
    {
     "output_type": "execute_result",
     "data": {
      "text/plain": [
       "False"
      ]
     },
     "metadata": {},
     "execution_count": 68
    }
   ],
   "source": [
    "# Checking if my final_1 dataset has any null values\n",
    "final_1.isnull().values.any()"
   ]
  },
  {
   "cell_type": "code",
   "execution_count": 69,
   "metadata": {},
   "outputs": [
    {
     "output_type": "execute_result",
     "data": {
      "text/plain": [
       "False"
      ]
     },
     "metadata": {},
     "execution_count": 69
    }
   ],
   "source": [
    "# Checking if my data_6a2 dataset has any null values\n",
    "data_6a2.isnull().values.any()"
   ]
  },
  {
   "cell_type": "code",
   "execution_count": 71,
   "metadata": {},
   "outputs": [
    {
     "output_type": "execute_result",
     "data": {
      "text/plain": [
       "     PRODUCT  VALUE DATE_TIME CELL_ON_SITE  DW_A_NUMBER_INT  DW_B_NUMBER_INT  \\\n",
       "0      Voice      0   04:37.0            1  49fae048b547780  1a49f8b0ded9de6   \n",
       "1        sms      0   05:25.0            0  7a54a6eaee19e65  93343ba6e41af95   \n",
       "2        sms     25   05:41.0            0  6008887b0207d82  7aacc9709ce0a20   \n",
       "3      Voice     56   05:42.0            1  7370032e20f4e96  6af4a60e74c91d3   \n",
       "4      Voice     14   06:29.0            1  966ba4656e38e62  02aa736ee555d5c   \n",
       "...      ...    ...       ...          ...              ...              ...   \n",
       "4995   Voice     10   01:43.0            0  2f834987f0c1825  accc8e5c1164343   \n",
       "4996   Voice      0   01:43.0            3  467333ade2b4b9c  0ab2acd804d01fe   \n",
       "4997   Voice     62   01:43.0            1  e077a6b74c5053c  4c8098eb6ea1a41   \n",
       "4999   Voice     30   01:43.0            2  672ce74c418aa7a  f9ff5af59cf0d68   \n",
       "5000   Voice     60   01:43.0            2  6edeb4c55714650  7e60838216482a7   \n",
       "\n",
       "     COUNTRY_A COUNTRY_B     CELL_ID     SITE_ID  \n",
       "0        19e2e     19e2e  /TJNe+Mmtu  /TJNe+Mmtu  \n",
       "1        19e2e     19e2e  /+cKZKIp41  /+cKZKIp41  \n",
       "2        19e2e     19e2e  /u0FSD+ahi  /u0FSD+ahi  \n",
       "3        19e2e     19e2e      #NAME?      #NAME?  \n",
       "4        19e2e     19e2e  051KhYDCpv  051KhYDCpv  \n",
       "...        ...       ...         ...         ...  \n",
       "4995     19e2e     OTHER  6467daa1db  8a96bae9c1  \n",
       "4996     19e2e     19e2e  2aa04dcab7  f7d63a29e5  \n",
       "4997     19e2e     19e2e  7f1f2f889f  b4ddb9e93c  \n",
       "4999     19e2e     19e2e  98ed726da2  b4130b54ab  \n",
       "5000     19e2e     19e2e  1c11a2fcbb  6d70dae094  \n",
       "\n",
       "[12775 rows x 10 columns]"
      ],
      "text/html": "<div>\n<style scoped>\n    .dataframe tbody tr th:only-of-type {\n        vertical-align: middle;\n    }\n\n    .dataframe tbody tr th {\n        vertical-align: top;\n    }\n\n    .dataframe thead th {\n        text-align: right;\n    }\n</style>\n<table border=\"1\" class=\"dataframe\">\n  <thead>\n    <tr style=\"text-align: right;\">\n      <th></th>\n      <th>PRODUCT</th>\n      <th>VALUE</th>\n      <th>DATE_TIME</th>\n      <th>CELL_ON_SITE</th>\n      <th>DW_A_NUMBER_INT</th>\n      <th>DW_B_NUMBER_INT</th>\n      <th>COUNTRY_A</th>\n      <th>COUNTRY_B</th>\n      <th>CELL_ID</th>\n      <th>SITE_ID</th>\n    </tr>\n  </thead>\n  <tbody>\n    <tr>\n      <th>0</th>\n      <td>Voice</td>\n      <td>0</td>\n      <td>04:37.0</td>\n      <td>1</td>\n      <td>49fae048b547780</td>\n      <td>1a49f8b0ded9de6</td>\n      <td>19e2e</td>\n      <td>19e2e</td>\n      <td>/TJNe+Mmtu</td>\n      <td>/TJNe+Mmtu</td>\n    </tr>\n    <tr>\n      <th>1</th>\n      <td>sms</td>\n      <td>0</td>\n      <td>05:25.0</td>\n      <td>0</td>\n      <td>7a54a6eaee19e65</td>\n      <td>93343ba6e41af95</td>\n      <td>19e2e</td>\n      <td>19e2e</td>\n      <td>/+cKZKIp41</td>\n      <td>/+cKZKIp41</td>\n    </tr>\n    <tr>\n      <th>2</th>\n      <td>sms</td>\n      <td>25</td>\n      <td>05:41.0</td>\n      <td>0</td>\n      <td>6008887b0207d82</td>\n      <td>7aacc9709ce0a20</td>\n      <td>19e2e</td>\n      <td>19e2e</td>\n      <td>/u0FSD+ahi</td>\n      <td>/u0FSD+ahi</td>\n    </tr>\n    <tr>\n      <th>3</th>\n      <td>Voice</td>\n      <td>56</td>\n      <td>05:42.0</td>\n      <td>1</td>\n      <td>7370032e20f4e96</td>\n      <td>6af4a60e74c91d3</td>\n      <td>19e2e</td>\n      <td>19e2e</td>\n      <td>#NAME?</td>\n      <td>#NAME?</td>\n    </tr>\n    <tr>\n      <th>4</th>\n      <td>Voice</td>\n      <td>14</td>\n      <td>06:29.0</td>\n      <td>1</td>\n      <td>966ba4656e38e62</td>\n      <td>02aa736ee555d5c</td>\n      <td>19e2e</td>\n      <td>19e2e</td>\n      <td>051KhYDCpv</td>\n      <td>051KhYDCpv</td>\n    </tr>\n    <tr>\n      <th>...</th>\n      <td>...</td>\n      <td>...</td>\n      <td>...</td>\n      <td>...</td>\n      <td>...</td>\n      <td>...</td>\n      <td>...</td>\n      <td>...</td>\n      <td>...</td>\n      <td>...</td>\n    </tr>\n    <tr>\n      <th>4995</th>\n      <td>Voice</td>\n      <td>10</td>\n      <td>01:43.0</td>\n      <td>0</td>\n      <td>2f834987f0c1825</td>\n      <td>accc8e5c1164343</td>\n      <td>19e2e</td>\n      <td>OTHER</td>\n      <td>6467daa1db</td>\n      <td>8a96bae9c1</td>\n    </tr>\n    <tr>\n      <th>4996</th>\n      <td>Voice</td>\n      <td>0</td>\n      <td>01:43.0</td>\n      <td>3</td>\n      <td>467333ade2b4b9c</td>\n      <td>0ab2acd804d01fe</td>\n      <td>19e2e</td>\n      <td>19e2e</td>\n      <td>2aa04dcab7</td>\n      <td>f7d63a29e5</td>\n    </tr>\n    <tr>\n      <th>4997</th>\n      <td>Voice</td>\n      <td>62</td>\n      <td>01:43.0</td>\n      <td>1</td>\n      <td>e077a6b74c5053c</td>\n      <td>4c8098eb6ea1a41</td>\n      <td>19e2e</td>\n      <td>19e2e</td>\n      <td>7f1f2f889f</td>\n      <td>b4ddb9e93c</td>\n    </tr>\n    <tr>\n      <th>4999</th>\n      <td>Voice</td>\n      <td>30</td>\n      <td>01:43.0</td>\n      <td>2</td>\n      <td>672ce74c418aa7a</td>\n      <td>f9ff5af59cf0d68</td>\n      <td>19e2e</td>\n      <td>19e2e</td>\n      <td>98ed726da2</td>\n      <td>b4130b54ab</td>\n    </tr>\n    <tr>\n      <th>5000</th>\n      <td>Voice</td>\n      <td>60</td>\n      <td>01:43.0</td>\n      <td>2</td>\n      <td>6edeb4c55714650</td>\n      <td>7e60838216482a7</td>\n      <td>19e2e</td>\n      <td>19e2e</td>\n      <td>1c11a2fcbb</td>\n      <td>6d70dae094</td>\n    </tr>\n  </tbody>\n</table>\n<p>12775 rows × 10 columns</p>\n</div>"
     },
     "metadata": {},
     "execution_count": 71
    }
   ],
   "source": [
    "# Drop columns on final_1 dataset\n",
    "df=final_1.drop(columns=['DW_A_NUMBER_INT', 'DW_B_NUMBER_INT'])\n",
    "df"
   ]
  },
  {
   "cell_type": "code",
   "execution_count": null,
   "metadata": {},
   "outputs": [],
   "source": []
  },
  {
   "cell_type": "code",
   "execution_count": 87,
   "metadata": {},
   "outputs": [],
   "source": [
    "# Most used city in the three days\n"
   ]
  },
  {
   "cell_type": "code",
   "execution_count": null,
   "metadata": {},
   "outputs": [],
   "source": [
    "# Cities most used during business and home hours"
   ]
  },
  {
   "cell_type": "code",
   "execution_count": null,
   "metadata": {},
   "outputs": [],
   "source": []
  }
 ]
}