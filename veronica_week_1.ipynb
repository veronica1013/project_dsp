{
  "nbformat": 4,
  "nbformat_minor": 0,
  "metadata": {
    "colab": {
      "name": "Attempt.ipynb",
      "provenance": [],
      "collapsed_sections": [],
      "toc_visible": true,
      "authorship_tag": "ABX9TyMbRcbmTigjAThNDO9DxT94",
      "include_colab_link": true
    },
    "kernelspec": {
      "name": "python3",
      "display_name": "Python 3"
    }
  },
  "cells": [
    {
      "cell_type": "markdown",
      "metadata": {
        "id": "view-in-github",
        "colab_type": "text"
      },
      "source": [
        "<a href=\"https://colab.research.google.com/github/veronica1013/project_dsp/blob/main/veronica_week_1.ipynb\" target=\"_parent\"><img src=\"https://colab.research.google.com/assets/colab-badge.svg\" alt=\"Open In Colab\"/></a>"
      ]
    },
    {
      "cell_type": "code",
      "metadata": {
        "id": "UgBIHyCJXyEi",
        "colab": {
          "base_uri": "https://localhost:8080/"
        },
        "outputId": "d25311b6-5d67-4c04-99dd-c85f398b6152"
      },
      "source": [
        "%load_ext sql"
      ],
      "execution_count": 6,
      "outputs": [
        {
          "output_type": "stream",
          "text": [
            "The sql extension is already loaded. To reload it, use:\n",
            "  %reload_ext sql\n"
          ],
          "name": "stdout"
        }
      ]
    },
    {
      "cell_type": "code",
      "metadata": {
        "colab": {
          "base_uri": "https://localhost:8080/",
          "height": 35
        },
        "id": "32d6nJRWYBi3",
        "outputId": "ca0ef1c4-cd40-4c72-fa99-e8eda6f52a39"
      },
      "source": [
        "%sql sqlite://"
      ],
      "execution_count": 7,
      "outputs": [
        {
          "output_type": "execute_result",
          "data": {
            "application/vnd.google.colaboratory.intrinsic+json": {
              "type": "string"
            },
            "text/plain": [
              "'Connected: @None'"
            ]
          },
          "metadata": {
            "tags": []
          },
          "execution_count": 7
        }
      ]
    },
    {
      "cell_type": "code",
      "metadata": {
        "id": "zxXd9mb3YLFh"
      },
      "source": [
        "import csv"
      ],
      "execution_count": 8,
      "outputs": []
    },
    {
      "cell_type": "code",
      "metadata": {
        "id": "aa4LVtKtYQCl"
      },
      "source": [
        "import pandas as pd"
      ],
      "execution_count": 9,
      "outputs": []
    },
    {
      "cell_type": "code",
      "metadata": {
        "id": "qyAOxPmnYVHO"
      },
      "source": [
        "# Go to Colab drive, in the relevant file folder and\r\n",
        "#Click on the three dots to copy the file path then write below:\r\n",
        "Uganda = pd.read_csv('/content/Uganda_Subcounty_Crop_Yield.csv')\r\n"
      ],
      "execution_count": 10,
      "outputs": []
    },
    {
      "cell_type": "code",
      "metadata": {
        "id": "JD8KHoB9pHWo",
        "colab": {
          "base_uri": "https://localhost:8080/",
          "height": 88
        },
        "outputId": "35328e8d-06c6-4fac-b3ce-6c549ec6de41"
      },
      "source": [
        "%sql DROP TABLE if EXISTS Uganda;\r\n",
        "%sql PERSIST Uganda;"
      ],
      "execution_count": 11,
      "outputs": [
        {
          "output_type": "stream",
          "text": [
            " * sqlite://\n",
            "Done.\n",
            " * sqlite://\n"
          ],
          "name": "stdout"
        },
        {
          "output_type": "execute_result",
          "data": {
            "application/vnd.google.colaboratory.intrinsic+json": {
              "type": "string"
            },
            "text/plain": [
              "'Persisted uganda'"
            ]
          },
          "metadata": {
            "tags": []
          },
          "execution_count": 11
        }
      ]
    },
    {
      "cell_type": "code",
      "metadata": {
        "id": "ciyLvqBZcTch",
        "colab": {
          "base_uri": "https://localhost:8080/",
          "height": 216
        },
        "outputId": "451377ac-4d6f-4aef-f52a-6df3f6f41676"
      },
      "source": [
        "%%sql\r\n",
        "SELECT * FROM Uganda LIMIT 5;\r\n"
      ],
      "execution_count": 12,
      "outputs": [
        {
          "output_type": "stream",
          "text": [
            " * sqlite://\n",
            "Done.\n"
          ],
          "name": "stdout"
        },
        {
          "output_type": "execute_result",
          "data": {
            "text/html": [
              "<table>\n",
              "    <thead>\n",
              "        <tr>\n",
              "            <th>index</th>\n",
              "            <th>OBJECTID</th>\n",
              "            <th>SUBCOUNTY_NAME</th>\n",
              "            <th>DISTRICT_NAME</th>\n",
              "            <th>POP</th>\n",
              "            <th>Area</th>\n",
              "            <th>Karamoja</th>\n",
              "            <th>S_Yield_Ha</th>\n",
              "            <th>M_Yield_Ha</th>\n",
              "            <th>Crop_Area_Ha</th>\n",
              "            <th>S_Area_Ha</th>\n",
              "            <th>M_Area_Ha</th>\n",
              "            <th>S_Prod_Tot</th>\n",
              "            <th>M_Prod_Tot</th>\n",
              "        </tr>\n",
              "    </thead>\n",
              "    <tbody>\n",
              "        <tr>\n",
              "            <td>0</td>\n",
              "            <td>263</td>\n",
              "            <td>KACHERI</td>\n",
              "            <td>KOTIDO</td>\n",
              "            <td>17244</td>\n",
              "            <td>1067176155</td>\n",
              "            <td>Y</td>\n",
              "            <td>354.20741069999997</td>\n",
              "            <td>1137.467019</td>\n",
              "            <td>7023.533691</td>\n",
              "            <td>6434.342449</td>\n",
              "            <td>528.1242294</td>\n",
              "            <td>2279091.779</td>\n",
              "            <td>600723.8929</td>\n",
              "        </tr>\n",
              "        <tr>\n",
              "            <td>1</td>\n",
              "            <td>264</td>\n",
              "            <td>KOTIDO</td>\n",
              "            <td>KOTIDO</td>\n",
              "            <td>52771</td>\n",
              "            <td>597575188</td>\n",
              "            <td>Y</td>\n",
              "            <td>367.89052319999996</td>\n",
              "            <td>1162.9966869999998</td>\n",
              "            <td>13587.990759999999</td>\n",
              "            <td>12455.59264</td>\n",
              "            <td>824.7670809</td>\n",
              "            <td>4582294.492</td>\n",
              "            <td>959201.3825</td>\n",
              "        </tr>\n",
              "        <tr>\n",
              "            <td>2</td>\n",
              "            <td>265</td>\n",
              "            <td>KOTIDO TOWN COUNCIL</td>\n",
              "            <td>KOTIDO</td>\n",
              "            <td>27389</td>\n",
              "            <td>23972401</td>\n",
              "            <td>Y</td>\n",
              "            <td>369.3141771</td>\n",
              "            <td>1167.005832</td>\n",
              "            <td>1656.5318550000002</td>\n",
              "            <td>1520.322052</td>\n",
              "            <td>8.561643817</td>\n",
              "            <td>561476.4874</td>\n",
              "            <td>9991.488268000001</td>\n",
              "        </tr>\n",
              "        <tr>\n",
              "            <td>3</td>\n",
              "            <td>266</td>\n",
              "            <td>NAKAPERIMORU</td>\n",
              "            <td>KOTIDO</td>\n",
              "            <td>38775</td>\n",
              "            <td>419111591</td>\n",
              "            <td>Y</td>\n",
              "            <td>283.3245689</td>\n",
              "            <td>852.3665784</td>\n",
              "            <td>7087.823334000001</td>\n",
              "            <td>6761.488901000001</td>\n",
              "            <td>45.72171184</td>\n",
              "            <td>1915695.928</td>\n",
              "            <td>38971.65908</td>\n",
              "        </tr>\n",
              "        <tr>\n",
              "            <td>4</td>\n",
              "            <td>267</td>\n",
              "            <td>PANYANGARA</td>\n",
              "            <td>KOTIDO</td>\n",
              "            <td>65704</td>\n",
              "            <td>880955930</td>\n",
              "            <td>Y</td>\n",
              "            <td>373.8369255</td>\n",
              "            <td>1283.859882</td>\n",
              "            <td>10398.24939</td>\n",
              "            <td>10111.198129999999</td>\n",
              "            <td>172.6119139</td>\n",
              "            <td>3779939.224</td>\n",
              "            <td>221609.5114</td>\n",
              "        </tr>\n",
              "    </tbody>\n",
              "</table>"
            ],
            "text/plain": [
              "[(0, 263, 'KACHERI', 'KOTIDO', 17244, 1067176155, 'Y', 354.20741069999997, 1137.467019, 7023.533691, 6434.342449, 528.1242294, 2279091.779, 600723.8929),\n",
              " (1, 264, 'KOTIDO', 'KOTIDO', 52771, 597575188, 'Y', 367.89052319999996, 1162.9966869999998, 13587.990759999999, 12455.59264, 824.7670809, 4582294.492, 959201.3825),\n",
              " (2, 265, 'KOTIDO TOWN COUNCIL', 'KOTIDO', 27389, 23972401, 'Y', 369.3141771, 1167.005832, 1656.5318550000002, 1520.322052, 8.561643817, 561476.4874, 9991.488268000001),\n",
              " (3, 266, 'NAKAPERIMORU', 'KOTIDO', 38775, 419111591, 'Y', 283.3245689, 852.3665784, 7087.823334000001, 6761.488901000001, 45.72171184, 1915695.928, 38971.65908),\n",
              " (4, 267, 'PANYANGARA', 'KOTIDO', 65704, 880955930, 'Y', 373.8369255, 1283.859882, 10398.24939, 10111.198129999999, 172.6119139, 3779939.224, 221609.5114)]"
            ]
          },
          "metadata": {
            "tags": []
          },
          "execution_count": 12
        }
      ]
    },
    {
      "cell_type": "code",
      "metadata": {
        "id": "P4BEXYjLeAi3"
      },
      "source": [
        ""
      ],
      "execution_count": 12,
      "outputs": []
    },
    {
      "cell_type": "markdown",
      "metadata": {
        "id": "dZZxYLKasA_1"
      },
      "source": [
        "# 1. Display a list of Sub Counties and their population and areas"
      ]
    },
    {
      "cell_type": "code",
      "metadata": {
        "id": "yoEM6KS1sUpI",
        "colab": {
          "base_uri": "https://localhost:8080/",
          "height": 1000
        },
        "outputId": "a80b1bc8-c415-459d-c7a8-89f4e34b1ff7"
      },
      "source": [
        "%%sql\r\n",
        "SELECT SUBCOUNTY_NAME, POP, AREA\r\n",
        "FROM Uganda;"
      ],
      "execution_count": 13,
      "outputs": [
        {
          "output_type": "stream",
          "text": [
            " * sqlite://\n",
            "Done.\n"
          ],
          "name": "stdout"
        },
        {
          "output_type": "execute_result",
          "data": {
            "text/html": [
              "<table>\n",
              "    <thead>\n",
              "        <tr>\n",
              "            <th>SUBCOUNTY_NAME</th>\n",
              "            <th>POP</th>\n",
              "            <th>Area</th>\n",
              "        </tr>\n",
              "    </thead>\n",
              "    <tbody>\n",
              "        <tr>\n",
              "            <td>KACHERI</td>\n",
              "            <td>17244</td>\n",
              "            <td>1067176155</td>\n",
              "        </tr>\n",
              "        <tr>\n",
              "            <td>KOTIDO</td>\n",
              "            <td>52771</td>\n",
              "            <td>597575188</td>\n",
              "        </tr>\n",
              "        <tr>\n",
              "            <td>KOTIDO TOWN COUNCIL</td>\n",
              "            <td>27389</td>\n",
              "            <td>23972401</td>\n",
              "        </tr>\n",
              "        <tr>\n",
              "            <td>NAKAPERIMORU</td>\n",
              "            <td>38775</td>\n",
              "            <td>419111591</td>\n",
              "        </tr>\n",
              "        <tr>\n",
              "            <td>PANYANGARA</td>\n",
              "            <td>65704</td>\n",
              "            <td>880955930</td>\n",
              "        </tr>\n",
              "        <tr>\n",
              "            <td>RENGEN</td>\n",
              "            <td>41273</td>\n",
              "            <td>652744859</td>\n",
              "        </tr>\n",
              "        <tr>\n",
              "            <td>KAABONG  EAST</td>\n",
              "            <td>42221</td>\n",
              "            <td>60801942</td>\n",
              "        </tr>\n",
              "        <tr>\n",
              "            <td>KAABONG TOWN COUNCIL</td>\n",
              "            <td>38857</td>\n",
              "            <td>13071455</td>\n",
              "        </tr>\n",
              "        <tr>\n",
              "            <td>KAABONG WEST</td>\n",
              "            <td>41454</td>\n",
              "            <td>67612362</td>\n",
              "        </tr>\n",
              "        <tr>\n",
              "            <td>KALAPATA</td>\n",
              "            <td>99203</td>\n",
              "            <td>223116860</td>\n",
              "        </tr>\n",
              "        <tr>\n",
              "            <td>KAMION</td>\n",
              "            <td>60070</td>\n",
              "            <td>1199409465</td>\n",
              "        </tr>\n",
              "        <tr>\n",
              "            <td>KAPEDO</td>\n",
              "            <td>33951</td>\n",
              "            <td>304557831</td>\n",
              "        </tr>\n",
              "        <tr>\n",
              "            <td>KATHILE</td>\n",
              "            <td>56870</td>\n",
              "            <td>228457417</td>\n",
              "        </tr>\n",
              "        <tr>\n",
              "            <td>KAWALAKOL</td>\n",
              "            <td>37691</td>\n",
              "            <td>1742041261</td>\n",
              "        </tr>\n",
              "        <tr>\n",
              "            <td>LOBALANGIT</td>\n",
              "            <td>22907</td>\n",
              "            <td>302572789</td>\n",
              "        </tr>\n",
              "        <tr>\n",
              "            <td>LODIKO</td>\n",
              "            <td>31820</td>\n",
              "            <td>397700845</td>\n",
              "        </tr>\n",
              "        <tr>\n",
              "            <td>LOLELIA</td>\n",
              "            <td>100919</td>\n",
              "            <td>1069331387</td>\n",
              "        </tr>\n",
              "        <tr>\n",
              "            <td>LOYORO</td>\n",
              "            <td>16608</td>\n",
              "            <td>1330019236</td>\n",
              "        </tr>\n",
              "        <tr>\n",
              "            <td>NAPORE (KARENGA)</td>\n",
              "            <td>20394</td>\n",
              "            <td>309577387</td>\n",
              "        </tr>\n",
              "        <tr>\n",
              "            <td>SIDOK</td>\n",
              "            <td>24092</td>\n",
              "            <td>125330583</td>\n",
              "        </tr>\n",
              "        <tr>\n",
              "            <td>ABIM</td>\n",
              "            <td>14377</td>\n",
              "            <td>188613057</td>\n",
              "        </tr>\n",
              "        <tr>\n",
              "            <td>ABIM TOWN COUNCIL</td>\n",
              "            <td>11489</td>\n",
              "            <td>115941152</td>\n",
              "        </tr>\n",
              "        <tr>\n",
              "            <td>ALEREK</td>\n",
              "            <td>12573</td>\n",
              "            <td>1255760525</td>\n",
              "        </tr>\n",
              "        <tr>\n",
              "            <td>LOTUKEI</td>\n",
              "            <td>18641</td>\n",
              "            <td>191684465</td>\n",
              "        </tr>\n",
              "        <tr>\n",
              "            <td>MORULEM</td>\n",
              "            <td>16834</td>\n",
              "            <td>250364895</td>\n",
              "        </tr>\n",
              "        <tr>\n",
              "            <td>KARITA</td>\n",
              "            <td>45015</td>\n",
              "            <td>658008801</td>\n",
              "        </tr>\n",
              "        <tr>\n",
              "            <td>LOROO</td>\n",
              "            <td>22541</td>\n",
              "            <td>371970302</td>\n",
              "        </tr>\n",
              "        <tr>\n",
              "            <td>AMUDAT</td>\n",
              "            <td>30181</td>\n",
              "            <td>596393139</td>\n",
              "        </tr>\n",
              "        <tr>\n",
              "            <td>AMUDAT TOWN COUNCIL</td>\n",
              "            <td>4053</td>\n",
              "            <td>17207110</td>\n",
              "        </tr>\n",
              "        <tr>\n",
              "            <td>KATIKEKILE</td>\n",
              "            <td>11772</td>\n",
              "            <td>277451997</td>\n",
              "        </tr>\n",
              "        <tr>\n",
              "            <td>NADUNGET</td>\n",
              "            <td>42115</td>\n",
              "            <td>596023780</td>\n",
              "        </tr>\n",
              "        <tr>\n",
              "            <td>TAPAC</td>\n",
              "            <td>21999</td>\n",
              "            <td>622266516</td>\n",
              "        </tr>\n",
              "        <tr>\n",
              "            <td>NORTHERN DIVISION</td>\n",
              "            <td>7161</td>\n",
              "            <td>2738777</td>\n",
              "        </tr>\n",
              "        <tr>\n",
              "            <td>SOUTHERN DIVISION</td>\n",
              "            <td>3272</td>\n",
              "            <td>2121209</td>\n",
              "        </tr>\n",
              "        <tr>\n",
              "            <td>LOREGAE</td>\n",
              "            <td>26644</td>\n",
              "            <td>928683431</td>\n",
              "        </tr>\n",
              "        <tr>\n",
              "            <td>NAKAPIRIPIRIT TOWN COUNCIL</td>\n",
              "            <td>1418</td>\n",
              "            <td>4673094</td>\n",
              "        </tr>\n",
              "        <tr>\n",
              "            <td>NAMALU</td>\n",
              "            <td>25905</td>\n",
              "            <td>553067364</td>\n",
              "        </tr>\n",
              "        <tr>\n",
              "            <td>KAKOMONGOLE</td>\n",
              "            <td>15960</td>\n",
              "            <td>312709097</td>\n",
              "        </tr>\n",
              "        <tr>\n",
              "            <td>LOLACHAT</td>\n",
              "            <td>22801</td>\n",
              "            <td>642401705</td>\n",
              "        </tr>\n",
              "        <tr>\n",
              "            <td>LORENGEDWAT</td>\n",
              "            <td>9929</td>\n",
              "            <td>435714604</td>\n",
              "        </tr>\n",
              "        <tr>\n",
              "            <td>NABILATUK</td>\n",
              "            <td>27534</td>\n",
              "            <td>499776866</td>\n",
              "        </tr>\n",
              "        <tr>\n",
              "            <td>IRIIRI</td>\n",
              "            <td>46979</td>\n",
              "            <td>1030623258</td>\n",
              "        </tr>\n",
              "        <tr>\n",
              "            <td>LOPEEI</td>\n",
              "            <td>18815</td>\n",
              "            <td>790782350</td>\n",
              "        </tr>\n",
              "        <tr>\n",
              "            <td>LORENGECORA</td>\n",
              "            <td>2503</td>\n",
              "            <td>118997955</td>\n",
              "        </tr>\n",
              "        <tr>\n",
              "            <td>LOTOME</td>\n",
              "            <td>17834</td>\n",
              "            <td>125857565</td>\n",
              "        </tr>\n",
              "        <tr>\n",
              "            <td>MATANY</td>\n",
              "            <td>29495</td>\n",
              "            <td>338252511</td>\n",
              "        </tr>\n",
              "        <tr>\n",
              "            <td>NAPAK TOWN COUNCIL</td>\n",
              "            <td>8010</td>\n",
              "            <td>150906375</td>\n",
              "        </tr>\n",
              "        <tr>\n",
              "            <td>NGOLERIET</td>\n",
              "            <td>20790</td>\n",
              "            <td>158887552</td>\n",
              "        </tr>\n",
              "        <tr>\n",
              "            <td>NYAKWAE</td>\n",
              "            <td>16470</td>\n",
              "            <td>769609687</td>\n",
              "        </tr>\n",
              "        <tr>\n",
              "            <td>LOKOPO</td>\n",
              "            <td>23200</td>\n",
              "            <td>1794470536</td>\n",
              "        </tr>\n",
              "        <tr>\n",
              "            <td>RUPA</td>\n",
              "            <td>41493</td>\n",
              "            <td>2069554899</td>\n",
              "        </tr>\n",
              "        <tr>\n",
              "            <td>MORUITA</td>\n",
              "            <td>16588</td>\n",
              "            <td>839293722</td>\n",
              "        </tr>\n",
              "    </tbody>\n",
              "</table>"
            ],
            "text/plain": [
              "[('KACHERI', 17244, 1067176155),\n",
              " ('KOTIDO', 52771, 597575188),\n",
              " ('KOTIDO TOWN COUNCIL', 27389, 23972401),\n",
              " ('NAKAPERIMORU', 38775, 419111591),\n",
              " ('PANYANGARA', 65704, 880955930),\n",
              " ('RENGEN', 41273, 652744859),\n",
              " ('KAABONG  EAST', 42221, 60801942),\n",
              " ('KAABONG TOWN COUNCIL', 38857, 13071455),\n",
              " ('KAABONG WEST', 41454, 67612362),\n",
              " ('KALAPATA', 99203, 223116860),\n",
              " ('KAMION', 60070, 1199409465),\n",
              " ('KAPEDO', 33951, 304557831),\n",
              " ('KATHILE', 56870, 228457417),\n",
              " ('KAWALAKOL', 37691, 1742041261),\n",
              " ('LOBALANGIT', 22907, 302572789),\n",
              " ('LODIKO', 31820, 397700845),\n",
              " ('LOLELIA', 100919, 1069331387),\n",
              " ('LOYORO', 16608, 1330019236),\n",
              " ('NAPORE (KARENGA)', 20394, 309577387),\n",
              " ('SIDOK', 24092, 125330583),\n",
              " ('ABIM', 14377, 188613057),\n",
              " ('ABIM TOWN COUNCIL', 11489, 115941152),\n",
              " ('ALEREK', 12573, 1255760525),\n",
              " ('LOTUKEI', 18641, 191684465),\n",
              " ('MORULEM', 16834, 250364895),\n",
              " ('KARITA', 45015, 658008801),\n",
              " ('LOROO', 22541, 371970302),\n",
              " ('AMUDAT', 30181, 596393139),\n",
              " ('AMUDAT TOWN COUNCIL', 4053, 17207110),\n",
              " ('KATIKEKILE', 11772, 277451997),\n",
              " ('NADUNGET', 42115, 596023780),\n",
              " ('TAPAC', 21999, 622266516),\n",
              " ('NORTHERN DIVISION', 7161, 2738777),\n",
              " ('SOUTHERN DIVISION', 3272, 2121209),\n",
              " ('LOREGAE', 26644, 928683431),\n",
              " ('NAKAPIRIPIRIT TOWN COUNCIL', 1418, 4673094),\n",
              " ('NAMALU', 25905, 553067364),\n",
              " ('KAKOMONGOLE', 15960, 312709097),\n",
              " ('LOLACHAT', 22801, 642401705),\n",
              " ('LORENGEDWAT', 9929, 435714604),\n",
              " ('NABILATUK', 27534, 499776866),\n",
              " ('IRIIRI', 46979, 1030623258),\n",
              " ('LOPEEI', 18815, 790782350),\n",
              " ('LORENGECORA', 2503, 118997955),\n",
              " ('LOTOME', 17834, 125857565),\n",
              " ('MATANY', 29495, 338252511),\n",
              " ('NAPAK TOWN COUNCIL', 8010, 150906375),\n",
              " ('NGOLERIET', 20790, 158887552),\n",
              " ('NYAKWAE', 16470, 769609687),\n",
              " ('LOKOPO', 23200, 1794470536),\n",
              " ('RUPA', 41493, 2069554899),\n",
              " ('MORUITA', 16588, 839293722)]"
            ]
          },
          "metadata": {
            "tags": []
          },
          "execution_count": 13
        }
      ]
    },
    {
      "cell_type": "code",
      "metadata": {
        "id": "kvKq9HfguthY"
      },
      "source": [
        ""
      ],
      "execution_count": 13,
      "outputs": []
    },
    {
      "cell_type": "markdown",
      "metadata": {
        "id": "Lfeo6IA5vovW"
      },
      "source": [
        "# 2. Sort the list of districts by total crop area (descending order)"
      ]
    },
    {
      "cell_type": "code",
      "metadata": {
        "id": "sHdaJa4xvzBl",
        "colab": {
          "base_uri": "https://localhost:8080/",
          "height": 1000
        },
        "outputId": "418e43e9-92ae-48df-9cc4-40fbbb5ab364"
      },
      "source": [
        "%%sql\r\n",
        "SELECT DISTRICT_NAME, Crop_Area_Ha\r\n",
        "FROM Uganda\r\n",
        "ORDER BY Crop_Area_Ha Desc;"
      ],
      "execution_count": 14,
      "outputs": [
        {
          "output_type": "stream",
          "text": [
            " * sqlite://\n",
            "Done.\n"
          ],
          "name": "stdout"
        },
        {
          "output_type": "execute_result",
          "data": {
            "text/html": [
              "<table>\n",
              "    <thead>\n",
              "        <tr>\n",
              "            <th>DISTRICT_NAME</th>\n",
              "            <th>Crop_Area_Ha</th>\n",
              "        </tr>\n",
              "    </thead>\n",
              "    <tbody>\n",
              "        <tr>\n",
              "            <td>KOTIDO</td>\n",
              "            <td>13587.990759999999</td>\n",
              "        </tr>\n",
              "        <tr>\n",
              "            <td>KOTIDO</td>\n",
              "            <td>13278.52043</td>\n",
              "        </tr>\n",
              "        <tr>\n",
              "            <td>KOTIDO</td>\n",
              "            <td>10398.24939</td>\n",
              "        </tr>\n",
              "        <tr>\n",
              "            <td>KOTIDO</td>\n",
              "            <td>7087.823334000001</td>\n",
              "        </tr>\n",
              "        <tr>\n",
              "            <td>KOTIDO</td>\n",
              "            <td>7023.533691</td>\n",
              "        </tr>\n",
              "        <tr>\n",
              "            <td>KAABONG</td>\n",
              "            <td>6890.699234000001</td>\n",
              "        </tr>\n",
              "        <tr>\n",
              "            <td>NAPAK</td>\n",
              "            <td>6471.047334000001</td>\n",
              "        </tr>\n",
              "        <tr>\n",
              "            <td>NAKAPIRIPIRIT</td>\n",
              "            <td>5793.5076229999995</td>\n",
              "        </tr>\n",
              "        <tr>\n",
              "            <td>NAKAPIRIPIRIT</td>\n",
              "            <td>5759.618906000001</td>\n",
              "        </tr>\n",
              "        <tr>\n",
              "            <td>NAPAK</td>\n",
              "            <td>5473.443674</td>\n",
              "        </tr>\n",
              "        <tr>\n",
              "            <td>NAKAPIRIPIRIT</td>\n",
              "            <td>5079.779088</td>\n",
              "        </tr>\n",
              "        <tr>\n",
              "            <td>KAABONG</td>\n",
              "            <td>3934.432233</td>\n",
              "        </tr>\n",
              "        <tr>\n",
              "            <td>NAKAPIRIPIRIT</td>\n",
              "            <td>3276.653762</td>\n",
              "        </tr>\n",
              "        <tr>\n",
              "            <td>NAKAPIRIPIRIT</td>\n",
              "            <td>3264.534948</td>\n",
              "        </tr>\n",
              "        <tr>\n",
              "            <td>NAPAK</td>\n",
              "            <td>3120.318045</td>\n",
              "        </tr>\n",
              "        <tr>\n",
              "            <td>NAPAK</td>\n",
              "            <td>2990.847377</td>\n",
              "        </tr>\n",
              "        <tr>\n",
              "            <td>KAABONG</td>\n",
              "            <td>2834.349905</td>\n",
              "        </tr>\n",
              "        <tr>\n",
              "            <td>KAABONG</td>\n",
              "            <td>2700.676313</td>\n",
              "        </tr>\n",
              "        <tr>\n",
              "            <td>AMUDAT</td>\n",
              "            <td>2513.27183</td>\n",
              "        </tr>\n",
              "        <tr>\n",
              "            <td>MOROTO</td>\n",
              "            <td>2480.1219</td>\n",
              "        </tr>\n",
              "        <tr>\n",
              "            <td>KAABONG</td>\n",
              "            <td>2365.259806</td>\n",
              "        </tr>\n",
              "        <tr>\n",
              "            <td>MOROTO</td>\n",
              "            <td>2217.2907170000003</td>\n",
              "        </tr>\n",
              "        <tr>\n",
              "            <td>NAKAPIRIPIRIT</td>\n",
              "            <td>2008.0681690000001</td>\n",
              "        </tr>\n",
              "        <tr>\n",
              "            <td>KAABONG</td>\n",
              "            <td>1890.248613</td>\n",
              "        </tr>\n",
              "        <tr>\n",
              "            <td>NAPAK</td>\n",
              "            <td>1849.966589</td>\n",
              "        </tr>\n",
              "        <tr>\n",
              "            <td>KOTIDO</td>\n",
              "            <td>1656.5318550000002</td>\n",
              "        </tr>\n",
              "        <tr>\n",
              "            <td>AMUDAT</td>\n",
              "            <td>1651.99842</td>\n",
              "        </tr>\n",
              "        <tr>\n",
              "            <td>AMUDAT</td>\n",
              "            <td>1539.401382</td>\n",
              "        </tr>\n",
              "        <tr>\n",
              "            <td>KAABONG</td>\n",
              "            <td>1494.047587</td>\n",
              "        </tr>\n",
              "        <tr>\n",
              "            <td>KAABONG</td>\n",
              "            <td>1491.771813</td>\n",
              "        </tr>\n",
              "        <tr>\n",
              "            <td>ABIM</td>\n",
              "            <td>1266.109868</td>\n",
              "        </tr>\n",
              "        <tr>\n",
              "            <td>NAPAK</td>\n",
              "            <td>1215.227445</td>\n",
              "        </tr>\n",
              "        <tr>\n",
              "            <td>NAKAPIRIPIRIT</td>\n",
              "            <td>1161.3902289999999</td>\n",
              "        </tr>\n",
              "        <tr>\n",
              "            <td>MOROTO</td>\n",
              "            <td>1111.664207</td>\n",
              "        </tr>\n",
              "        <tr>\n",
              "            <td>NAPAK</td>\n",
              "            <td>1031.196285</td>\n",
              "        </tr>\n",
              "        <tr>\n",
              "            <td>KAABONG</td>\n",
              "            <td>1021.31699</td>\n",
              "        </tr>\n",
              "        <tr>\n",
              "            <td>ABIM</td>\n",
              "            <td>999.3715888</td>\n",
              "        </tr>\n",
              "        <tr>\n",
              "            <td>KAABONG</td>\n",
              "            <td>997.1610206</td>\n",
              "        </tr>\n",
              "        <tr>\n",
              "            <td>KAABONG</td>\n",
              "            <td>967.3367266</td>\n",
              "        </tr>\n",
              "        <tr>\n",
              "            <td>KAABONG</td>\n",
              "            <td>957.4939457999999</td>\n",
              "        </tr>\n",
              "        <tr>\n",
              "            <td>ABIM</td>\n",
              "            <td>925.0541302000001</td>\n",
              "        </tr>\n",
              "        <tr>\n",
              "            <td>ABIM</td>\n",
              "            <td>792.8987889</td>\n",
              "        </tr>\n",
              "        <tr>\n",
              "            <td>NAPAK</td>\n",
              "            <td>792.2492731000001</td>\n",
              "        </tr>\n",
              "        <tr>\n",
              "            <td>ABIM</td>\n",
              "            <td>788.4628001</td>\n",
              "        </tr>\n",
              "        <tr>\n",
              "            <td>ABIM</td>\n",
              "            <td>698.1712182</td>\n",
              "        </tr>\n",
              "        <tr>\n",
              "            <td>KAABONG</td>\n",
              "            <td>401.7978207</td>\n",
              "        </tr>\n",
              "        <tr>\n",
              "            <td>KAABONG</td>\n",
              "            <td>175.08052659999998</td>\n",
              "        </tr>\n",
              "        <tr>\n",
              "            <td>MOROTO</td>\n",
              "            <td>145.243518</td>\n",
              "        </tr>\n",
              "        <tr>\n",
              "            <td>AMUDAT</td>\n",
              "            <td>60.77208552</td>\n",
              "        </tr>\n",
              "        <tr>\n",
              "            <td>NAKAPIRIPIRIT</td>\n",
              "            <td>29.14576036</td>\n",
              "        </tr>\n",
              "        <tr>\n",
              "            <td>MOROTO</td>\n",
              "            <td>0.322315707</td>\n",
              "        </tr>\n",
              "        <tr>\n",
              "            <td>MOROTO</td>\n",
              "            <td>0.17139046100000002</td>\n",
              "        </tr>\n",
              "    </tbody>\n",
              "</table>"
            ],
            "text/plain": [
              "[('KOTIDO', 13587.990759999999),\n",
              " ('KOTIDO', 13278.52043),\n",
              " ('KOTIDO', 10398.24939),\n",
              " ('KOTIDO', 7087.823334000001),\n",
              " ('KOTIDO', 7023.533691),\n",
              " ('KAABONG', 6890.699234000001),\n",
              " ('NAPAK', 6471.047334000001),\n",
              " ('NAKAPIRIPIRIT', 5793.5076229999995),\n",
              " ('NAKAPIRIPIRIT', 5759.618906000001),\n",
              " ('NAPAK', 5473.443674),\n",
              " ('NAKAPIRIPIRIT', 5079.779088),\n",
              " ('KAABONG', 3934.432233),\n",
              " ('NAKAPIRIPIRIT', 3276.653762),\n",
              " ('NAKAPIRIPIRIT', 3264.534948),\n",
              " ('NAPAK', 3120.318045),\n",
              " ('NAPAK', 2990.847377),\n",
              " ('KAABONG', 2834.349905),\n",
              " ('KAABONG', 2700.676313),\n",
              " ('AMUDAT', 2513.27183),\n",
              " ('MOROTO', 2480.1219),\n",
              " ('KAABONG', 2365.259806),\n",
              " ('MOROTO', 2217.2907170000003),\n",
              " ('NAKAPIRIPIRIT', 2008.0681690000001),\n",
              " ('KAABONG', 1890.248613),\n",
              " ('NAPAK', 1849.966589),\n",
              " ('KOTIDO', 1656.5318550000002),\n",
              " ('AMUDAT', 1651.99842),\n",
              " ('AMUDAT', 1539.401382),\n",
              " ('KAABONG', 1494.047587),\n",
              " ('KAABONG', 1491.771813),\n",
              " ('ABIM', 1266.109868),\n",
              " ('NAPAK', 1215.227445),\n",
              " ('NAKAPIRIPIRIT', 1161.3902289999999),\n",
              " ('MOROTO', 1111.664207),\n",
              " ('NAPAK', 1031.196285),\n",
              " ('KAABONG', 1021.31699),\n",
              " ('ABIM', 999.3715888),\n",
              " ('KAABONG', 997.1610206),\n",
              " ('KAABONG', 967.3367266),\n",
              " ('KAABONG', 957.4939457999999),\n",
              " ('ABIM', 925.0541302000001),\n",
              " ('ABIM', 792.8987889),\n",
              " ('NAPAK', 792.2492731000001),\n",
              " ('ABIM', 788.4628001),\n",
              " ('ABIM', 698.1712182),\n",
              " ('KAABONG', 401.7978207),\n",
              " ('KAABONG', 175.08052659999998),\n",
              " ('MOROTO', 145.243518),\n",
              " ('AMUDAT', 60.77208552),\n",
              " ('NAKAPIRIPIRIT', 29.14576036),\n",
              " ('MOROTO', 0.322315707),\n",
              " ('MOROTO', 0.17139046100000002)]"
            ]
          },
          "metadata": {
            "tags": []
          },
          "execution_count": 14
        }
      ]
    },
    {
      "cell_type": "code",
      "metadata": {
        "id": "vBZ556yRwlhE"
      },
      "source": [
        ""
      ],
      "execution_count": 14,
      "outputs": []
    },
    {
      "cell_type": "markdown",
      "metadata": {
        "id": "Gxil16e5zV-_"
      },
      "source": [
        "# 3. Select only the Sub counties from the Moroto district, order them alphabetically and show their production of sorghum"
      ]
    },
    {
      "cell_type": "code",
      "metadata": {
        "id": "QGGsGby9zvga",
        "colab": {
          "base_uri": "https://localhost:8080/",
          "height": 200
        },
        "outputId": "0f6f6796-dcf0-476e-9504-3650448067c9"
      },
      "source": [
        "%%sql\r\n",
        "SELECT SUBCOUNTY_NAME, S_Prod_Tot \r\n",
        "FROM Uganda\r\n",
        "WHERE DISTRICT_NAME = 'MOROTO'\r\n",
        "ORDER BY SUBCOUNTY_NAME ASC;\r\n"
      ],
      "execution_count": 15,
      "outputs": [
        {
          "output_type": "stream",
          "text": [
            " * sqlite://\n",
            "Done.\n"
          ],
          "name": "stdout"
        },
        {
          "output_type": "execute_result",
          "data": {
            "text/html": [
              "<table>\n",
              "    <thead>\n",
              "        <tr>\n",
              "            <th>SUBCOUNTY_NAME</th>\n",
              "            <th>S_Prod_Tot</th>\n",
              "        </tr>\n",
              "    </thead>\n",
              "    <tbody>\n",
              "        <tr>\n",
              "            <td>KATIKEKILE</td>\n",
              "            <td>9379.029413</td>\n",
              "        </tr>\n",
              "        <tr>\n",
              "            <td>NADUNGET</td>\n",
              "            <td>321630.539</td>\n",
              "        </tr>\n",
              "        <tr>\n",
              "            <td>NORTHERN DIVISION</td>\n",
              "            <td>17.28125956</td>\n",
              "        </tr>\n",
              "        <tr>\n",
              "            <td>RUPA</td>\n",
              "            <td>227298.5184</td>\n",
              "        </tr>\n",
              "        <tr>\n",
              "            <td>SOUTHERN DIVISION</td>\n",
              "            <td>19.67486547</td>\n",
              "        </tr>\n",
              "        <tr>\n",
              "            <td>TAPAC</td>\n",
              "            <td>49251.66081</td>\n",
              "        </tr>\n",
              "    </tbody>\n",
              "</table>"
            ],
            "text/plain": [
              "[('KATIKEKILE', 9379.029413),\n",
              " ('NADUNGET', 321630.539),\n",
              " ('NORTHERN DIVISION', 17.28125956),\n",
              " ('RUPA', 227298.5184),\n",
              " ('SOUTHERN DIVISION', 19.67486547),\n",
              " ('TAPAC', 49251.66081)]"
            ]
          },
          "metadata": {
            "tags": []
          },
          "execution_count": 15
        }
      ]
    },
    {
      "cell_type": "markdown",
      "metadata": {
        "id": "VIBTMXAI-IgT"
      },
      "source": [
        "# 4. Compute the total Maize production per District"
      ]
    },
    {
      "cell_type": "code",
      "metadata": {
        "id": "3GWFolkK2CcY",
        "colab": {
          "base_uri": "https://localhost:8080/",
          "height": 221
        },
        "outputId": "40fa0790-6c4f-4ca2-84f2-7bf02f063ce1"
      },
      "source": [
        "%%sql\r\n",
        "SELECT DISTRICT_NAME, SUM(M_Prod_Tot) as  M_Prod_Tot\r\n",
        "FROM Uganda \r\n",
        "GROUP BY DISTRICT_NAME;"
      ],
      "execution_count": 16,
      "outputs": [
        {
          "output_type": "stream",
          "text": [
            " * sqlite://\n",
            "Done.\n"
          ],
          "name": "stdout"
        },
        {
          "output_type": "execute_result",
          "data": {
            "text/html": [
              "<table>\n",
              "    <thead>\n",
              "        <tr>\n",
              "            <th>DISTRICT_NAME</th>\n",
              "            <th>M_Prod_Tot</th>\n",
              "        </tr>\n",
              "    </thead>\n",
              "    <tbody>\n",
              "        <tr>\n",
              "            <td>ABIM</td>\n",
              "            <td>1922133.1297</td>\n",
              "        </tr>\n",
              "        <tr>\n",
              "            <td>AMUDAT</td>\n",
              "            <td>3546469.3324990002</td>\n",
              "        </tr>\n",
              "        <tr>\n",
              "            <td>KAABONG</td>\n",
              "            <td>6990361.6143000005</td>\n",
              "        </tr>\n",
              "        <tr>\n",
              "            <td>KOTIDO</td>\n",
              "            <td>2010179.0731479998</td>\n",
              "        </tr>\n",
              "        <tr>\n",
              "            <td>MOROTO</td>\n",
              "            <td>422116.06882464996</td>\n",
              "        </tr>\n",
              "        <tr>\n",
              "            <td>NAKAPIRIPIRIT</td>\n",
              "            <td>8125156.24546</td>\n",
              "        </tr>\n",
              "        <tr>\n",
              "            <td>NAPAK</td>\n",
              "            <td>5587379.38888</td>\n",
              "        </tr>\n",
              "    </tbody>\n",
              "</table>"
            ],
            "text/plain": [
              "[('ABIM', 1922133.1297),\n",
              " ('AMUDAT', 3546469.3324990002),\n",
              " ('KAABONG', 6990361.6143000005),\n",
              " ('KOTIDO', 2010179.0731479998),\n",
              " ('MOROTO', 422116.06882464996),\n",
              " ('NAKAPIRIPIRIT', 8125156.24546),\n",
              " ('NAPAK', 5587379.38888)]"
            ]
          },
          "metadata": {
            "tags": []
          },
          "execution_count": 16
        }
      ]
    },
    {
      "cell_type": "code",
      "metadata": {
        "id": "L7wBRjrPsoQN",
        "colab": {
          "base_uri": "https://localhost:8080/",
          "height": 240
        },
        "outputId": "ceadc866-9722-405b-d85d-d24eb680699b"
      },
      "source": [
        "Uganda.head()"
      ],
      "execution_count": 17,
      "outputs": [
        {
          "output_type": "execute_result",
          "data": {
            "text/html": [
              "<div>\n",
              "<style scoped>\n",
              "    .dataframe tbody tr th:only-of-type {\n",
              "        vertical-align: middle;\n",
              "    }\n",
              "\n",
              "    .dataframe tbody tr th {\n",
              "        vertical-align: top;\n",
              "    }\n",
              "\n",
              "    .dataframe thead th {\n",
              "        text-align: right;\n",
              "    }\n",
              "</style>\n",
              "<table border=\"1\" class=\"dataframe\">\n",
              "  <thead>\n",
              "    <tr style=\"text-align: right;\">\n",
              "      <th></th>\n",
              "      <th>OBJECTID</th>\n",
              "      <th>SUBCOUNTY_NAME</th>\n",
              "      <th>DISTRICT_NAME</th>\n",
              "      <th>POP</th>\n",
              "      <th>Area</th>\n",
              "      <th>Karamoja</th>\n",
              "      <th>S_Yield_Ha</th>\n",
              "      <th>M_Yield_Ha</th>\n",
              "      <th>Crop_Area_Ha</th>\n",
              "      <th>S_Area_Ha</th>\n",
              "      <th>M_Area_Ha</th>\n",
              "      <th>S_Prod_Tot</th>\n",
              "      <th>M_Prod_Tot</th>\n",
              "    </tr>\n",
              "  </thead>\n",
              "  <tbody>\n",
              "    <tr>\n",
              "      <th>0</th>\n",
              "      <td>263</td>\n",
              "      <td>KACHERI</td>\n",
              "      <td>KOTIDO</td>\n",
              "      <td>17244</td>\n",
              "      <td>1067176155</td>\n",
              "      <td>Y</td>\n",
              "      <td>354.207411</td>\n",
              "      <td>1137.467019</td>\n",
              "      <td>7023.533691</td>\n",
              "      <td>6434.342449</td>\n",
              "      <td>528.124229</td>\n",
              "      <td>2.279092e+06</td>\n",
              "      <td>600723.892900</td>\n",
              "    </tr>\n",
              "    <tr>\n",
              "      <th>1</th>\n",
              "      <td>264</td>\n",
              "      <td>KOTIDO</td>\n",
              "      <td>KOTIDO</td>\n",
              "      <td>52771</td>\n",
              "      <td>597575188</td>\n",
              "      <td>Y</td>\n",
              "      <td>367.890523</td>\n",
              "      <td>1162.996687</td>\n",
              "      <td>13587.990760</td>\n",
              "      <td>12455.592640</td>\n",
              "      <td>824.767081</td>\n",
              "      <td>4.582294e+06</td>\n",
              "      <td>959201.382500</td>\n",
              "    </tr>\n",
              "    <tr>\n",
              "      <th>2</th>\n",
              "      <td>265</td>\n",
              "      <td>KOTIDO TOWN COUNCIL</td>\n",
              "      <td>KOTIDO</td>\n",
              "      <td>27389</td>\n",
              "      <td>23972401</td>\n",
              "      <td>Y</td>\n",
              "      <td>369.314177</td>\n",
              "      <td>1167.005832</td>\n",
              "      <td>1656.531855</td>\n",
              "      <td>1520.322052</td>\n",
              "      <td>8.561644</td>\n",
              "      <td>5.614765e+05</td>\n",
              "      <td>9991.488268</td>\n",
              "    </tr>\n",
              "    <tr>\n",
              "      <th>3</th>\n",
              "      <td>266</td>\n",
              "      <td>NAKAPERIMORU</td>\n",
              "      <td>KOTIDO</td>\n",
              "      <td>38775</td>\n",
              "      <td>419111591</td>\n",
              "      <td>Y</td>\n",
              "      <td>283.324569</td>\n",
              "      <td>852.366578</td>\n",
              "      <td>7087.823334</td>\n",
              "      <td>6761.488901</td>\n",
              "      <td>45.721712</td>\n",
              "      <td>1.915696e+06</td>\n",
              "      <td>38971.659080</td>\n",
              "    </tr>\n",
              "    <tr>\n",
              "      <th>4</th>\n",
              "      <td>267</td>\n",
              "      <td>PANYANGARA</td>\n",
              "      <td>KOTIDO</td>\n",
              "      <td>65704</td>\n",
              "      <td>880955930</td>\n",
              "      <td>Y</td>\n",
              "      <td>373.836926</td>\n",
              "      <td>1283.859882</td>\n",
              "      <td>10398.249390</td>\n",
              "      <td>10111.198130</td>\n",
              "      <td>172.611914</td>\n",
              "      <td>3.779939e+06</td>\n",
              "      <td>221609.511400</td>\n",
              "    </tr>\n",
              "  </tbody>\n",
              "</table>\n",
              "</div>"
            ],
            "text/plain": [
              "   OBJECTID       SUBCOUNTY_NAME  ...    S_Prod_Tot     M_Prod_Tot\n",
              "0       263              KACHERI  ...  2.279092e+06  600723.892900\n",
              "1       264               KOTIDO  ...  4.582294e+06  959201.382500\n",
              "2       265  KOTIDO TOWN COUNCIL  ...  5.614765e+05    9991.488268\n",
              "3       266         NAKAPERIMORU  ...  1.915696e+06   38971.659080\n",
              "4       267           PANYANGARA  ...  3.779939e+06  221609.511400\n",
              "\n",
              "[5 rows x 13 columns]"
            ]
          },
          "metadata": {
            "tags": []
          },
          "execution_count": 17
        }
      ]
    }
  ]
}